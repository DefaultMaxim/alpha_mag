{
  "cells": [
    {
      "cell_type": "markdown",
      "metadata": {
        "id": "nFb3eKpKMHkC"
      },
      "source": [
        "# COLAB"
      ]
    },
    {
      "cell_type": "code",
      "execution_count": 1,
      "metadata": {
        "colab": {
          "base_uri": "https://localhost:8080/"
        },
        "id": "_KJvLQgVMKMf",
        "outputId": "8c3eac53-567c-406f-842b-b3d2c6b12c3e"
      },
      "outputs": [
        {
          "name": "stdout",
          "output_type": "stream",
          "text": [
            "Drive already mounted at /content/drive; to attempt to forcibly remount, call drive.mount(\"/content/drive\", force_remount=True).\n"
          ]
        }
      ],
      "source": [
        "from google.colab import drive\n",
        "drive.mount('/content/drive')\n",
        "\n",
        "ROOT_DIR = '/content/drive/MyDrive/alpha/data'"
      ]
    },
    {
      "cell_type": "code",
      "execution_count": 2,
      "metadata": {
        "colab": {
          "base_uri": "https://localhost:8080/"
        },
        "id": "KNEPA55tMi_T",
        "outputId": "dd87e9e3-a7ba-4d7c-92bf-6bdf3ef730eb"
      },
      "outputs": [
        {
          "name": "stdout",
          "output_type": "stream",
          "text": [
            "Requirement already satisfied: numpy==1.21.6 in /usr/local/lib/python3.10/dist-packages (1.21.6)\n",
            "Traceback (most recent call last):\n",
            "  File \"/usr/local/lib/python3.10/dist-packages/pip/_vendor/pkg_resources/__init__.py\", line 3108, in _dep_map\n",
            "    return self.__dep_map\n",
            "  File \"/usr/local/lib/python3.10/dist-packages/pip/_vendor/pkg_resources/__init__.py\", line 2901, in __getattr__\n",
            "    raise AttributeError(attr)\n",
            "AttributeError: _DistInfoDistribution__dep_map\n",
            "\n",
            "During handling of the above exception, another exception occurred:\n",
            "\n",
            "Traceback (most recent call last):\n",
            "  File \"/usr/local/lib/python3.10/dist-packages/pip/_internal/cli/base_command.py\", line 169, in exc_logging_wrapper\n",
            "    status = run_func(*args)\n",
            "  File \"/usr/local/lib/python3.10/dist-packages/pip/_internal/cli/req_command.py\", line 242, in wrapper\n",
            "    return func(self, options, args)\n",
            "  File \"/usr/local/lib/python3.10/dist-packages/pip/_internal/commands/install.py\", line 441, in run\n",
            "    conflicts = self._determine_conflicts(to_install)\n",
            "  File \"/usr/local/lib/python3.10/dist-packages/pip/_internal/commands/install.py\", line 572, in _determine_conflicts\n",
            "    return check_install_conflicts(to_install)\n",
            "  File \"/usr/local/lib/python3.10/dist-packages/pip/_internal/operations/check.py\", line 101, in check_install_conflicts\n",
            "    package_set, _ = create_package_set_from_installed()\n",
            "  File \"/usr/local/lib/python3.10/dist-packages/pip/_internal/operations/check.py\", line 42, in create_package_set_from_installed\n",
            "    dependencies = list(dist.iter_dependencies())\n",
            "  File \"/usr/local/lib/python3.10/dist-packages/pip/_internal/metadata/pkg_resources.py\", line 216, in iter_dependencies\n",
            "    return self._dist.requires(extras)\n",
            "  File \"/usr/local/lib/python3.10/dist-packages/pip/_vendor/pkg_resources/__init__.py\", line 2821, in requires\n",
            "    dm = self._dep_map\n",
            "  File \"/usr/local/lib/python3.10/dist-packages/pip/_vendor/pkg_resources/__init__.py\", line 3110, in _dep_map\n",
            "    self.__dep_map = self._compute_dependencies()\n",
            "  File \"/usr/local/lib/python3.10/dist-packages/pip/_vendor/pkg_resources/__init__.py\", line 3120, in _compute_dependencies\n",
            "    reqs.extend(parse_requirements(req))\n",
            "  File \"/usr/local/lib/python3.10/dist-packages/pip/_vendor/pkg_resources/__init__.py\", line 3173, in __init__\n",
            "    super(Requirement, self).__init__(requirement_string)\n",
            "  File \"/usr/local/lib/python3.10/dist-packages/pip/_vendor/packaging/requirements.py\", line 109, in __init__\n",
            "    if req.url:\n",
            "  File \"/usr/local/lib/python3.10/dist-packages/pip/_vendor/pyparsing/results.py\", line 420, in __getattr__\n",
            "    return self[name]\n",
            "  File \"/usr/local/lib/python3.10/dist-packages/pip/_vendor/pyparsing/results.py\", line 191, in __getitem__\n",
            "    def __getitem__(self, i):\n",
            "KeyboardInterrupt\n",
            "\n",
            "During handling of the above exception, another exception occurred:\n",
            "\n",
            "Traceback (most recent call last):\n",
            "  File \"/usr/local/bin/pip3\", line 8, in <module>\n",
            "    sys.exit(main())\n",
            "  File \"/usr/local/lib/python3.10/dist-packages/pip/_internal/cli/main.py\", line 79, in main\n",
            "    return command.main(cmd_args)\n",
            "  File \"/usr/local/lib/python3.10/dist-packages/pip/_internal/cli/base_command.py\", line 101, in main\n",
            "    return self._main(args)\n",
            "  File \"/usr/local/lib/python3.10/dist-packages/pip/_internal/cli/base_command.py\", line 223, in _main\n",
            "    return run(options, args)\n",
            "  File \"/usr/local/lib/python3.10/dist-packages/pip/_internal/cli/base_command.py\", line 206, in exc_logging_wrapper\n",
            "    logger.critical(\"Operation cancelled by user\")\n",
            "  File \"/usr/lib/python3.10/logging/__init__.py\", line 1524, in critical\n",
            "    self._log(CRITICAL, msg, args, **kwargs)\n",
            "  File \"/usr/lib/python3.10/logging/__init__.py\", line 1624, in _log\n",
            "    self.handle(record)\n",
            "  File \"/usr/lib/python3.10/logging/__init__.py\", line 1634, in handle\n",
            "    self.callHandlers(record)\n",
            "  File \"/usr/lib/python3.10/logging/__init__.py\", line 1696, in callHandlers\n",
            "    hdlr.handle(record)\n",
            "  File \"/usr/lib/python3.10/logging/__init__.py\", line 968, in handle\n",
            "    self.emit(record)\n",
            "  File \"/usr/local/lib/python3.10/dist-packages/pip/_internal/utils/logging.py\", line 177, in emit\n",
            "    self.console.print(renderable, overflow=\"ignore\", crop=False, style=style)\n",
            "  File \"/usr/local/lib/python3.10/dist-packages/pip/_vendor/rich/console.py\", line 1683, in print\n",
            "    render_options = self.options.update(\n",
            "  File \"/usr/local/lib/python3.10/dist-packages/pip/_vendor/rich/console.py\", line 981, in options\n",
            "    max_height=self.size.height,\n",
            "  File \"/usr/local/lib/python3.10/dist-packages/pip/_vendor/rich/console.py\", line 1031, in size\n",
            "    return ConsoleDimensions(\n",
            "  File \"<string>\", line 1, in <lambda>\n",
            "KeyboardInterrupt\n",
            "^C\n"
          ]
        }
      ],
      "source": [
        "!pip install numpy==1.21.6"
      ]
    },
    {
      "cell_type": "code",
      "execution_count": 3,
      "metadata": {
        "colab": {
          "base_uri": "https://localhost:8080/",
          "height": 35
        },
        "id": "fFgNhpfpMS5e",
        "outputId": "997b1175-bb33-4d5c-dea3-5e927840fea4"
      },
      "outputs": [
        {
          "data": {
            "application/vnd.google.colaboratory.intrinsic+json": {
              "type": "string"
            },
            "text/plain": [
              "'1.21.6'"
            ]
          },
          "execution_count": 3,
          "metadata": {},
          "output_type": "execute_result"
        }
      ],
      "source": [
        "import numpy as np\n",
        "np.__version__"
      ]
    },
    {
      "cell_type": "code",
      "execution_count": 4,
      "metadata": {
        "id": "4Wg3nqzyflW4"
      },
      "outputs": [],
      "source": [
        "%load_ext autoreload\n",
        "%autoreload 2\n",
        "\n",
        "import os\n",
        "import random\n",
        "import pandas as pd\n",
        "import sys\n",
        "import pickle\n",
        "import tqdm\n",
        "import numpy as np\n",
        "import torch\n",
        "import torch.nn as nn\n",
        "from torchvision.ops import sigmoid_focal_loss\n",
        "\n",
        "from scipy.stats import gmean, hmean\n",
        "from sklearn.metrics import roc_auc_score\n",
        "from sklearn.model_selection import train_test_split, StratifiedKFold, KFold\n",
        "\n",
        "import warnings\n",
        "warnings.filterwarnings(\"ignore\")\n",
        "\n",
        "\n",
        "\n",
        "# !!! измените \"2\" на номер доступной вам сuda\n",
        "#os.environ[\"CUDA_VISIBLE_DEVICES\"] = \"1\"\n",
        "#pd.set_option(\"display.max_columns\", None)\n",
        "\n",
        "# добавим родительскую директорию, в ней лежат все необходимые полезные функции для обработки данных\n",
        "sys.path.append(\"../\")\n"
      ]
    },
    {
      "cell_type": "code",
      "execution_count": 5,
      "metadata": {
        "id": "-yU_-WLyLyWJ"
      },
      "outputs": [],
      "source": [
        "def seed_everything(seed: int):\n",
        "    import random, os\n",
        "    import numpy as np\n",
        "    import torch\n",
        "\n",
        "    random.seed(seed)\n",
        "    os.environ['PYTHONHASHSEED'] = str(seed)\n",
        "    np.random.seed(seed)\n",
        "    torch.manual_seed(seed)\n",
        "    torch.cuda.manual_seed(seed)\n",
        "    torch.backends.cudnn.deterministic = True\n",
        "    torch.backends.cudnn.benchmark = True\n",
        "\n",
        "SEED = 1171\n",
        "seed_everything(SEED)"
      ]
    },
    {
      "cell_type": "code",
      "execution_count": 6,
      "metadata": {
        "id": "GXpfISjOflW6"
      },
      "outputs": [],
      "source": [
        "TRAIN_DATA_PATH = os.path.join(ROOT_DIR, \"train_data\")\n",
        "TEST_DATA_PATH = os.path.join(ROOT_DIR, 'test_data')\n",
        "\n",
        "TRAIN_TARGET_PATH = os.path.join(ROOT_DIR, 'train_target.csv')"
      ]
    },
    {
      "cell_type": "code",
      "execution_count": 7,
      "metadata": {
        "colab": {
          "base_uri": "https://localhost:8080/",
          "height": 424
        },
        "id": "Ln3bRxDvflW7",
        "outputId": "dbd037dd-b73f-4918-fe2d-65632efcecd9"
      },
      "outputs": [
        {
          "data": {
            "application/vnd.google.colaboratory.intrinsic+json": {
              "type": "dataframe",
              "variable_name": "train_target"
            },
            "text/html": [
              "\n",
              "  <div id=\"df-5188b62a-cdf1-4eba-8363-ffd32d96a28a\" class=\"colab-df-container\">\n",
              "    <div>\n",
              "<style scoped>\n",
              "    .dataframe tbody tr th:only-of-type {\n",
              "        vertical-align: middle;\n",
              "    }\n",
              "\n",
              "    .dataframe tbody tr th {\n",
              "        vertical-align: top;\n",
              "    }\n",
              "\n",
              "    .dataframe thead th {\n",
              "        text-align: right;\n",
              "    }\n",
              "</style>\n",
              "<table border=\"1\" class=\"dataframe\">\n",
              "  <thead>\n",
              "    <tr style=\"text-align: right;\">\n",
              "      <th></th>\n",
              "      <th>id</th>\n",
              "      <th>flag</th>\n",
              "    </tr>\n",
              "  </thead>\n",
              "  <tbody>\n",
              "    <tr>\n",
              "      <th>0</th>\n",
              "      <td>0</td>\n",
              "      <td>0</td>\n",
              "    </tr>\n",
              "    <tr>\n",
              "      <th>1</th>\n",
              "      <td>1</td>\n",
              "      <td>0</td>\n",
              "    </tr>\n",
              "    <tr>\n",
              "      <th>2</th>\n",
              "      <td>2</td>\n",
              "      <td>0</td>\n",
              "    </tr>\n",
              "    <tr>\n",
              "      <th>3</th>\n",
              "      <td>3</td>\n",
              "      <td>0</td>\n",
              "    </tr>\n",
              "    <tr>\n",
              "      <th>4</th>\n",
              "      <td>4</td>\n",
              "      <td>0</td>\n",
              "    </tr>\n",
              "    <tr>\n",
              "      <th>...</th>\n",
              "      <td>...</td>\n",
              "      <td>...</td>\n",
              "    </tr>\n",
              "    <tr>\n",
              "      <th>2999995</th>\n",
              "      <td>2999995</td>\n",
              "      <td>0</td>\n",
              "    </tr>\n",
              "    <tr>\n",
              "      <th>2999996</th>\n",
              "      <td>2999996</td>\n",
              "      <td>0</td>\n",
              "    </tr>\n",
              "    <tr>\n",
              "      <th>2999997</th>\n",
              "      <td>2999997</td>\n",
              "      <td>0</td>\n",
              "    </tr>\n",
              "    <tr>\n",
              "      <th>2999998</th>\n",
              "      <td>2999998</td>\n",
              "      <td>0</td>\n",
              "    </tr>\n",
              "    <tr>\n",
              "      <th>2999999</th>\n",
              "      <td>2999999</td>\n",
              "      <td>0</td>\n",
              "    </tr>\n",
              "  </tbody>\n",
              "</table>\n",
              "<p>3000000 rows × 2 columns</p>\n",
              "</div>\n",
              "    <div class=\"colab-df-buttons\">\n",
              "\n",
              "  <div class=\"colab-df-container\">\n",
              "    <button class=\"colab-df-convert\" onclick=\"convertToInteractive('df-5188b62a-cdf1-4eba-8363-ffd32d96a28a')\"\n",
              "            title=\"Convert this dataframe to an interactive table.\"\n",
              "            style=\"display:none;\">\n",
              "\n",
              "  <svg xmlns=\"http://www.w3.org/2000/svg\" height=\"24px\" viewBox=\"0 -960 960 960\">\n",
              "    <path d=\"M120-120v-720h720v720H120Zm60-500h600v-160H180v160Zm220 220h160v-160H400v160Zm0 220h160v-160H400v160ZM180-400h160v-160H180v160Zm440 0h160v-160H620v160ZM180-180h160v-160H180v160Zm440 0h160v-160H620v160Z\"/>\n",
              "  </svg>\n",
              "    </button>\n",
              "\n",
              "  <style>\n",
              "    .colab-df-container {\n",
              "      display:flex;\n",
              "      gap: 12px;\n",
              "    }\n",
              "\n",
              "    .colab-df-convert {\n",
              "      background-color: #E8F0FE;\n",
              "      border: none;\n",
              "      border-radius: 50%;\n",
              "      cursor: pointer;\n",
              "      display: none;\n",
              "      fill: #1967D2;\n",
              "      height: 32px;\n",
              "      padding: 0 0 0 0;\n",
              "      width: 32px;\n",
              "    }\n",
              "\n",
              "    .colab-df-convert:hover {\n",
              "      background-color: #E2EBFA;\n",
              "      box-shadow: 0px 1px 2px rgba(60, 64, 67, 0.3), 0px 1px 3px 1px rgba(60, 64, 67, 0.15);\n",
              "      fill: #174EA6;\n",
              "    }\n",
              "\n",
              "    .colab-df-buttons div {\n",
              "      margin-bottom: 4px;\n",
              "    }\n",
              "\n",
              "    [theme=dark] .colab-df-convert {\n",
              "      background-color: #3B4455;\n",
              "      fill: #D2E3FC;\n",
              "    }\n",
              "\n",
              "    [theme=dark] .colab-df-convert:hover {\n",
              "      background-color: #434B5C;\n",
              "      box-shadow: 0px 1px 3px 1px rgba(0, 0, 0, 0.15);\n",
              "      filter: drop-shadow(0px 1px 2px rgba(0, 0, 0, 0.3));\n",
              "      fill: #FFFFFF;\n",
              "    }\n",
              "  </style>\n",
              "\n",
              "    <script>\n",
              "      const buttonEl =\n",
              "        document.querySelector('#df-5188b62a-cdf1-4eba-8363-ffd32d96a28a button.colab-df-convert');\n",
              "      buttonEl.style.display =\n",
              "        google.colab.kernel.accessAllowed ? 'block' : 'none';\n",
              "\n",
              "      async function convertToInteractive(key) {\n",
              "        const element = document.querySelector('#df-5188b62a-cdf1-4eba-8363-ffd32d96a28a');\n",
              "        const dataTable =\n",
              "          await google.colab.kernel.invokeFunction('convertToInteractive',\n",
              "                                                    [key], {});\n",
              "        if (!dataTable) return;\n",
              "\n",
              "        const docLinkHtml = 'Like what you see? Visit the ' +\n",
              "          '<a target=\"_blank\" href=https://colab.research.google.com/notebooks/data_table.ipynb>data table notebook</a>'\n",
              "          + ' to learn more about interactive tables.';\n",
              "        element.innerHTML = '';\n",
              "        dataTable['output_type'] = 'display_data';\n",
              "        await google.colab.output.renderOutput(dataTable, element);\n",
              "        const docLink = document.createElement('div');\n",
              "        docLink.innerHTML = docLinkHtml;\n",
              "        element.appendChild(docLink);\n",
              "      }\n",
              "    </script>\n",
              "  </div>\n",
              "\n",
              "\n",
              "<div id=\"df-015aa24b-9800-44cb-99ac-8f878f4efefe\">\n",
              "  <button class=\"colab-df-quickchart\" onclick=\"quickchart('df-015aa24b-9800-44cb-99ac-8f878f4efefe')\"\n",
              "            title=\"Suggest charts\"\n",
              "            style=\"display:none;\">\n",
              "\n",
              "<svg xmlns=\"http://www.w3.org/2000/svg\" height=\"24px\"viewBox=\"0 0 24 24\"\n",
              "     width=\"24px\">\n",
              "    <g>\n",
              "        <path d=\"M19 3H5c-1.1 0-2 .9-2 2v14c0 1.1.9 2 2 2h14c1.1 0 2-.9 2-2V5c0-1.1-.9-2-2-2zM9 17H7v-7h2v7zm4 0h-2V7h2v10zm4 0h-2v-4h2v4z\"/>\n",
              "    </g>\n",
              "</svg>\n",
              "  </button>\n",
              "\n",
              "<style>\n",
              "  .colab-df-quickchart {\n",
              "      --bg-color: #E8F0FE;\n",
              "      --fill-color: #1967D2;\n",
              "      --hover-bg-color: #E2EBFA;\n",
              "      --hover-fill-color: #174EA6;\n",
              "      --disabled-fill-color: #AAA;\n",
              "      --disabled-bg-color: #DDD;\n",
              "  }\n",
              "\n",
              "  [theme=dark] .colab-df-quickchart {\n",
              "      --bg-color: #3B4455;\n",
              "      --fill-color: #D2E3FC;\n",
              "      --hover-bg-color: #434B5C;\n",
              "      --hover-fill-color: #FFFFFF;\n",
              "      --disabled-bg-color: #3B4455;\n",
              "      --disabled-fill-color: #666;\n",
              "  }\n",
              "\n",
              "  .colab-df-quickchart {\n",
              "    background-color: var(--bg-color);\n",
              "    border: none;\n",
              "    border-radius: 50%;\n",
              "    cursor: pointer;\n",
              "    display: none;\n",
              "    fill: var(--fill-color);\n",
              "    height: 32px;\n",
              "    padding: 0;\n",
              "    width: 32px;\n",
              "  }\n",
              "\n",
              "  .colab-df-quickchart:hover {\n",
              "    background-color: var(--hover-bg-color);\n",
              "    box-shadow: 0 1px 2px rgba(60, 64, 67, 0.3), 0 1px 3px 1px rgba(60, 64, 67, 0.15);\n",
              "    fill: var(--button-hover-fill-color);\n",
              "  }\n",
              "\n",
              "  .colab-df-quickchart-complete:disabled,\n",
              "  .colab-df-quickchart-complete:disabled:hover {\n",
              "    background-color: var(--disabled-bg-color);\n",
              "    fill: var(--disabled-fill-color);\n",
              "    box-shadow: none;\n",
              "  }\n",
              "\n",
              "  .colab-df-spinner {\n",
              "    border: 2px solid var(--fill-color);\n",
              "    border-color: transparent;\n",
              "    border-bottom-color: var(--fill-color);\n",
              "    animation:\n",
              "      spin 1s steps(1) infinite;\n",
              "  }\n",
              "\n",
              "  @keyframes spin {\n",
              "    0% {\n",
              "      border-color: transparent;\n",
              "      border-bottom-color: var(--fill-color);\n",
              "      border-left-color: var(--fill-color);\n",
              "    }\n",
              "    20% {\n",
              "      border-color: transparent;\n",
              "      border-left-color: var(--fill-color);\n",
              "      border-top-color: var(--fill-color);\n",
              "    }\n",
              "    30% {\n",
              "      border-color: transparent;\n",
              "      border-left-color: var(--fill-color);\n",
              "      border-top-color: var(--fill-color);\n",
              "      border-right-color: var(--fill-color);\n",
              "    }\n",
              "    40% {\n",
              "      border-color: transparent;\n",
              "      border-right-color: var(--fill-color);\n",
              "      border-top-color: var(--fill-color);\n",
              "    }\n",
              "    60% {\n",
              "      border-color: transparent;\n",
              "      border-right-color: var(--fill-color);\n",
              "    }\n",
              "    80% {\n",
              "      border-color: transparent;\n",
              "      border-right-color: var(--fill-color);\n",
              "      border-bottom-color: var(--fill-color);\n",
              "    }\n",
              "    90% {\n",
              "      border-color: transparent;\n",
              "      border-bottom-color: var(--fill-color);\n",
              "    }\n",
              "  }\n",
              "</style>\n",
              "\n",
              "  <script>\n",
              "    async function quickchart(key) {\n",
              "      const quickchartButtonEl =\n",
              "        document.querySelector('#' + key + ' button');\n",
              "      quickchartButtonEl.disabled = true;  // To prevent multiple clicks.\n",
              "      quickchartButtonEl.classList.add('colab-df-spinner');\n",
              "      try {\n",
              "        const charts = await google.colab.kernel.invokeFunction(\n",
              "            'suggestCharts', [key], {});\n",
              "      } catch (error) {\n",
              "        console.error('Error during call to suggestCharts:', error);\n",
              "      }\n",
              "      quickchartButtonEl.classList.remove('colab-df-spinner');\n",
              "      quickchartButtonEl.classList.add('colab-df-quickchart-complete');\n",
              "    }\n",
              "    (() => {\n",
              "      let quickchartButtonEl =\n",
              "        document.querySelector('#df-015aa24b-9800-44cb-99ac-8f878f4efefe button');\n",
              "      quickchartButtonEl.style.display =\n",
              "        google.colab.kernel.accessAllowed ? 'block' : 'none';\n",
              "    })();\n",
              "  </script>\n",
              "</div>\n",
              "    </div>\n",
              "  </div>\n"
            ],
            "text/plain": [
              "              id  flag\n",
              "0              0     0\n",
              "1              1     0\n",
              "2              2     0\n",
              "3              3     0\n",
              "4              4     0\n",
              "...          ...   ...\n",
              "2999995  2999995     0\n",
              "2999996  2999996     0\n",
              "2999997  2999997     0\n",
              "2999998  2999998     0\n",
              "2999999  2999999     0\n",
              "\n",
              "[3000000 rows x 2 columns]"
            ]
          },
          "execution_count": 7,
          "metadata": {},
          "output_type": "execute_result"
        }
      ],
      "source": [
        "train_target = pd.read_csv(TRAIN_TARGET_PATH)\n",
        "train_target"
      ]
    },
    {
      "cell_type": "code",
      "execution_count": 8,
      "metadata": {
        "id": "ni6qUxPYflW8"
      },
      "outputs": [],
      "source": [
        "from utils import read_parquet_dataset_from_local\n",
        "from dataset_preprocessing_utils_with_mask import features, transform_credits_to_sequences, create_padded_buckets"
      ]
    },
    {
      "cell_type": "markdown",
      "metadata": {
        "id": "q2OiPTr9flW9"
      },
      "source": [
        "В дальнейшем при построении рекуррентной нейронной сети нам понадобятся следующие статистики по тренировочной и тестовой выборкам: распределение длин кредитных историй и число уникальных значений каждого категориального значения. Посчитаем эти статистики:"
      ]
    },
    {
      "cell_type": "code",
      "execution_count": 9,
      "metadata": {
        "colab": {
          "base_uri": "https://localhost:8080/",
          "height": 670,
          "referenced_widgets": [
            "8219c0fd86ee4e0d8ea25922ed8f2104",
            "8efe33bd9e7844e8b75d92d10e998964",
            "005b6a2f8bd84f59a14dcc74114fbbd0",
            "cb06c8254ea74b62b9a32d944cb5c541",
            "9eabac07ee654724a782d258c2b69702",
            "324b7af4c8c94178a0d094d616d52f7f",
            "eb70cec476174d42a1c5147832d2f7f7",
            "1b3a15898a19492fbc299ff58fee8c3f",
            "43e24a9668434e43bab4cfefd6f55a35",
            "d0fddaa222114b7aa42c214dcc5204f5",
            "7a27edd16bf84648a0df7eccb8bb4062",
            "5a931cf16338408aabbe1738f04fd04e",
            "9cfcf6e91d4246efa175cf5ba1312d9c",
            "1ef7374e0f334efea0c447b360a210cd",
            "fbf1efed6b7e497b84cb2e957e0e685c",
            "c16040be88204c2da661fd914a23bcb3",
            "42485616e0984dcdb6f0c52c353d7ead",
            "68a0485b4c8f44d8885cf66fbc0af0b6",
            "d6436b117b0245f3a3585a5a8d662673",
            "b5d4897f293d4d2daebcf3266e93521d",
            "c62802fe82394cee8d190cdcd84a97a2",
            "b4b3493821db440bbbe5c3d8c8b7d0d7",
            "aec4f84e0e8446f79c1c8c0e867fe194",
            "2a1db35e6a5843dbb2d7a94f6e7c1f94",
            "a24adfdfab0e46289b4e6bb075b3651a",
            "ac1b959c717844c3b7892e664f78ebc6",
            "04a30076f7a047eab022605e4082781b",
            "9a911c756cbb40eb89a83bc87a7be309",
            "d2b6da863a1c4533a4244c7220281299",
            "40636e95166e4349b35f3584685aab75",
            "0affd38bd01e49d9b26d2086eb1bc87d",
            "cd84c50ac7e74284b01dcb8de76a7850",
            "570e395b2e5847c5b630c7801b14f781",
            "ec19d34a5435496f8cd6d2cc8ee9b586",
            "995874a3d95d433394b5f6059a180dd1",
            "163f11b27bc5453bb95598a19a8fe1bb",
            "926f766295534eada2ebf369c5fa2cfd",
            "d36eff222e6941778ce457dddd7c558f",
            "7833bdf47e0744419a1bfce4e04fd061",
            "2d81036063684c61ab7a4c5a5a889f09",
            "5977f9fe7aea442aa42f034c00d251fa",
            "fd1bcc9dcdac4efe90f82e22f800e48c",
            "0f2487450b8541a5bab58f9f5562ff4b",
            "d2b65430fe6f4760a23f613f2d83751e",
            "4b7ba0a00b0f4ee9b35747d139b7f84a",
            "baceb172fdc34b80ba45a10717187554",
            "bc6cc1985795496cb961f65ecf4eb467",
            "86e0f7c87a9a4e7faf1c06b502a1d123",
            "ef39a40ac035489b860ff2ec9e76e930",
            "7e5c364b10ec4056acca94c330a7724a",
            "9aed802b79094bbe8620d1c8e04e09bf",
            "aa9962f52a884896abd122a7698e1957",
            "e5673845ed9c4bc2b14d761da1b9834e",
            "c9191e2ac1d441048a3c57ada7173996",
            "f35e0469710f4ecc8f616144c76e8c5b",
            "e2acdae802f244b3aeda174694f434d1",
            "70eff865165f4cb49b208ea6c1ad9b2f",
            "b513be2972ea4aaba927043c8947e2ae",
            "506bd9ce83814d30bdf9aa815ed54658",
            "6c0377fae6e5408a9c920d8d7320f4f8",
            "50a02db1b1d8415f946b2c31cd55f571",
            "52506216aba14c6e810b9b66c010d2b8",
            "ca48e3bb4c93440ea33c99bd789e676d",
            "9e6c35d317d5472faa5f30164cbea731",
            "af2693ce9b46439486f588d569904652",
            "d70db0bf2c82462a949ac39492da56f2",
            "479e5c7b615640d387b4bee75cefed5b",
            "a71340fd11c24c1a83b727f0b3465d8b",
            "81c406765a3e4f258b64e3ca613e2a9f",
            "c7afbc455ae34600b172a9b4d441f3c1",
            "e58d4402d27c4517967c2cbb27331f92",
            "11a5008956474db9849e476be4ac5078",
            "52adccf048484acc9a2abb33be67a0bf",
            "e9a4aa10c6b24c359fd249d39e482b76",
            "62247258e2034ea39ed550d68656c385",
            "7021e2ba55624ef0b3918cb938b74d49",
            "2c3841948a93471fa988438628dda098",
            "b6fb0a529d234c7d98b846a865a17489",
            "db5e1ed2120e4a85a52972b3345af303",
            "5f9dafeb1941405aa2c393d9e066860b",
            "6af07e0d89a244abac82d09828dc2869",
            "a66fd0b83de04e7aafe501aa4352d8e8",
            "f979d8c2bd38496caabb29df0566730c",
            "1217eff6c22e4f78801c0a4eb076f638",
            "f6d19ae9f9d04bc69dfbade1182247bf",
            "5ff1b96fe1754e6397db444710f72add",
            "82c5563d21334019b1164131259f224f",
            "7735e67238874dccb7927d3a4c8a1f86",
            "09ead54f4fc84336a99b2e8b8a907f34",
            "1d2e38044a7d42159b347a9b668752e0",
            "915cf0221904421cbeef17f09b680585",
            "5f28700a4ca64cc7a2443f582df17714",
            "c93eb87035c54d0484604869630974d4",
            "469307c00d504e6688d94b1a0deb85ae",
            "78c9302f700541909717c1f2172ed27a",
            "b52ac68cfd9f4409b664dc5c79a32bb6",
            "27d2c21df50142d2a5e6e50849333ea1",
            "00c8a047a67c4ea4b8191e57117dfc46",
            "4b3d9c6a72414e5e9d2e638c34860188"
          ]
        },
        "id": "wZ_sKMCdflW9",
        "outputId": "e94043c9-54f7-4d30-b5d9-532e8794d98e"
      },
      "outputs": [
        {
          "data": {
            "application/vnd.jupyter.widget-view+json": {
              "model_id": "8219c0fd86ee4e0d8ea25922ed8f2104",
              "version_major": 2,
              "version_minor": 0
            },
            "text/plain": [
              "Count statistics on train data:   0%|          | 0/6 [00:00<?, ?it/s]"
            ]
          },
          "metadata": {},
          "output_type": "display_data"
        },
        {
          "name": "stdout",
          "output_type": "stream",
          "text": [
            "Reading chunks:\n",
            "/content/drive/MyDrive/alpha/data/train_data/train_data_0.pq\n",
            "/content/drive/MyDrive/alpha/data/train_data/train_data_1.pq\n"
          ]
        },
        {
          "data": {
            "application/vnd.jupyter.widget-view+json": {
              "model_id": "5a931cf16338408aabbe1738f04fd04e",
              "version_major": 2,
              "version_minor": 0
            },
            "text/plain": [
              "Reading dataset with pandas:   0%|          | 0/2 [00:00<?, ?it/s]"
            ]
          },
          "metadata": {},
          "output_type": "display_data"
        },
        {
          "name": "stdout",
          "output_type": "stream",
          "text": [
            "Reading chunks:\n",
            "/content/drive/MyDrive/alpha/data/train_data/train_data_2.pq\n",
            "/content/drive/MyDrive/alpha/data/train_data/train_data_3.pq\n"
          ]
        },
        {
          "data": {
            "application/vnd.jupyter.widget-view+json": {
              "model_id": "aec4f84e0e8446f79c1c8c0e867fe194",
              "version_major": 2,
              "version_minor": 0
            },
            "text/plain": [
              "Reading dataset with pandas:   0%|          | 0/2 [00:00<?, ?it/s]"
            ]
          },
          "metadata": {},
          "output_type": "display_data"
        },
        {
          "name": "stdout",
          "output_type": "stream",
          "text": [
            "Reading chunks:\n",
            "/content/drive/MyDrive/alpha/data/train_data/train_data_4.pq\n",
            "/content/drive/MyDrive/alpha/data/train_data/train_data_5.pq\n"
          ]
        },
        {
          "data": {
            "application/vnd.jupyter.widget-view+json": {
              "model_id": "ec19d34a5435496f8cd6d2cc8ee9b586",
              "version_major": 2,
              "version_minor": 0
            },
            "text/plain": [
              "Reading dataset with pandas:   0%|          | 0/2 [00:00<?, ?it/s]"
            ]
          },
          "metadata": {},
          "output_type": "display_data"
        },
        {
          "name": "stdout",
          "output_type": "stream",
          "text": [
            "Reading chunks:\n",
            "/content/drive/MyDrive/alpha/data/train_data/train_data_6.pq\n",
            "/content/drive/MyDrive/alpha/data/train_data/train_data_7.pq\n"
          ]
        },
        {
          "data": {
            "application/vnd.jupyter.widget-view+json": {
              "model_id": "4b7ba0a00b0f4ee9b35747d139b7f84a",
              "version_major": 2,
              "version_minor": 0
            },
            "text/plain": [
              "Reading dataset with pandas:   0%|          | 0/2 [00:00<?, ?it/s]"
            ]
          },
          "metadata": {},
          "output_type": "display_data"
        },
        {
          "name": "stdout",
          "output_type": "stream",
          "text": [
            "Reading chunks:\n",
            "/content/drive/MyDrive/alpha/data/train_data/train_data_8.pq\n",
            "/content/drive/MyDrive/alpha/data/train_data/train_data_9.pq\n"
          ]
        },
        {
          "data": {
            "application/vnd.jupyter.widget-view+json": {
              "model_id": "e2acdae802f244b3aeda174694f434d1",
              "version_major": 2,
              "version_minor": 0
            },
            "text/plain": [
              "Reading dataset with pandas:   0%|          | 0/2 [00:00<?, ?it/s]"
            ]
          },
          "metadata": {},
          "output_type": "display_data"
        },
        {
          "name": "stdout",
          "output_type": "stream",
          "text": [
            "Reading chunks:\n",
            "/content/drive/MyDrive/alpha/data/train_data/train_data_10.pq\n",
            "/content/drive/MyDrive/alpha/data/train_data/train_data_11.pq\n"
          ]
        },
        {
          "data": {
            "application/vnd.jupyter.widget-view+json": {
              "model_id": "479e5c7b615640d387b4bee75cefed5b",
              "version_major": 2,
              "version_minor": 0
            },
            "text/plain": [
              "Reading dataset with pandas:   0%|          | 0/2 [00:00<?, ?it/s]"
            ]
          },
          "metadata": {},
          "output_type": "display_data"
        },
        {
          "data": {
            "application/vnd.jupyter.widget-view+json": {
              "model_id": "b6fb0a529d234c7d98b846a865a17489",
              "version_major": 2,
              "version_minor": 0
            },
            "text/plain": [
              "Count statistics on test data:   0%|          | 0/1 [00:00<?, ?it/s]"
            ]
          },
          "metadata": {},
          "output_type": "display_data"
        },
        {
          "name": "stdout",
          "output_type": "stream",
          "text": [
            "Reading chunks:\n",
            "/content/drive/MyDrive/alpha/data/test_data/test_data_0.pq\n",
            "/content/drive/MyDrive/alpha/data/test_data/test_data_1.pq\n"
          ]
        },
        {
          "data": {
            "application/vnd.jupyter.widget-view+json": {
              "model_id": "09ead54f4fc84336a99b2e8b8a907f34",
              "version_major": 2,
              "version_minor": 0
            },
            "text/plain": [
              "Reading dataset with pandas:   0%|          | 0/2 [00:00<?, ?it/s]"
            ]
          },
          "metadata": {},
          "output_type": "display_data"
        }
      ],
      "source": [
        "from collections import defaultdict\n",
        "\n",
        "train_lens = []\n",
        "test_lens = []\n",
        "uniques = defaultdict(set)\n",
        "\n",
        "for step in tqdm.notebook.tqdm(range(0, 12, 2),\n",
        "                     desc=\"Count statistics on train data\"):\n",
        "        credits_frame = read_parquet_dataset_from_local(TRAIN_DATA_PATH, step, 2, verbose=True)\n",
        "        seq_lens = credits_frame.groupby(\"id\").agg(seq_len=(\"rn\", \"max\"))[\"seq_len\"].values\n",
        "        train_lens.extend(seq_lens)\n",
        "        credits_frame.drop(columns=[\"id\", \"rn\"], inplace=True)\n",
        "        #credits_frame.drop(columns=[\"id\"], inplace=True)\n",
        "\n",
        "        for feat in credits_frame.columns.values:\n",
        "            uniques[feat] = uniques[feat].union(credits_frame[feat].unique())\n",
        "train_lens = np.hstack(train_lens)\n",
        "\n",
        "for step in tqdm.notebook.tqdm(range(0, 2, 2),\n",
        "                     desc=\"Count statistics on test data\"):\n",
        "        credits_frame = read_parquet_dataset_from_local(TEST_DATA_PATH, step, 2, verbose=True)\n",
        "        seq_lens = credits_frame.groupby(\"id\").agg(seq_len=(\"rn\", \"max\"))[\"seq_len\"].values\n",
        "        test_lens.extend(seq_lens)\n",
        "        credits_frame.drop(columns=[\"id\", \"rn\"], inplace=True)\n",
        "        #credits_frame.drop(columns=[\"id\"], inplace=True)\n",
        "\n",
        "        for feat in credits_frame.columns.values:\n",
        "            uniques[feat] = uniques[feat].union(credits_frame[feat].unique())\n",
        "test_lens = np.hstack(test_lens)\n",
        "uniques = dict(uniques)"
      ]
    },
    {
      "cell_type": "code",
      "execution_count": 11,
      "metadata": {
        "id": "L3Pn4lX9flW-"
      },
      "outputs": [],
      "source": [
        "from collections import Counter\n",
        "\n",
        "\n",
        "train_len_counter = pd.Series(Counter(train_lens)).sort_index()\n",
        "test_len_counter = pd.Series(Counter(test_lens)).sort_index()"
      ]
    },
    {
      "cell_type": "markdown",
      "metadata": {
        "id": "7mJE3x3UflW_"
      },
      "source": [
        "Один из аргументов в функции `dataset_preprocessing_utils.create_padded_buckets` &ndash; `bucket_info` &ndash; словарь, где для конкретной длины последовательности указано до какой длины нужно делать паддинг. Для данного бэйзлайна возьмем простое разбиение на 43 бакета:\n",
        "| Длина последовательности | Длина после паддинга |\n",
        "| :-: | :-:\n",
        "| 1 &ndash; 40 | без изменений |\n",
        "| 41 &ndash; 45 | 45 |\n",
        "| 46 &ndash; 50 | 50 |\n",
        "| 51 &ndash; 58 | 58 |"
      ]
    },
    {
      "cell_type": "code",
      "execution_count": 12,
      "metadata": {
        "colab": {
          "base_uri": "https://localhost:8080/"
        },
        "id": "X__o24IbflW_",
        "outputId": "66eac309-e8e3-4d1f-c79b-74295654e38e"
      },
      "outputs": [
        {
          "data": {
            "text/plain": [
              "{1: 1,\n",
              " 2: 2,\n",
              " 3: 3,\n",
              " 4: 4,\n",
              " 5: 5,\n",
              " 6: 6,\n",
              " 7: 7,\n",
              " 8: 8,\n",
              " 9: 9,\n",
              " 10: 10,\n",
              " 11: 11,\n",
              " 12: 12,\n",
              " 13: 13,\n",
              " 14: 14,\n",
              " 15: 15,\n",
              " 16: 16,\n",
              " 17: 17,\n",
              " 18: 18,\n",
              " 19: 19,\n",
              " 20: 20,\n",
              " 21: 21,\n",
              " 22: 22,\n",
              " 23: 23,\n",
              " 24: 24,\n",
              " 25: 25,\n",
              " 26: 26,\n",
              " 27: 27,\n",
              " 28: 28,\n",
              " 29: 29,\n",
              " 30: 30,\n",
              " 31: 31,\n",
              " 32: 32,\n",
              " 33: 33,\n",
              " 34: 34,\n",
              " 35: 35,\n",
              " 36: 36,\n",
              " 37: 37,\n",
              " 38: 38,\n",
              " 39: 39,\n",
              " 40: 40,\n",
              " 41: 45,\n",
              " 42: 45,\n",
              " 43: 45,\n",
              " 44: 45,\n",
              " 45: 45,\n",
              " 46: 50,\n",
              " 47: 50,\n",
              " 48: 50,\n",
              " 49: 50,\n",
              " 50: 50,\n",
              " 51: 58,\n",
              " 52: 58,\n",
              " 53: 58,\n",
              " 54: 58,\n",
              " 55: 58,\n",
              " 56: 58,\n",
              " 57: 58,\n",
              " 58: 58}"
            ]
          },
          "execution_count": 12,
          "metadata": {},
          "output_type": "execute_result"
        }
      ],
      "source": [
        "keys_ = list(range(1, 59))\n",
        "lens_ = list(range(1, 41)) + [45] * 5 + [50] * 5 + [58] * 8\n",
        "bucket_info = dict(zip(keys_, lens_))\n",
        "bucket_info"
      ]
    },
    {
      "cell_type": "markdown",
      "metadata": {
        "id": "fyIsRafnflW_"
      },
      "source": [
        "Также рассмотрим уникальные значения признаков"
      ]
    },
    {
      "cell_type": "code",
      "execution_count": 13,
      "metadata": {
        "colab": {
          "base_uri": "https://localhost:8080/"
        },
        "id": "PyQDsNoSflXA",
        "outputId": "e6210cf7-72c4-4e6b-82e5-d5eb248da6b3",
        "scrolled": false
      },
      "outputs": [
        {
          "name": "stdout",
          "output_type": "stream",
          "text": [
            "Feature: pre_since_opened, unique values: {0, 1, 2, 3, 4, 5, 6, 7, 8, 9, 10, 11, 12, 13, 14, 15, 16, 17, 18, 19}\n",
            "Feature: pre_since_confirmed, unique values: {0, 1, 2, 3, 4, 5, 6, 7, 8, 9, 10, 11, 12, 13, 14, 15, 16, 17}\n",
            "Feature: pre_pterm, unique values: {0, 1, 2, 3, 4, 5, 6, 7, 8, 9, 10, 11, 12, 13, 14, 15, 16, 17}\n",
            "Feature: pre_fterm, unique values: {0, 1, 2, 3, 4, 5, 6, 7, 8, 9, 10, 11, 12, 13, 14, 15, 16}\n",
            "Feature: pre_till_pclose, unique values: {0, 1, 2, 3, 4, 5, 6, 7, 8, 9, 10, 11, 12, 13, 14, 15, 16}\n",
            "Feature: pre_till_fclose, unique values: {0, 1, 2, 3, 4, 5, 6, 7, 8, 9, 10, 11, 12, 13, 14, 15}\n",
            "Feature: pre_loans_credit_limit, unique values: {0, 1, 2, 3, 4, 5, 6, 7, 8, 9, 10, 11, 12, 13, 14, 15, 16, 17, 18, 19}\n",
            "Feature: pre_loans_next_pay_summ, unique values: {0, 1, 2, 3, 4, 5, 6, 7}\n",
            "Feature: pre_loans_outstanding, unique values: {1, 2, 3, 4, 5}\n",
            "Feature: pre_loans_total_overdue, unique values: {0, 1}\n",
            "Feature: pre_loans_max_overdue_sum, unique values: {0, 1, 2, 3}\n",
            "Feature: pre_loans_credit_cost_rate, unique values: {0, 1, 2, 3, 4, 5, 6, 7, 8, 9, 10, 11, 12, 13}\n",
            "Feature: pre_loans5, unique values: {0, 1, 2, 3, 4, 5, 6, 7, 8, 9, 10, 11, 13, 14, 15, 16, 17}\n",
            "Feature: pre_loans530, unique values: {0, 1, 2, 3, 4, 5, 6, 7, 8, 9, 10, 11, 12, 13, 14, 15, 16, 17, 18, 19}\n",
            "Feature: pre_loans3060, unique values: {0, 1, 2, 3, 4, 5, 6, 7, 8, 9}\n",
            "Feature: pre_loans6090, unique values: {0, 1, 2, 3, 4, 5}\n",
            "Feature: pre_loans90, unique values: {1, 2, 3, 4, 8, 10, 11, 13, 14, 18, 19}\n",
            "Feature: is_zero_loans5, unique values: {0, 1}\n",
            "Feature: is_zero_loans530, unique values: {0, 1}\n",
            "Feature: is_zero_loans3060, unique values: {0, 1}\n",
            "Feature: is_zero_loans6090, unique values: {0, 1}\n",
            "Feature: is_zero_loans90, unique values: {0, 1}\n",
            "Feature: pre_util, unique values: {0, 1, 2, 3, 4, 5, 6, 7, 8, 9, 10, 11, 12, 13, 14, 15, 16, 17, 18, 19}\n",
            "Feature: pre_over2limit, unique values: {0, 1, 2, 3, 4, 5, 6, 7, 8, 9, 10, 11, 12, 13, 14, 15, 16, 17, 18, 19}\n",
            "Feature: pre_maxover2limit, unique values: {0, 1, 2, 3, 4, 5, 6, 7, 8, 9, 10, 11, 12, 13, 14, 15, 16, 17, 18, 19}\n",
            "Feature: is_zero_util, unique values: {0, 1}\n",
            "Feature: is_zero_over2limit, unique values: {0, 1}\n",
            "Feature: is_zero_maxover2limit, unique values: {0, 1}\n",
            "Feature: enc_paym_0, unique values: {0, 1, 2, 3}\n",
            "Feature: enc_paym_1, unique values: {0, 1, 2, 3}\n",
            "Feature: enc_paym_2, unique values: {0, 1, 2, 3}\n",
            "Feature: enc_paym_3, unique values: {0, 1, 2, 3}\n",
            "Feature: enc_paym_4, unique values: {0, 1, 2, 3}\n",
            "Feature: enc_paym_5, unique values: {0, 1, 2, 3}\n",
            "Feature: enc_paym_6, unique values: {0, 1, 2, 3}\n",
            "Feature: enc_paym_7, unique values: {0, 1, 2, 3}\n",
            "Feature: enc_paym_8, unique values: {0, 1, 2, 3}\n",
            "Feature: enc_paym_9, unique values: {0, 1, 2, 3}\n",
            "Feature: enc_paym_10, unique values: {0, 1, 2, 3}\n",
            "Feature: enc_paym_11, unique values: {1, 2, 3, 4}\n",
            "Feature: enc_paym_12, unique values: {0, 1, 2, 3}\n",
            "Feature: enc_paym_13, unique values: {0, 1, 2, 3}\n",
            "Feature: enc_paym_14, unique values: {0, 1, 2, 3}\n",
            "Feature: enc_paym_15, unique values: {0, 1, 2, 3}\n",
            "Feature: enc_paym_16, unique values: {0, 1, 2, 3}\n",
            "Feature: enc_paym_17, unique values: {0, 1, 2, 3}\n",
            "Feature: enc_paym_18, unique values: {0, 1, 2, 3}\n",
            "Feature: enc_paym_19, unique values: {0, 1, 2, 3}\n",
            "Feature: enc_paym_20, unique values: {1, 2, 3, 4}\n",
            "Feature: enc_paym_21, unique values: {0, 1, 2, 3}\n",
            "Feature: enc_paym_22, unique values: {0, 1, 2, 3}\n",
            "Feature: enc_paym_23, unique values: {0, 1, 2, 3}\n",
            "Feature: enc_paym_24, unique values: {1, 2, 3, 4}\n",
            "Feature: enc_loans_account_holder_type, unique values: {0, 1, 2, 3, 4, 5, 6}\n",
            "Feature: enc_loans_credit_status, unique values: {0, 1, 2, 3, 4, 5, 6}\n",
            "Feature: enc_loans_credit_type, unique values: {0, 1, 2, 3, 4, 5, 6, 7}\n",
            "Feature: enc_loans_account_cur, unique values: {0, 1, 2, 3}\n",
            "Feature: pclose_flag, unique values: {0, 1}\n",
            "Feature: fclose_flag, unique values: {0, 1}\n"
          ]
        }
      ],
      "source": [
        "for feat, uniq in uniques.items():\n",
        "    print(f\"Feature: {feat}, unique values: {uniq}\")"
      ]
    },
    {
      "cell_type": "markdown",
      "metadata": {
        "id": "VCvBOKLJflXA"
      },
      "source": [
        "Поскольку паддинг будет производиться нулями, а категориальные признаки закодированы, начиная с 0, перед паддингом будем сдвигать все значения на 1."
      ]
    },
    {
      "cell_type": "markdown",
      "metadata": {
        "id": "zI13EvkjflXA"
      },
      "source": [
        "Вся предобработка данных реализована в виде функции `create_buckets_from_credits`:"
      ]
    },
    {
      "cell_type": "code",
      "execution_count": 14,
      "metadata": {
        "id": "qk2ZP6J5flXA"
      },
      "outputs": [],
      "source": [
        "def create_buckets_from_credits(path_to_dataset, bucket_info, save_to_path, frame_with_ids = None,\n",
        "                                num_parts_to_preprocess_at_once: int = 1,\n",
        "                                num_parts_total=50, has_target=False, shuffle_rn: bool = False, num_last_credits: int = 0):\n",
        "    block = 0\n",
        "    for step in tqdm.notebook.tqdm(range(0, num_parts_total, num_parts_to_preprocess_at_once),\n",
        "                     desc=\"Preparing credit data\"):\n",
        "        credits_frame = read_parquet_dataset_from_local(path_to_dataset, step, num_parts_to_preprocess_at_once, verbose=True)\n",
        "        credits_frame.loc[:, features] += 1\n",
        "        seq = transform_credits_to_sequences(credits_frame, num_last_credits=num_last_credits, shuffle_rn=shuffle_rn)\n",
        "        print(\"Transforming credits to sequences is done.\")\n",
        "\n",
        "        if frame_with_ids is not None:\n",
        "            seq = seq.merge(frame_with_ids, on=\"id\")\n",
        "\n",
        "        block_as_str = str(block)\n",
        "        if len(block_as_str) == 1:\n",
        "            block_as_str = \"00\" + block_as_str\n",
        "        else:\n",
        "            block_as_str = \"0\" + block_as_str\n",
        "\n",
        "        processed_fragment =  create_padded_buckets(seq, bucket_info=bucket_info, has_target=has_target,\n",
        "                                                    save_to_file_path=os.path.join(save_to_path,\n",
        "                                                                                   f\"processed_chunk_{block_as_str}.pkl\"))\n",
        "        block += 1"
      ]
    },
    {
      "cell_type": "markdown",
      "metadata": {
        "id": "auozgAPaMHkM"
      },
      "source": [
        "### K-FOLDS"
      ]
    },
    {
      "cell_type": "markdown",
      "metadata": {
        "id": "X1XR9VPyMHkM"
      },
      "source": [
        "Разобьем данные на 5 фолдов для обучения моделей и получения Out Of Bag прогнозов. Для нейросетевых методов будем использовать два вариента разбиения на фолды. В первом варианте порядок строк (исторических данных по кредитам клиента) остается неизменным. Во втором случае происходит случайное перемешивание строк."
      ]
    },
    {
      "cell_type": "markdown",
      "metadata": {
        "id": "B6OmSsVZMHkM"
      },
      "source": [
        "**Первый вариант разбиения:**"
      ]
    },
    {
      "cell_type": "code",
      "execution_count": 15,
      "metadata": {
        "id": "RmMsvxhAMHkN"
      },
      "outputs": [],
      "source": [
        "from sklearn.model_selection import StratifiedKFold\n",
        "cv = StratifiedKFold(n_splits=5, random_state=42, shuffle=True)"
      ]
    },
    {
      "cell_type": "code",
      "execution_count": 16,
      "metadata": {
        "colab": {
          "base_uri": "https://localhost:8080/"
        },
        "id": "20ih8-rPMHkN",
        "outputId": "b852a897-8dc3-45e1-c2da-7c046c4fcffd"
      },
      "outputs": [
        {
          "data": {
            "text/plain": [
              "<generator object _BaseKFold.split at 0x798e269829d0>"
            ]
          },
          "execution_count": 16,
          "metadata": {},
          "output_type": "execute_result"
        }
      ],
      "source": [
        "cv.split(train_target, train_target['flag'])"
      ]
    },
    {
      "cell_type": "code",
      "execution_count": 1,
      "metadata": {
        "colab": {
          "base_uri": "https://localhost:8080/",
          "height": 263
        },
        "id": "9hvEfzwpMHkN",
        "outputId": "131ce9d3-1d51-469c-a4e1-8124bd92b09b"
      },
      "outputs": [
        {
          "ename": "NameError",
          "evalue": "name 'cv' is not defined",
          "output_type": "error",
          "traceback": [
            "\u001b[0;31m---------------------------------------------------------------------------\u001b[0m",
            "\u001b[0;31mNameError\u001b[0m                                 Traceback (most recent call last)",
            "\u001b[0;32m<ipython-input-1-40ba0120a51c>\u001b[0m in \u001b[0;36m<cell line: 1>\u001b[0;34m()\u001b[0m\n\u001b[0;32m----> 1\u001b[0;31m \u001b[0;32mfor\u001b[0m \u001b[0mfold_\u001b[0m\u001b[0;34m,\u001b[0m \u001b[0;34m(\u001b[0m\u001b[0mtrain_idx\u001b[0m\u001b[0;34m,\u001b[0m \u001b[0mval_idx\u001b[0m\u001b[0;34m)\u001b[0m \u001b[0;32min\u001b[0m \u001b[0menumerate\u001b[0m\u001b[0;34m(\u001b[0m\u001b[0mcv\u001b[0m\u001b[0;34m.\u001b[0m\u001b[0msplit\u001b[0m\u001b[0;34m(\u001b[0m\u001b[0mtrain_target\u001b[0m\u001b[0;34m,\u001b[0m \u001b[0mtrain_target\u001b[0m\u001b[0;34m[\u001b[0m\u001b[0;34m'flag'\u001b[0m\u001b[0;34m]\u001b[0m\u001b[0;34m)\u001b[0m\u001b[0;34m,\u001b[0m \u001b[0;36m1\u001b[0m\u001b[0;34m)\u001b[0m\u001b[0;34m:\u001b[0m\u001b[0;34m\u001b[0m\u001b[0;34m\u001b[0m\u001b[0m\n\u001b[0m\u001b[1;32m      2\u001b[0m     \u001b[0;32mif\u001b[0m \u001b[0mfold_\u001b[0m \u001b[0;34m==\u001b[0m \u001b[0;36m5\u001b[0m\u001b[0;34m:\u001b[0m\u001b[0;34m\u001b[0m\u001b[0;34m\u001b[0m\u001b[0m\n\u001b[1;32m      3\u001b[0m         \u001b[0mprint\u001b[0m\u001b[0;34m(\u001b[0m\u001b[0mfold_\u001b[0m\u001b[0;34m)\u001b[0m\u001b[0;34m\u001b[0m\u001b[0;34m\u001b[0m\u001b[0m\n\u001b[1;32m      4\u001b[0m         \u001b[0mget_ipython\u001b[0m\u001b[0;34m(\u001b[0m\u001b[0;34m)\u001b[0m\u001b[0;34m.\u001b[0m\u001b[0msystem\u001b[0m\u001b[0;34m(\u001b[0m\u001b[0;34m'mkdir data_k_folds\\\\\\\\fold_{fold_}\\\\\\\\train_buckets_rnn'\u001b[0m\u001b[0;34m)\u001b[0m\u001b[0;34m\u001b[0m\u001b[0;34m\u001b[0m\u001b[0m\n\u001b[1;32m      5\u001b[0m         \u001b[0mget_ipython\u001b[0m\u001b[0;34m(\u001b[0m\u001b[0;34m)\u001b[0m\u001b[0;34m.\u001b[0m\u001b[0msystem\u001b[0m\u001b[0;34m(\u001b[0m\u001b[0;34m'mkdir data_k_folds\\\\\\\\fold_{fold_}\\\\\\\\val_buckets_rnn'\u001b[0m\u001b[0;34m)\u001b[0m\u001b[0;34m\u001b[0m\u001b[0;34m\u001b[0m\u001b[0m\n",
            "\u001b[0;31mNameError\u001b[0m: name 'cv' is not defined"
          ]
        }
      ],
      "source": [
        "for fold_, (train_idx, val_idx) in enumerate(cv.split(train_target, train_target['flag']), 1):\n",
        "    if fold_ == 5:\n",
        "        print(fold_)\n",
        "        !mkdir data_k_folds\\\\fold_{fold_}\\\\train_buckets_rnn\n",
        "        !mkdir data_k_folds\\\\fold_{fold_}\\\\val_buckets_rnn\n",
        "\n",
        "        TRAIN_BUCKETS_PATH = f\"data_k_folds\\\\fold_{fold_}\\\\train_buckets_rnn\"\n",
        "        VAL_BUCKETS_PATH = f\"data_k_folds\\\\fold_{fold_}\\\\val_buckets_rnn\"\n",
        "\n",
        "        train = train_target.iloc[train_idx]\n",
        "        val = train_target.iloc[val_idx]\n",
        "\n",
        "\n",
        "        create_buckets_from_credits(TRAIN_DATA_PATH,\n",
        "                                bucket_info=bucket_info,\n",
        "                                save_to_path=TRAIN_BUCKETS_PATH,\n",
        "                                frame_with_ids=train,\n",
        "                                num_parts_to_preprocess_at_once=2,\n",
        "                                num_parts_total=12, has_target=True)\n",
        "\n",
        "        create_buckets_from_credits(TRAIN_DATA_PATH,\n",
        "                                bucket_info=bucket_info,\n",
        "                                save_to_path=VAL_BUCKETS_PATH,\n",
        "                                frame_with_ids=val,\n",
        "                                num_parts_to_preprocess_at_once=2,\n",
        "                                num_parts_total=12, has_target=True)"
      ]
    },
    {
      "cell_type": "markdown",
      "metadata": {
        "id": "hs1-XnJ7MHkP"
      },
      "source": [
        "### Тестовая выборка:"
      ]
    },
    {
      "cell_type": "code",
      "execution_count": null,
      "metadata": {
        "id": "8gsWtfmmMHkP"
      },
      "outputs": [],
      "source": [
        "TEST_BUCKETS_PATH = \"test_buckets_rnn\""
      ]
    },
    {
      "cell_type": "code",
      "execution_count": null,
      "metadata": {
        "id": "TmmTX-OGMHkP",
        "outputId": "5c12c7c0-7e1c-4ad3-87e2-2bbc6857e759"
      },
      "outputs": [
        {
          "name": "stdout",
          "output_type": "stream",
          "text": [
            "Wall time: 0 ns\n"
          ]
        },
        {
          "data": {
            "text/plain": [
              "['G:\\\\Alfa_Bank_competition\\\\test_buckets_rnn\\\\processed_chunk_000.pkl']"
            ]
          },
          "execution_count": 16,
          "metadata": {},
          "output_type": "execute_result"
        }
      ],
      "source": [
        "%%time\n",
        "тестовая выборка\n",
        "create_buckets_from_credits(TEST_DATA_PATH,\n",
        "                            bucket_info=bucket_info,\n",
        "                            save_to_path=TEST_BUCKETS_PATH, num_parts_to_preprocess_at_once=2,\n",
        "                            num_parts_total=2)\n",
        "\n",
        "dataset_test = sorted([os.path.join(TEST_BUCKETS_PATH, x) for x in os.listdir(TEST_BUCKETS_PATH)])\n",
        "dataset_test"
      ]
    },
    {
      "cell_type": "markdown",
      "metadata": {
        "id": "H6zl4QPqflXC"
      },
      "source": [
        "### Обучение нейросетевых моделей"
      ]
    },
    {
      "cell_type": "code",
      "execution_count": null,
      "metadata": {
        "colab": {
          "base_uri": "https://localhost:8080/"
        },
        "id": "47mZA20gflXD",
        "outputId": "10e42377-59c8-447c-b4f4-e18237815c86"
      },
      "outputs": [
        {
          "name": "stdout",
          "output_type": "stream",
          "text": [
            "Using device: cuda\n"
          ]
        }
      ],
      "source": [
        "device = torch.device('cuda' if torch.cuda.is_available() else 'cpu')\n",
        "print('Using device:', device)"
      ]
    },
    {
      "cell_type": "markdown",
      "metadata": {
        "id": "TU2_Mut4flXD"
      },
      "source": [
        "Для создания модели будем использовать фреймворк `torch`.\n",
        "\n",
        "Для того, чтобы можно было обучать нейронную сеть и отслеживать ее качество, предоставлены следующие функции:\n",
        "    `data_generators_with_mask.batches_generator` &ndash; функция-генератор, итеративно возвращает батчи, поддерживает батчи для  `torch.nn.Module` моделей. В зависимости от флага `is_train` может быть использована для генерации батчей на train/val/test стадии.\n",
        " - функция `train_models.train_epoch` &ndash; обучает модель одну эпоху.\n",
        " - функция `train_models.eval_model` &ndash; проверяет качество модели на отложенной выборке и возвращает roc_auc_score.\n",
        " - функция `ptrain_models.inference` &ndash; делает предикты на новых данных и готовит фрейм для проверяющей системы.\n",
        " - класс `training_aux.EarlyStopping` &ndash; реализует early_stopping, сохраняя лучшую модель. Пример использования приведен ниже."
      ]
    },
    {
      "cell_type": "code",
      "execution_count": null,
      "metadata": {
        "id": "RliSl7s4flXE"
      },
      "outputs": [],
      "source": [
        "from data_generators_with_mask import batches_generator\n",
        "from train_models import train, train_epoch, eval_model, inference\n",
        "from training_aux import EarlyStopping"
      ]
    },
    {
      "cell_type": "markdown",
      "metadata": {
        "id": "eJcxFkdoflXE"
      },
      "source": [
        "Все признаки, описывающие кредитную историю клиентов &ndash; категориальные. Для их представления в модели используем категориальные эмбеддинги. Для этого нужно каждому категориальному признаку задать размерность латентного пространства. Используем [формулу](https://forums.fast.ai/t/size-of-embedding-for-categorical-variables/42608) из библиотеки `fast.ai`."
      ]
    },
    {
      "cell_type": "code",
      "execution_count": null,
      "metadata": {
        "id": "DMmahS9VflXE"
      },
      "outputs": [],
      "source": [
        "def compute_embed_dim(n_cat: int) -> int:\n",
        "    return min(600, round(1.6 * n_cat**0.56))"
      ]
    },
    {
      "cell_type": "code",
      "execution_count": null,
      "metadata": {
        "colab": {
          "base_uri": "https://localhost:8080/"
        },
        "id": "b8nxRkrdflXE",
        "outputId": "3e75ed63-e9ff-43ce-8e32-94625afd874a"
      },
      "outputs": [
        {
          "data": {
            "text/plain": [
              "{'pre_since_opened': (20, 9),\n",
              " 'pre_since_confirmed': (18, 8),\n",
              " 'pre_pterm': (18, 8),\n",
              " 'pre_fterm': (17, 8),\n",
              " 'pre_till_pclose': (17, 8),\n",
              " 'pre_till_fclose': (16, 8),\n",
              " 'pre_loans_credit_limit': (20, 9),\n",
              " 'pre_loans_next_pay_summ': (8, 5),\n",
              " 'pre_loans_outstanding': (6, 4),\n",
              " 'pre_loans_total_overdue': (2, 2),\n",
              " 'pre_loans_max_overdue_sum': (4, 3),\n",
              " 'pre_loans_credit_cost_rate': (14, 7),\n",
              " 'pre_loans5': (18, 8),\n",
              " 'pre_loans530': (20, 9),\n",
              " 'pre_loans3060': (10, 6),\n",
              " 'pre_loans6090': (6, 4),\n",
              " 'pre_loans90': (20, 9),\n",
              " 'is_zero_loans5': (2, 2),\n",
              " 'is_zero_loans530': (2, 2),\n",
              " 'is_zero_loans3060': (2, 2),\n",
              " 'is_zero_loans6090': (2, 2),\n",
              " 'is_zero_loans90': (2, 2),\n",
              " 'pre_util': (20, 9),\n",
              " 'pre_over2limit': (20, 9),\n",
              " 'pre_maxover2limit': (20, 9),\n",
              " 'is_zero_util': (2, 2),\n",
              " 'is_zero_over2limit': (2, 2),\n",
              " 'is_zero_maxover2limit': (2, 2),\n",
              " 'enc_paym_0': (4, 3),\n",
              " 'enc_paym_1': (4, 3),\n",
              " 'enc_paym_2': (4, 3),\n",
              " 'enc_paym_3': (4, 3),\n",
              " 'enc_paym_4': (4, 3),\n",
              " 'enc_paym_5': (4, 3),\n",
              " 'enc_paym_6': (4, 3),\n",
              " 'enc_paym_7': (4, 3),\n",
              " 'enc_paym_8': (4, 3),\n",
              " 'enc_paym_9': (4, 3),\n",
              " 'enc_paym_10': (4, 3),\n",
              " 'enc_paym_11': (5, 4),\n",
              " 'enc_paym_12': (4, 3),\n",
              " 'enc_paym_13': (4, 3),\n",
              " 'enc_paym_14': (4, 3),\n",
              " 'enc_paym_15': (4, 3),\n",
              " 'enc_paym_16': (4, 3),\n",
              " 'enc_paym_17': (4, 3),\n",
              " 'enc_paym_18': (4, 3),\n",
              " 'enc_paym_19': (4, 3),\n",
              " 'enc_paym_20': (5, 4),\n",
              " 'enc_paym_21': (4, 3),\n",
              " 'enc_paym_22': (4, 3),\n",
              " 'enc_paym_23': (4, 3),\n",
              " 'enc_paym_24': (5, 4),\n",
              " 'enc_loans_account_holder_type': (7, 5),\n",
              " 'enc_loans_credit_status': (7, 5),\n",
              " 'enc_loans_credit_type': (8, 5),\n",
              " 'enc_loans_account_cur': (4, 3),\n",
              " 'pclose_flag': (2, 2),\n",
              " 'fclose_flag': (2, 2)}"
            ]
          },
          "execution_count": 20,
          "metadata": {},
          "output_type": "execute_result"
        }
      ],
      "source": [
        "embedding_projections = {feat: (max(uniq)+1, compute_embed_dim(max(uniq)+1)) for feat, uniq in uniques.items()}\n",
        "embedding_projections"
      ]
    },
    {
      "cell_type": "markdown",
      "metadata": {
        "id": "UTsp1U-WMHkV"
      },
      "source": [
        "**BIDIRECTIONAL RNN + LAST Hidden**"
      ]
    },
    {
      "cell_type": "code",
      "execution_count": null,
      "metadata": {
        "id": "gYt0eDRCMHkV"
      },
      "outputs": [],
      "source": [
        "path_to_checkpoints = \"model_RNN_LAST_HIDDEN_FOLDS\""
      ]
    },
    {
      "cell_type": "code",
      "execution_count": null,
      "metadata": {
        "id": "tbdsZx48MHkW"
      },
      "outputs": [],
      "source": [
        "from models import CreditsRNN_LAST_HIDDEN"
      ]
    },
    {
      "cell_type": "code",
      "execution_count": null,
      "metadata": {
        "colab": {
          "referenced_widgets": [
            "63f9b56a98d94cacb2180e176cd03607",
            "b3689a1b39c2474588c034980bbbe598",
            "b3c6e64a547c4127a32c1f965da918fa",
            "c8fce48221d94ae7901ab48cd68904f6",
            "43cfef9fffdc497fb58baccfc692201c",
            "abfda5047c964dfb976d21ef50e95f08",
            "1ab3582a72f749088e2339ae6c067836",
            "234ae53ce7f94708ad39d93262a3aaef",
            "1425ce4cd0364ea4bad25bab8245fae9",
            "8b554732fbed48f4b9b8f2b4db117439",
            "f2c39ab37f2c4ad5814dff15defb4c7a",
            "65968dd43f904b30a8ae9a42c188d0ae",
            "92b5d76bfe584e9a89887d65a484edac",
            "74e2c9e15f1a41dfb9f34547bca8aee1",
            "9a79f12412794eb69dcb954493453281",
            "628dc71f764f4ffab551cb55928bb22d",
            "7ddb8db3a4524095948fa3fe6fe1d44a",
            "24084abc780b486980f52e3facdc20ed",
            "6cf876d290234db7a69a2b4f33d319aa",
            "956d7ab887c640c4b5f1d045abae28a5",
            "0dd10d5181e7488fbbcee70f99df4964",
            "2d228e6dc5a64e3abb20c4508cda88c7",
            "95f2898c2b2146ed8d63a0d5692e3dce",
            "4bfef606c0494aeab0aa2cfbf27b8a23",
            "19d345dd57c144f58343cfc561ff1b8b",
            "2002082bb6e140e881fcd6481bddc385",
            "61fafbb4cd2c43f5a4704353e0fabc08",
            "df9918b978bb4df0aef39e3e43b0ff9c",
            "2718b19a537442fa860c5aa52f7c3719",
            "737471f999ce4ccea33ea38a75331202",
            "7243f92be53045dda5559ea768d797ed",
            "d105101f2c33487fa58be771b5b954b2",
            "fcbbd177dae849f89c0c738ee05a100b",
            "da8770530d084011abc011edae653118",
            "7f0eae4b16b34c7b925da1971527a173",
            "68fe147958954e9e9868d9a4136bd027",
            "d5d79f991e864989b263bd96d77351b9",
            "c9d403f2c9d34ff8bfaad06515a9f792",
            "02aa01e31f5a4fd093629fabcabc2b9c",
            "ece3ff26df3b4ee2b52c814cfe8d1f45",
            "a92ee00058fa4865a9ac07b3eb2aeb5c",
            "daeb0ee8aaef4913b06aead60cdc8107",
            "91131d4dc9f6441786261e54c1353bd1",
            "5c4f988d1a804bc79b92bf7cff1c0838",
            "9c70819ff281492a907e63b02e948b8c",
            "0777a331163142bfa8f81b8cfcc7d311",
            "8c2f90b5284d4076a12e1f49ff435093",
            "3a3386734b53475f879f438370de44d7",
            "1ff4d883f342433d885acbd1cf40b692",
            "666cc7718a2c421996a1e1c45c81a502",
            "06bceeee08954aeab192b4d4265acf4f",
            "fe815a2822714bbdaeb4cf535dc2e2cb",
            "a9fb7673531340bea6002ad7e0a71a1f",
            "8ea2297ade3a49fbb28cc2a05426812a",
            "ada2cfdb2342464d8d50c550bc5ff819",
            "aed4c26af7c4427ca8e77bd717fe096a",
            "6c9d9b9cd2e246b0b97f14f983b5ac55",
            "75aebc8df0884ece86511c70ecf04c4e",
            "8f0167c4e8b743aaa21b068eaa4eaf60",
            "c86e324ace9143ad979d3e6fe11bd8c3",
            "df4c32d99d9845e3911ddc1f063fba4f",
            "27bc11f83a1f45a2b78e0690b5046a0a",
            "8d616a011ce048aba9cfbe6b5d1b4adc",
            "67904d1ca9024868b956c9a71fac0ad6",
            "d3009763bdbe45f0a24edefbbba577c4",
            "f8607b462a3f4759ada8035809b5fb0f",
            "851e1cdfeeea428095ebdcbea31595ee",
            "e9c38adf09784a208b6ab7118f46a35e",
            "5fa35b5131404891be3020ecf4e5f01c",
            "c18dd9c88e8a4bcaa9a37909774f40f0",
            "ed866db05b1c43e8a842bbccdd5a8fe9",
            "2310c1e0e1f44282bce0fc1ad040b0f8",
            "b73c830cf9dd4bbdaf8828d2cdf50ffa",
            "98511c9e7071427baf368482e722e7f5"
          ]
        },
        "id": "WjBGgyojMHkW",
        "outputId": "664225e2-8436-434c-dcf8-d6bfc7f5d3f7"
      },
      "outputs": [
        {
          "name": "stdout",
          "output_type": "stream",
          "text": [
            "Training fold 1:\n",
            "Starting epoch 1\n"
          ]
        },
        {
          "data": {
            "application/vnd.jupyter.widget-view+json": {
              "model_id": "63f9b56a98d94cacb2180e176cd03607",
              "version_major": 2,
              "version_minor": 0
            },
            "text/plain": [
              "Training: 0it [00:00, ?it/s]"
            ]
          },
          "metadata": {},
          "output_type": "display_data"
        },
        {
          "name": "stdout",
          "output_type": "stream",
          "text": [
            "Training loss after epoch: 0.015751436352729797\r"
          ]
        },
        {
          "data": {
            "application/vnd.jupyter.widget-view+json": {
              "model_id": "b3689a1b39c2474588c034980bbbe598",
              "version_major": 2,
              "version_minor": 0
            },
            "text/plain": [
              "Evaluating model: 0it [00:00, ?it/s]"
            ]
          },
          "metadata": {},
          "output_type": "display_data"
        },
        {
          "name": "stdout",
          "output_type": "stream",
          "text": [
            "Validation ROC-AUC improved (-inf --> 0.773711).  Saving model...\n"
          ]
        },
        {
          "data": {
            "application/vnd.jupyter.widget-view+json": {
              "model_id": "b3c6e64a547c4127a32c1f965da918fa",
              "version_major": 2,
              "version_minor": 0
            },
            "text/plain": [
              "Evaluating model: 0it [00:00, ?it/s]"
            ]
          },
          "metadata": {},
          "output_type": "display_data"
        },
        {
          "name": "stdout",
          "output_type": "stream",
          "text": [
            "Epoch 1 completed. Train ROC AUC: 0.7770036490243711, val ROC AUC: 0.7737108338943375\n",
            "Starting epoch 2\n"
          ]
        },
        {
          "data": {
            "application/vnd.jupyter.widget-view+json": {
              "model_id": "c8fce48221d94ae7901ab48cd68904f6",
              "version_major": 2,
              "version_minor": 0
            },
            "text/plain": [
              "Training: 0it [00:00, ?it/s]"
            ]
          },
          "metadata": {},
          "output_type": "display_data"
        },
        {
          "name": "stdout",
          "output_type": "stream",
          "text": [
            "Training loss after epoch: 0.015347626991569996\r"
          ]
        },
        {
          "data": {
            "application/vnd.jupyter.widget-view+json": {
              "model_id": "43cfef9fffdc497fb58baccfc692201c",
              "version_major": 2,
              "version_minor": 0
            },
            "text/plain": [
              "Evaluating model: 0it [00:00, ?it/s]"
            ]
          },
          "metadata": {},
          "output_type": "display_data"
        },
        {
          "name": "stdout",
          "output_type": "stream",
          "text": [
            "Validation ROC-AUC improved (0.773711 --> 0.780416).  Saving model...\n"
          ]
        },
        {
          "data": {
            "application/vnd.jupyter.widget-view+json": {
              "model_id": "abfda5047c964dfb976d21ef50e95f08",
              "version_major": 2,
              "version_minor": 0
            },
            "text/plain": [
              "Evaluating model: 0it [00:00, ?it/s]"
            ]
          },
          "metadata": {},
          "output_type": "display_data"
        },
        {
          "name": "stdout",
          "output_type": "stream",
          "text": [
            "Epoch 2 completed. Train ROC AUC: 0.7860739515441013, val ROC AUC: 0.7804156591989901\n",
            "Starting epoch 3\n"
          ]
        },
        {
          "data": {
            "application/vnd.jupyter.widget-view+json": {
              "model_id": "1ab3582a72f749088e2339ae6c067836",
              "version_major": 2,
              "version_minor": 0
            },
            "text/plain": [
              "Training: 0it [00:00, ?it/s]"
            ]
          },
          "metadata": {},
          "output_type": "display_data"
        },
        {
          "name": "stdout",
          "output_type": "stream",
          "text": [
            "Training loss after epoch: 0.015172006562352186\r"
          ]
        },
        {
          "data": {
            "application/vnd.jupyter.widget-view+json": {
              "model_id": "234ae53ce7f94708ad39d93262a3aaef",
              "version_major": 2,
              "version_minor": 0
            },
            "text/plain": [
              "Evaluating model: 0it [00:00, ?it/s]"
            ]
          },
          "metadata": {},
          "output_type": "display_data"
        },
        {
          "name": "stdout",
          "output_type": "stream",
          "text": [
            "No imporvement in validation ROC-AUC. Current: 0.776783. Current best: 0.780416\n",
            "EarlyStopping counter: 1 out of 3\n",
            "Epoch 00003: reducing learning rate of group 0 to 1.5811e-04.\n"
          ]
        },
        {
          "data": {
            "application/vnd.jupyter.widget-view+json": {
              "model_id": "1425ce4cd0364ea4bad25bab8245fae9",
              "version_major": 2,
              "version_minor": 0
            },
            "text/plain": [
              "Evaluating model: 0it [00:00, ?it/s]"
            ]
          },
          "metadata": {},
          "output_type": "display_data"
        },
        {
          "name": "stdout",
          "output_type": "stream",
          "text": [
            "Epoch 3 completed. Train ROC AUC: 0.7842383174311967, val ROC AUC: 0.776783199093555\n",
            "Starting epoch 4\n"
          ]
        },
        {
          "data": {
            "application/vnd.jupyter.widget-view+json": {
              "model_id": "8b554732fbed48f4b9b8f2b4db117439",
              "version_major": 2,
              "version_minor": 0
            },
            "text/plain": [
              "Training: 0it [00:00, ?it/s]"
            ]
          },
          "metadata": {},
          "output_type": "display_data"
        },
        {
          "name": "stdout",
          "output_type": "stream",
          "text": [
            "Training loss after epoch: 0.014849732629954815\r"
          ]
        },
        {
          "data": {
            "application/vnd.jupyter.widget-view+json": {
              "model_id": "f2c39ab37f2c4ad5814dff15defb4c7a",
              "version_major": 2,
              "version_minor": 0
            },
            "text/plain": [
              "Evaluating model: 0it [00:00, ?it/s]"
            ]
          },
          "metadata": {},
          "output_type": "display_data"
        },
        {
          "name": "stdout",
          "output_type": "stream",
          "text": [
            "No imporvement in validation ROC-AUC. Current: 0.779983. Current best: 0.780416\n",
            "EarlyStopping counter: 2 out of 3\n"
          ]
        },
        {
          "data": {
            "application/vnd.jupyter.widget-view+json": {
              "model_id": "65968dd43f904b30a8ae9a42c188d0ae",
              "version_major": 2,
              "version_minor": 0
            },
            "text/plain": [
              "Evaluating model: 0it [00:00, ?it/s]"
            ]
          },
          "metadata": {},
          "output_type": "display_data"
        },
        {
          "name": "stdout",
          "output_type": "stream",
          "text": [
            "Epoch 4 completed. Train ROC AUC: 0.8001122132571945, val ROC AUC: 0.7799831127776533\n",
            "Starting epoch 5\n"
          ]
        },
        {
          "data": {
            "application/vnd.jupyter.widget-view+json": {
              "model_id": "92b5d76bfe584e9a89887d65a484edac",
              "version_major": 2,
              "version_minor": 0
            },
            "text/plain": [
              "Training: 0it [00:00, ?it/s]"
            ]
          },
          "metadata": {},
          "output_type": "display_data"
        },
        {
          "name": "stdout",
          "output_type": "stream",
          "text": [
            "Training loss after epoch: 0.014679970219731331\r"
          ]
        },
        {
          "data": {
            "application/vnd.jupyter.widget-view+json": {
              "model_id": "74e2c9e15f1a41dfb9f34547bca8aee1",
              "version_major": 2,
              "version_minor": 0
            },
            "text/plain": [
              "Evaluating model: 0it [00:00, ?it/s]"
            ]
          },
          "metadata": {},
          "output_type": "display_data"
        },
        {
          "name": "stdout",
          "output_type": "stream",
          "text": [
            "No imporvement in validation ROC-AUC. Current: 0.779353. Current best: 0.780416\n",
            "EarlyStopping counter: 3 out of 3\n",
            "Early stopping reached. Stop training...\n",
            "Training fold 2:\n",
            "Starting epoch 1\n"
          ]
        },
        {
          "data": {
            "application/vnd.jupyter.widget-view+json": {
              "model_id": "9a79f12412794eb69dcb954493453281",
              "version_major": 2,
              "version_minor": 0
            },
            "text/plain": [
              "Training: 0it [00:00, ?it/s]"
            ]
          },
          "metadata": {},
          "output_type": "display_data"
        },
        {
          "name": "stdout",
          "output_type": "stream",
          "text": [
            "Training loss after epoch: 0.015747772529721263\r"
          ]
        },
        {
          "data": {
            "application/vnd.jupyter.widget-view+json": {
              "model_id": "628dc71f764f4ffab551cb55928bb22d",
              "version_major": 2,
              "version_minor": 0
            },
            "text/plain": [
              "Evaluating model: 0it [00:00, ?it/s]"
            ]
          },
          "metadata": {},
          "output_type": "display_data"
        },
        {
          "name": "stdout",
          "output_type": "stream",
          "text": [
            "Validation ROC-AUC improved (-inf --> 0.773056).  Saving model...\n"
          ]
        },
        {
          "data": {
            "application/vnd.jupyter.widget-view+json": {
              "model_id": "7ddb8db3a4524095948fa3fe6fe1d44a",
              "version_major": 2,
              "version_minor": 0
            },
            "text/plain": [
              "Evaluating model: 0it [00:00, ?it/s]"
            ]
          },
          "metadata": {},
          "output_type": "display_data"
        },
        {
          "name": "stdout",
          "output_type": "stream",
          "text": [
            "Epoch 1 completed. Train ROC AUC: 0.7757133823329072, val ROC AUC: 0.7730557238091074\n",
            "Starting epoch 2\n"
          ]
        },
        {
          "data": {
            "application/vnd.jupyter.widget-view+json": {
              "model_id": "24084abc780b486980f52e3facdc20ed",
              "version_major": 2,
              "version_minor": 0
            },
            "text/plain": [
              "Training: 0it [00:00, ?it/s]"
            ]
          },
          "metadata": {},
          "output_type": "display_data"
        },
        {
          "name": "stdout",
          "output_type": "stream",
          "text": [
            "Training loss after epoch: 0.015334466472268105\r"
          ]
        },
        {
          "data": {
            "application/vnd.jupyter.widget-view+json": {
              "model_id": "6cf876d290234db7a69a2b4f33d319aa",
              "version_major": 2,
              "version_minor": 0
            },
            "text/plain": [
              "Evaluating model: 0it [00:00, ?it/s]"
            ]
          },
          "metadata": {},
          "output_type": "display_data"
        },
        {
          "name": "stdout",
          "output_type": "stream",
          "text": [
            "Validation ROC-AUC improved (0.773056 --> 0.778673).  Saving model...\n"
          ]
        },
        {
          "data": {
            "application/vnd.jupyter.widget-view+json": {
              "model_id": "956d7ab887c640c4b5f1d045abae28a5",
              "version_major": 2,
              "version_minor": 0
            },
            "text/plain": [
              "Evaluating model: 0it [00:00, ?it/s]"
            ]
          },
          "metadata": {},
          "output_type": "display_data"
        },
        {
          "name": "stdout",
          "output_type": "stream",
          "text": [
            "Epoch 2 completed. Train ROC AUC: 0.7840023528009195, val ROC AUC: 0.77867254949599\n",
            "Starting epoch 3\n"
          ]
        },
        {
          "data": {
            "application/vnd.jupyter.widget-view+json": {
              "model_id": "0dd10d5181e7488fbbcee70f99df4964",
              "version_major": 2,
              "version_minor": 0
            },
            "text/plain": [
              "Training: 0it [00:00, ?it/s]"
            ]
          },
          "metadata": {},
          "output_type": "display_data"
        },
        {
          "name": "stdout",
          "output_type": "stream",
          "text": [
            "Training loss after epoch: 0.015159752219915398\r"
          ]
        },
        {
          "data": {
            "application/vnd.jupyter.widget-view+json": {
              "model_id": "2d228e6dc5a64e3abb20c4508cda88c7",
              "version_major": 2,
              "version_minor": 0
            },
            "text/plain": [
              "Evaluating model: 0it [00:00, ?it/s]"
            ]
          },
          "metadata": {},
          "output_type": "display_data"
        },
        {
          "name": "stdout",
          "output_type": "stream",
          "text": [
            "No imporvement in validation ROC-AUC. Current: 0.775384. Current best: 0.778673\n",
            "EarlyStopping counter: 1 out of 3\n",
            "Epoch 00003: reducing learning rate of group 0 to 1.5811e-04.\n"
          ]
        },
        {
          "data": {
            "application/vnd.jupyter.widget-view+json": {
              "model_id": "95f2898c2b2146ed8d63a0d5692e3dce",
              "version_major": 2,
              "version_minor": 0
            },
            "text/plain": [
              "Evaluating model: 0it [00:00, ?it/s]"
            ]
          },
          "metadata": {},
          "output_type": "display_data"
        },
        {
          "name": "stdout",
          "output_type": "stream",
          "text": [
            "Epoch 3 completed. Train ROC AUC: 0.784784037026769, val ROC AUC: 0.775384378348853\n",
            "Starting epoch 4\n"
          ]
        },
        {
          "data": {
            "application/vnd.jupyter.widget-view+json": {
              "model_id": "4bfef606c0494aeab0aa2cfbf27b8a23",
              "version_major": 2,
              "version_minor": 0
            },
            "text/plain": [
              "Training: 0it [00:00, ?it/s]"
            ]
          },
          "metadata": {},
          "output_type": "display_data"
        },
        {
          "name": "stdout",
          "output_type": "stream",
          "text": [
            "Training loss after epoch: 0.014805042184889317\r"
          ]
        },
        {
          "data": {
            "application/vnd.jupyter.widget-view+json": {
              "model_id": "19d345dd57c144f58343cfc561ff1b8b",
              "version_major": 2,
              "version_minor": 0
            },
            "text/plain": [
              "Evaluating model: 0it [00:00, ?it/s]"
            ]
          },
          "metadata": {},
          "output_type": "display_data"
        },
        {
          "name": "stdout",
          "output_type": "stream",
          "text": [
            "Validation ROC-AUC improved (0.778673 --> 0.779463).  Saving model...\n"
          ]
        },
        {
          "data": {
            "application/vnd.jupyter.widget-view+json": {
              "model_id": "2002082bb6e140e881fcd6481bddc385",
              "version_major": 2,
              "version_minor": 0
            },
            "text/plain": [
              "Evaluating model: 0it [00:00, ?it/s]"
            ]
          },
          "metadata": {},
          "output_type": "display_data"
        },
        {
          "name": "stdout",
          "output_type": "stream",
          "text": [
            "Epoch 4 completed. Train ROC AUC: 0.8021661875012662, val ROC AUC: 0.7794633904200502\n",
            "Starting epoch 5\n"
          ]
        },
        {
          "data": {
            "application/vnd.jupyter.widget-view+json": {
              "model_id": "61fafbb4cd2c43f5a4704353e0fabc08",
              "version_major": 2,
              "version_minor": 0
            },
            "text/plain": [
              "Training: 0it [00:00, ?it/s]"
            ]
          },
          "metadata": {},
          "output_type": "display_data"
        },
        {
          "name": "stdout",
          "output_type": "stream",
          "text": [
            "Training loss after epoch: 0.014605188742280006\r"
          ]
        },
        {
          "data": {
            "application/vnd.jupyter.widget-view+json": {
              "model_id": "df9918b978bb4df0aef39e3e43b0ff9c",
              "version_major": 2,
              "version_minor": 0
            },
            "text/plain": [
              "Evaluating model: 0it [00:00, ?it/s]"
            ]
          },
          "metadata": {},
          "output_type": "display_data"
        },
        {
          "name": "stdout",
          "output_type": "stream",
          "text": [
            "Validation ROC-AUC improved (0.779463 --> 0.780918).  Saving model...\n",
            "Epoch 00005: reducing learning rate of group 0 to 5.0000e-05.\n"
          ]
        },
        {
          "data": {
            "application/vnd.jupyter.widget-view+json": {
              "model_id": "2718b19a537442fa860c5aa52f7c3719",
              "version_major": 2,
              "version_minor": 0
            },
            "text/plain": [
              "Evaluating model: 0it [00:00, ?it/s]"
            ]
          },
          "metadata": {},
          "output_type": "display_data"
        },
        {
          "name": "stdout",
          "output_type": "stream",
          "text": [
            "Epoch 5 completed. Train ROC AUC: 0.8096950465625067, val ROC AUC: 0.78091835514003\n",
            "Training fold 3:\n",
            "Starting epoch 1\n"
          ]
        },
        {
          "data": {
            "application/vnd.jupyter.widget-view+json": {
              "model_id": "737471f999ce4ccea33ea38a75331202",
              "version_major": 2,
              "version_minor": 0
            },
            "text/plain": [
              "Training: 0it [00:00, ?it/s]"
            ]
          },
          "metadata": {},
          "output_type": "display_data"
        },
        {
          "name": "stdout",
          "output_type": "stream",
          "text": [
            "Training loss after epoch: 0.015741558745503426\r"
          ]
        },
        {
          "data": {
            "application/vnd.jupyter.widget-view+json": {
              "model_id": "7243f92be53045dda5559ea768d797ed",
              "version_major": 2,
              "version_minor": 0
            },
            "text/plain": [
              "Evaluating model: 0it [00:00, ?it/s]"
            ]
          },
          "metadata": {},
          "output_type": "display_data"
        },
        {
          "name": "stdout",
          "output_type": "stream",
          "text": [
            "Validation ROC-AUC improved (-inf --> 0.769151).  Saving model...\n"
          ]
        },
        {
          "data": {
            "application/vnd.jupyter.widget-view+json": {
              "model_id": "d105101f2c33487fa58be771b5b954b2",
              "version_major": 2,
              "version_minor": 0
            },
            "text/plain": [
              "Evaluating model: 0it [00:00, ?it/s]"
            ]
          },
          "metadata": {},
          "output_type": "display_data"
        },
        {
          "name": "stdout",
          "output_type": "stream",
          "text": [
            "Epoch 1 completed. Train ROC AUC: 0.7765645706018005, val ROC AUC: 0.7691507376669753\n",
            "Starting epoch 2\n"
          ]
        },
        {
          "data": {
            "application/vnd.jupyter.widget-view+json": {
              "model_id": "fcbbd177dae849f89c0c738ee05a100b",
              "version_major": 2,
              "version_minor": 0
            },
            "text/plain": [
              "Training: 0it [00:00, ?it/s]"
            ]
          },
          "metadata": {},
          "output_type": "display_data"
        },
        {
          "name": "stdout",
          "output_type": "stream",
          "text": [
            "Training loss after epoch: 0.015327190980315208\r"
          ]
        },
        {
          "data": {
            "application/vnd.jupyter.widget-view+json": {
              "model_id": "da8770530d084011abc011edae653118",
              "version_major": 2,
              "version_minor": 0
            },
            "text/plain": [
              "Evaluating model: 0it [00:00, ?it/s]"
            ]
          },
          "metadata": {},
          "output_type": "display_data"
        },
        {
          "name": "stdout",
          "output_type": "stream",
          "text": [
            "Validation ROC-AUC improved (0.769151 --> 0.772390).  Saving model...\n"
          ]
        },
        {
          "data": {
            "application/vnd.jupyter.widget-view+json": {
              "model_id": "7f0eae4b16b34c7b925da1971527a173",
              "version_major": 2,
              "version_minor": 0
            },
            "text/plain": [
              "Evaluating model: 0it [00:00, ?it/s]"
            ]
          },
          "metadata": {},
          "output_type": "display_data"
        },
        {
          "name": "stdout",
          "output_type": "stream",
          "text": [
            "Epoch 2 completed. Train ROC AUC: 0.7833744014613515, val ROC AUC: 0.7723904640610401\n",
            "Starting epoch 3\n"
          ]
        },
        {
          "data": {
            "application/vnd.jupyter.widget-view+json": {
              "model_id": "68fe147958954e9e9868d9a4136bd027",
              "version_major": 2,
              "version_minor": 0
            },
            "text/plain": [
              "Training: 0it [00:00, ?it/s]"
            ]
          },
          "metadata": {},
          "output_type": "display_data"
        },
        {
          "name": "stdout",
          "output_type": "stream",
          "text": [
            "Training loss after epoch: 0.015154223889112473\r"
          ]
        },
        {
          "data": {
            "application/vnd.jupyter.widget-view+json": {
              "model_id": "d5d79f991e864989b263bd96d77351b9",
              "version_major": 2,
              "version_minor": 0
            },
            "text/plain": [
              "Evaluating model: 0it [00:00, ?it/s]"
            ]
          },
          "metadata": {},
          "output_type": "display_data"
        },
        {
          "name": "stdout",
          "output_type": "stream",
          "text": [
            "Validation ROC-AUC improved (0.772390 --> 0.773862).  Saving model...\n",
            "Epoch 00003: reducing learning rate of group 0 to 1.5811e-04.\n"
          ]
        },
        {
          "data": {
            "application/vnd.jupyter.widget-view+json": {
              "model_id": "c9d403f2c9d34ff8bfaad06515a9f792",
              "version_major": 2,
              "version_minor": 0
            },
            "text/plain": [
              "Evaluating model: 0it [00:00, ?it/s]"
            ]
          },
          "metadata": {},
          "output_type": "display_data"
        },
        {
          "name": "stdout",
          "output_type": "stream",
          "text": [
            "Epoch 3 completed. Train ROC AUC: 0.7889804776563297, val ROC AUC: 0.7738616665369613\n",
            "Starting epoch 4\n"
          ]
        },
        {
          "data": {
            "application/vnd.jupyter.widget-view+json": {
              "model_id": "02aa01e31f5a4fd093629fabcabc2b9c",
              "version_major": 2,
              "version_minor": 0
            },
            "text/plain": [
              "Training: 0it [00:00, ?it/s]"
            ]
          },
          "metadata": {},
          "output_type": "display_data"
        },
        {
          "name": "stdout",
          "output_type": "stream",
          "text": [
            "Training loss after epoch: 0.014826933853328228\r"
          ]
        },
        {
          "data": {
            "application/vnd.jupyter.widget-view+json": {
              "model_id": "ece3ff26df3b4ee2b52c814cfe8d1f45",
              "version_major": 2,
              "version_minor": 0
            },
            "text/plain": [
              "Evaluating model: 0it [00:00, ?it/s]"
            ]
          },
          "metadata": {},
          "output_type": "display_data"
        },
        {
          "name": "stdout",
          "output_type": "stream",
          "text": [
            "Validation ROC-AUC improved (0.773862 --> 0.776063).  Saving model...\n"
          ]
        },
        {
          "data": {
            "application/vnd.jupyter.widget-view+json": {
              "model_id": "a92ee00058fa4865a9ac07b3eb2aeb5c",
              "version_major": 2,
              "version_minor": 0
            },
            "text/plain": [
              "Evaluating model: 0it [00:00, ?it/s]"
            ]
          },
          "metadata": {},
          "output_type": "display_data"
        },
        {
          "name": "stdout",
          "output_type": "stream",
          "text": [
            "Epoch 4 completed. Train ROC AUC: 0.8011950161996071, val ROC AUC: 0.7760625812304207\n",
            "Starting epoch 5\n"
          ]
        },
        {
          "data": {
            "application/vnd.jupyter.widget-view+json": {
              "model_id": "daeb0ee8aaef4913b06aead60cdc8107",
              "version_major": 2,
              "version_minor": 0
            },
            "text/plain": [
              "Training: 0it [00:00, ?it/s]"
            ]
          },
          "metadata": {},
          "output_type": "display_data"
        },
        {
          "name": "stdout",
          "output_type": "stream",
          "text": [
            "Training loss after epoch: 0.014658680185675621\r"
          ]
        },
        {
          "data": {
            "application/vnd.jupyter.widget-view+json": {
              "model_id": "91131d4dc9f6441786261e54c1353bd1",
              "version_major": 2,
              "version_minor": 0
            },
            "text/plain": [
              "Evaluating model: 0it [00:00, ?it/s]"
            ]
          },
          "metadata": {},
          "output_type": "display_data"
        },
        {
          "name": "stdout",
          "output_type": "stream",
          "text": [
            "No imporvement in validation ROC-AUC. Current: 0.775405. Current best: 0.776063\n",
            "EarlyStopping counter: 1 out of 3\n",
            "Epoch 00005: reducing learning rate of group 0 to 5.0000e-05.\n"
          ]
        },
        {
          "data": {
            "application/vnd.jupyter.widget-view+json": {
              "model_id": "5c4f988d1a804bc79b92bf7cff1c0838",
              "version_major": 2,
              "version_minor": 0
            },
            "text/plain": [
              "Evaluating model: 0it [00:00, ?it/s]"
            ]
          },
          "metadata": {},
          "output_type": "display_data"
        },
        {
          "name": "stdout",
          "output_type": "stream",
          "text": [
            "Epoch 5 completed. Train ROC AUC: 0.8063034575981931, val ROC AUC: 0.7754054613431123\n",
            "Training fold 4:\n",
            "Starting epoch 1\n"
          ]
        },
        {
          "data": {
            "application/vnd.jupyter.widget-view+json": {
              "model_id": "9c70819ff281492a907e63b02e948b8c",
              "version_major": 2,
              "version_minor": 0
            },
            "text/plain": [
              "Training: 0it [00:00, ?it/s]"
            ]
          },
          "metadata": {},
          "output_type": "display_data"
        },
        {
          "name": "stdout",
          "output_type": "stream",
          "text": [
            "Training loss after epoch: 0.015745621174573948\r"
          ]
        },
        {
          "data": {
            "application/vnd.jupyter.widget-view+json": {
              "model_id": "0777a331163142bfa8f81b8cfcc7d311",
              "version_major": 2,
              "version_minor": 0
            },
            "text/plain": [
              "Evaluating model: 0it [00:00, ?it/s]"
            ]
          },
          "metadata": {},
          "output_type": "display_data"
        },
        {
          "name": "stdout",
          "output_type": "stream",
          "text": [
            "Validation ROC-AUC improved (-inf --> 0.770635).  Saving model...\n"
          ]
        },
        {
          "data": {
            "application/vnd.jupyter.widget-view+json": {
              "model_id": "8c2f90b5284d4076a12e1f49ff435093",
              "version_major": 2,
              "version_minor": 0
            },
            "text/plain": [
              "Evaluating model: 0it [00:00, ?it/s]"
            ]
          },
          "metadata": {},
          "output_type": "display_data"
        },
        {
          "name": "stdout",
          "output_type": "stream",
          "text": [
            "Epoch 1 completed. Train ROC AUC: 0.7768961248077156, val ROC AUC: 0.7706354720171745\n",
            "Starting epoch 2\n"
          ]
        },
        {
          "data": {
            "application/vnd.jupyter.widget-view+json": {
              "model_id": "3a3386734b53475f879f438370de44d7",
              "version_major": 2,
              "version_minor": 0
            },
            "text/plain": [
              "Training: 0it [00:00, ?it/s]"
            ]
          },
          "metadata": {},
          "output_type": "display_data"
        },
        {
          "name": "stdout",
          "output_type": "stream",
          "text": [
            "Training loss after epoch: 0.015323743224143982\r"
          ]
        },
        {
          "data": {
            "application/vnd.jupyter.widget-view+json": {
              "model_id": "1ff4d883f342433d885acbd1cf40b692",
              "version_major": 2,
              "version_minor": 0
            },
            "text/plain": [
              "Evaluating model: 0it [00:00, ?it/s]"
            ]
          },
          "metadata": {},
          "output_type": "display_data"
        },
        {
          "name": "stdout",
          "output_type": "stream",
          "text": [
            "Validation ROC-AUC improved (0.770635 --> 0.775791).  Saving model...\n"
          ]
        },
        {
          "data": {
            "application/vnd.jupyter.widget-view+json": {
              "model_id": "666cc7718a2c421996a1e1c45c81a502",
              "version_major": 2,
              "version_minor": 0
            },
            "text/plain": [
              "Evaluating model: 0it [00:00, ?it/s]"
            ]
          },
          "metadata": {},
          "output_type": "display_data"
        },
        {
          "name": "stdout",
          "output_type": "stream",
          "text": [
            "Epoch 2 completed. Train ROC AUC: 0.7858087533499766, val ROC AUC: 0.7757907111728621\n",
            "Starting epoch 3\n"
          ]
        },
        {
          "data": {
            "application/vnd.jupyter.widget-view+json": {
              "model_id": "06bceeee08954aeab192b4d4265acf4f",
              "version_major": 2,
              "version_minor": 0
            },
            "text/plain": [
              "Training: 0it [00:00, ?it/s]"
            ]
          },
          "metadata": {},
          "output_type": "display_data"
        },
        {
          "name": "stdout",
          "output_type": "stream",
          "text": [
            "Training loss after epoch: 0.015147854574024677\r"
          ]
        },
        {
          "data": {
            "application/vnd.jupyter.widget-view+json": {
              "model_id": "fe815a2822714bbdaeb4cf535dc2e2cb",
              "version_major": 2,
              "version_minor": 0
            },
            "text/plain": [
              "Evaluating model: 0it [00:00, ?it/s]"
            ]
          },
          "metadata": {},
          "output_type": "display_data"
        },
        {
          "name": "stdout",
          "output_type": "stream",
          "text": [
            "No imporvement in validation ROC-AUC. Current: 0.774816. Current best: 0.775791\n",
            "EarlyStopping counter: 1 out of 3\n",
            "Epoch 00003: reducing learning rate of group 0 to 1.5811e-04.\n"
          ]
        },
        {
          "data": {
            "application/vnd.jupyter.widget-view+json": {
              "model_id": "a9fb7673531340bea6002ad7e0a71a1f",
              "version_major": 2,
              "version_minor": 0
            },
            "text/plain": [
              "Evaluating model: 0it [00:00, ?it/s]"
            ]
          },
          "metadata": {},
          "output_type": "display_data"
        },
        {
          "name": "stdout",
          "output_type": "stream",
          "text": [
            "Epoch 3 completed. Train ROC AUC: 0.7869408241250896, val ROC AUC: 0.7748161399423831\n",
            "Starting epoch 4\n"
          ]
        },
        {
          "data": {
            "application/vnd.jupyter.widget-view+json": {
              "model_id": "8ea2297ade3a49fbb28cc2a05426812a",
              "version_major": 2,
              "version_minor": 0
            },
            "text/plain": [
              "Training: 0it [00:00, ?it/s]"
            ]
          },
          "metadata": {},
          "output_type": "display_data"
        },
        {
          "name": "stdout",
          "output_type": "stream",
          "text": [
            "Training loss after epoch: 0.014820588752627373\r"
          ]
        },
        {
          "data": {
            "application/vnd.jupyter.widget-view+json": {
              "model_id": "ada2cfdb2342464d8d50c550bc5ff819",
              "version_major": 2,
              "version_minor": 0
            },
            "text/plain": [
              "Evaluating model: 0it [00:00, ?it/s]"
            ]
          },
          "metadata": {},
          "output_type": "display_data"
        },
        {
          "name": "stdout",
          "output_type": "stream",
          "text": [
            "Validation ROC-AUC improved (0.775791 --> 0.779045).  Saving model...\n"
          ]
        },
        {
          "data": {
            "application/vnd.jupyter.widget-view+json": {
              "model_id": "aed4c26af7c4427ca8e77bd717fe096a",
              "version_major": 2,
              "version_minor": 0
            },
            "text/plain": [
              "Evaluating model: 0it [00:00, ?it/s]"
            ]
          },
          "metadata": {},
          "output_type": "display_data"
        },
        {
          "name": "stdout",
          "output_type": "stream",
          "text": [
            "Epoch 4 completed. Train ROC AUC: 0.8020288882470499, val ROC AUC: 0.7790451910546548\n",
            "Starting epoch 5\n"
          ]
        },
        {
          "data": {
            "application/vnd.jupyter.widget-view+json": {
              "model_id": "6c9d9b9cd2e246b0b97f14f983b5ac55",
              "version_major": 2,
              "version_minor": 0
            },
            "text/plain": [
              "Training: 0it [00:00, ?it/s]"
            ]
          },
          "metadata": {},
          "output_type": "display_data"
        },
        {
          "name": "stdout",
          "output_type": "stream",
          "text": [
            "Training loss after epoch: 0.014644358307123184\r"
          ]
        },
        {
          "data": {
            "application/vnd.jupyter.widget-view+json": {
              "model_id": "75aebc8df0884ece86511c70ecf04c4e",
              "version_major": 2,
              "version_minor": 0
            },
            "text/plain": [
              "Evaluating model: 0it [00:00, ?it/s]"
            ]
          },
          "metadata": {},
          "output_type": "display_data"
        },
        {
          "name": "stdout",
          "output_type": "stream",
          "text": [
            "No imporvement in validation ROC-AUC. Current: 0.777173. Current best: 0.779045\n",
            "EarlyStopping counter: 1 out of 3\n",
            "Epoch 00005: reducing learning rate of group 0 to 5.0000e-05.\n"
          ]
        },
        {
          "data": {
            "application/vnd.jupyter.widget-view+json": {
              "model_id": "8f0167c4e8b743aaa21b068eaa4eaf60",
              "version_major": 2,
              "version_minor": 0
            },
            "text/plain": [
              "Evaluating model: 0it [00:00, ?it/s]"
            ]
          },
          "metadata": {},
          "output_type": "display_data"
        },
        {
          "name": "stdout",
          "output_type": "stream",
          "text": [
            "Epoch 5 completed. Train ROC AUC: 0.8081114452754024, val ROC AUC: 0.7771734777479598\n",
            "Training fold 5:\n",
            "Starting epoch 1\n"
          ]
        },
        {
          "data": {
            "application/vnd.jupyter.widget-view+json": {
              "model_id": "c86e324ace9143ad979d3e6fe11bd8c3",
              "version_major": 2,
              "version_minor": 0
            },
            "text/plain": [
              "Training: 0it [00:00, ?it/s]"
            ]
          },
          "metadata": {},
          "output_type": "display_data"
        },
        {
          "name": "stdout",
          "output_type": "stream",
          "text": [
            "Training loss after epoch: 0.015760296955704697\r"
          ]
        },
        {
          "data": {
            "application/vnd.jupyter.widget-view+json": {
              "model_id": "df4c32d99d9845e3911ddc1f063fba4f",
              "version_major": 2,
              "version_minor": 0
            },
            "text/plain": [
              "Evaluating model: 0it [00:00, ?it/s]"
            ]
          },
          "metadata": {},
          "output_type": "display_data"
        },
        {
          "name": "stdout",
          "output_type": "stream",
          "text": [
            "Validation ROC-AUC improved (-inf --> 0.772522).  Saving model...\n"
          ]
        },
        {
          "data": {
            "application/vnd.jupyter.widget-view+json": {
              "model_id": "27bc11f83a1f45a2b78e0690b5046a0a",
              "version_major": 2,
              "version_minor": 0
            },
            "text/plain": [
              "Evaluating model: 0it [00:00, ?it/s]"
            ]
          },
          "metadata": {},
          "output_type": "display_data"
        },
        {
          "name": "stdout",
          "output_type": "stream",
          "text": [
            "Epoch 1 completed. Train ROC AUC: 0.7770552906313137, val ROC AUC: 0.7725222380278798\n",
            "Starting epoch 2\n"
          ]
        },
        {
          "data": {
            "application/vnd.jupyter.widget-view+json": {
              "model_id": "8d616a011ce048aba9cfbe6b5d1b4adc",
              "version_major": 2,
              "version_minor": 0
            },
            "text/plain": [
              "Training: 0it [00:00, ?it/s]"
            ]
          },
          "metadata": {},
          "output_type": "display_data"
        },
        {
          "name": "stdout",
          "output_type": "stream",
          "text": [
            "Training loss after epoch: 0.015336341224610806\r"
          ]
        },
        {
          "data": {
            "application/vnd.jupyter.widget-view+json": {
              "model_id": "67904d1ca9024868b956c9a71fac0ad6",
              "version_major": 2,
              "version_minor": 0
            },
            "text/plain": [
              "Evaluating model: 0it [00:00, ?it/s]"
            ]
          },
          "metadata": {},
          "output_type": "display_data"
        },
        {
          "name": "stdout",
          "output_type": "stream",
          "text": [
            "Validation ROC-AUC improved (0.772522 --> 0.777088).  Saving model...\n"
          ]
        },
        {
          "data": {
            "application/vnd.jupyter.widget-view+json": {
              "model_id": "d3009763bdbe45f0a24edefbbba577c4",
              "version_major": 2,
              "version_minor": 0
            },
            "text/plain": [
              "Evaluating model: 0it [00:00, ?it/s]"
            ]
          },
          "metadata": {},
          "output_type": "display_data"
        },
        {
          "name": "stdout",
          "output_type": "stream",
          "text": [
            "Epoch 2 completed. Train ROC AUC: 0.7854092778408805, val ROC AUC: 0.7770882929430654\n",
            "Starting epoch 3\n"
          ]
        },
        {
          "data": {
            "application/vnd.jupyter.widget-view+json": {
              "model_id": "f8607b462a3f4759ada8035809b5fb0f",
              "version_major": 2,
              "version_minor": 0
            },
            "text/plain": [
              "Training: 0it [00:00, ?it/s]"
            ]
          },
          "metadata": {},
          "output_type": "display_data"
        },
        {
          "name": "stdout",
          "output_type": "stream",
          "text": [
            "Training loss after epoch: 0.015176887623965742\r"
          ]
        },
        {
          "data": {
            "application/vnd.jupyter.widget-view+json": {
              "model_id": "851e1cdfeeea428095ebdcbea31595ee",
              "version_major": 2,
              "version_minor": 0
            },
            "text/plain": [
              "Evaluating model: 0it [00:00, ?it/s]"
            ]
          },
          "metadata": {},
          "output_type": "display_data"
        },
        {
          "name": "stdout",
          "output_type": "stream",
          "text": [
            "No imporvement in validation ROC-AUC. Current: 0.776888. Current best: 0.777088\n",
            "EarlyStopping counter: 1 out of 3\n",
            "Epoch 00003: reducing learning rate of group 0 to 1.5811e-04.\n"
          ]
        },
        {
          "data": {
            "application/vnd.jupyter.widget-view+json": {
              "model_id": "e9c38adf09784a208b6ab7118f46a35e",
              "version_major": 2,
              "version_minor": 0
            },
            "text/plain": [
              "Evaluating model: 0it [00:00, ?it/s]"
            ]
          },
          "metadata": {},
          "output_type": "display_data"
        },
        {
          "name": "stdout",
          "output_type": "stream",
          "text": [
            "Epoch 3 completed. Train ROC AUC: 0.7874179667112435, val ROC AUC: 0.7768878253926795\n",
            "Starting epoch 4\n"
          ]
        },
        {
          "data": {
            "application/vnd.jupyter.widget-view+json": {
              "model_id": "5fa35b5131404891be3020ecf4e5f01c",
              "version_major": 2,
              "version_minor": 0
            },
            "text/plain": [
              "Training: 0it [00:00, ?it/s]"
            ]
          },
          "metadata": {},
          "output_type": "display_data"
        },
        {
          "name": "stdout",
          "output_type": "stream",
          "text": [
            "Training loss after epoch: 0.014845321886241436\r"
          ]
        },
        {
          "data": {
            "application/vnd.jupyter.widget-view+json": {
              "model_id": "c18dd9c88e8a4bcaa9a37909774f40f0",
              "version_major": 2,
              "version_minor": 0
            },
            "text/plain": [
              "Evaluating model: 0it [00:00, ?it/s]"
            ]
          },
          "metadata": {},
          "output_type": "display_data"
        },
        {
          "name": "stdout",
          "output_type": "stream",
          "text": [
            "Validation ROC-AUC improved (0.777088 --> 0.780638).  Saving model...\n"
          ]
        },
        {
          "data": {
            "application/vnd.jupyter.widget-view+json": {
              "model_id": "ed866db05b1c43e8a842bbccdd5a8fe9",
              "version_major": 2,
              "version_minor": 0
            },
            "text/plain": [
              "Evaluating model: 0it [00:00, ?it/s]"
            ]
          },
          "metadata": {},
          "output_type": "display_data"
        },
        {
          "name": "stdout",
          "output_type": "stream",
          "text": [
            "Epoch 4 completed. Train ROC AUC: 0.8018348266048133, val ROC AUC: 0.7806383196390706\n",
            "Starting epoch 5\n"
          ]
        },
        {
          "data": {
            "application/vnd.jupyter.widget-view+json": {
              "model_id": "2310c1e0e1f44282bce0fc1ad040b0f8",
              "version_major": 2,
              "version_minor": 0
            },
            "text/plain": [
              "Training: 0it [00:00, ?it/s]"
            ]
          },
          "metadata": {},
          "output_type": "display_data"
        },
        {
          "name": "stdout",
          "output_type": "stream",
          "text": [
            "Training loss after epoch: 0.014673798345029354\r"
          ]
        },
        {
          "data": {
            "application/vnd.jupyter.widget-view+json": {
              "model_id": "b73c830cf9dd4bbdaf8828d2cdf50ffa",
              "version_major": 2,
              "version_minor": 0
            },
            "text/plain": [
              "Evaluating model: 0it [00:00, ?it/s]"
            ]
          },
          "metadata": {},
          "output_type": "display_data"
        },
        {
          "name": "stdout",
          "output_type": "stream",
          "text": [
            "Validation ROC-AUC improved (0.780638 --> 0.781359).  Saving model...\n",
            "Epoch 00005: reducing learning rate of group 0 to 5.0000e-05.\n"
          ]
        },
        {
          "data": {
            "application/vnd.jupyter.widget-view+json": {
              "model_id": "98511c9e7071427baf368482e722e7f5",
              "version_major": 2,
              "version_minor": 0
            },
            "text/plain": [
              "Evaluating model: 0it [00:00, ?it/s]"
            ]
          },
          "metadata": {},
          "output_type": "display_data"
        },
        {
          "name": "stdout",
          "output_type": "stream",
          "text": [
            "Epoch 5 completed. Train ROC AUC: 0.8095920036894951, val ROC AUC: 0.7813588927634885\n"
          ]
        }
      ],
      "source": [
        "loss_function = sigmoid_focal_loss\n",
        "alpha = 0.9\n",
        "\n",
        "num_epochs = 5\n",
        "train_batch_size = 64\n",
        "val_batch_size = 64\n",
        "\n",
        "for fold_ in range(1, 6):\n",
        "    print(f\"Training fold {fold_}:\")\n",
        "    TRAIN_BUCKETS_PATH = f\"data_k_folds\\\\fold_{fold_}\\\\train_buckets_rnn\"\n",
        "    VAL_BUCKETS_PATH = f\"data_k_folds\\\\fold_{fold_}\\\\val_buckets_rnn\"\n",
        "\n",
        "    dataset_train = sorted([os.path.join(TRAIN_BUCKETS_PATH, x) for x in os.listdir(TRAIN_BUCKETS_PATH)])\n",
        "    dataset_val = sorted([os.path.join(VAL_BUCKETS_PATH, x) for x in os.listdir(VAL_BUCKETS_PATH)])\n",
        "\n",
        "    best_model_name = f\"best_checkpoint_rnn_LAST_HIDDEN_fold_{fold_}.pt\"\n",
        "\n",
        "    model_RNN_LAST_HIDDEN = CreditsRNN_LAST_HIDDEN(features,\n",
        "                                               embedding_projections,\n",
        "                                               rnn_units=128,\n",
        "                                               top_classifier_units=32,\n",
        "                                               dropout=0,\n",
        "                                               spatial_dropout=0).to(device)\n",
        "\n",
        "    optimizer = torch.optim.AdamW(lr=5e-4, params=model_RNN_LAST_HIDDEN.parameters())\n",
        "\n",
        "    scheduler = torch.optim.lr_scheduler.ReduceLROnPlateau(\n",
        "            optimizer, mode='max', factor=1/np.sqrt(10),\n",
        "            patience=1,\n",
        "            verbose=True, threshold=0.01,\n",
        "            threshold_mode='abs', cooldown=0,\n",
        "            min_lr=1e-6, eps=1e-08)\n",
        "\n",
        "    train(model_RNN_LAST_HIDDEN, num_epochs, optimizer, loss_function, alpha, dataset_train, dataset_val,\n",
        "          path_to_checkpoints, best_model_name, scheduler, train_batch_size, val_batch_size,\n",
        "          shuffle=True, print_loss_every_n_batches=500, device=device, lenght=True)\n"
      ]
    },
    {
      "cell_type": "markdown",
      "metadata": {
        "id": "HlCfQWHtMHkW"
      },
      "source": [
        "Предсказания для тестовых данных:"
      ]
    },
    {
      "cell_type": "code",
      "execution_count": null,
      "metadata": {
        "colab": {
          "referenced_widgets": [
            "a680dd2f5dd84d05a36231df46e3d3c2",
            "b6f9d609dd194080afd583193883a8df",
            "fff3856ca1354cd5846cb5d38659ffe0",
            "33e1c16f05974efead000ac9bcefd3a6",
            "64c8a3b1bb544a89b45ae8346b54b610"
          ]
        },
        "id": "GQLpO8kuMHkX",
        "outputId": "206226ac-51d1-4b38-f9aa-875eb6d7a2e3"
      },
      "outputs": [
        {
          "data": {
            "application/vnd.jupyter.widget-view+json": {
              "model_id": "a680dd2f5dd84d05a36231df46e3d3c2",
              "version_major": 2,
              "version_minor": 0
            },
            "text/plain": [
              "Test predictions: 0it [00:00, ?it/s]"
            ]
          },
          "metadata": {},
          "output_type": "display_data"
        },
        {
          "data": {
            "application/vnd.jupyter.widget-view+json": {
              "model_id": "b6f9d609dd194080afd583193883a8df",
              "version_major": 2,
              "version_minor": 0
            },
            "text/plain": [
              "Test predictions: 0it [00:00, ?it/s]"
            ]
          },
          "metadata": {},
          "output_type": "display_data"
        },
        {
          "data": {
            "application/vnd.jupyter.widget-view+json": {
              "model_id": "fff3856ca1354cd5846cb5d38659ffe0",
              "version_major": 2,
              "version_minor": 0
            },
            "text/plain": [
              "Test predictions: 0it [00:00, ?it/s]"
            ]
          },
          "metadata": {},
          "output_type": "display_data"
        },
        {
          "data": {
            "application/vnd.jupyter.widget-view+json": {
              "model_id": "33e1c16f05974efead000ac9bcefd3a6",
              "version_major": 2,
              "version_minor": 0
            },
            "text/plain": [
              "Test predictions: 0it [00:00, ?it/s]"
            ]
          },
          "metadata": {},
          "output_type": "display_data"
        },
        {
          "data": {
            "application/vnd.jupyter.widget-view+json": {
              "model_id": "64c8a3b1bb544a89b45ae8346b54b610",
              "version_major": 2,
              "version_minor": 0
            },
            "text/plain": [
              "Test predictions: 0it [00:00, ?it/s]"
            ]
          },
          "metadata": {},
          "output_type": "display_data"
        }
      ],
      "source": [
        "model_RNN_LAST_HIDDEN = CreditsRNN_LAST_HIDDEN(features,\n",
        "                                               embedding_projections,\n",
        "                                               rnn_units=128,\n",
        "                                               top_classifier_units=32,\n",
        "                                               dropout=0,\n",
        "                                               spatial_dropout=0).to(device)\n",
        "\n",
        "model_RNN_LAST_HIDDEN.load_state_dict(torch.load(os.path.join(path_to_checkpoints, f'best_checkpoint_rnn_LAST_HIDDEN_fold_1.pt')))\n",
        "\n",
        "test_preds_RNN_LAST_HIDDEN = inference(model_RNN_LAST_HIDDEN, dataset_test, batch_size=512, device=device, lenght=True)\n",
        "\n",
        "test_preds_RNN_LAST_HIDDEN_TOTAL = test_preds_RNN_LAST_HIDDEN.copy().rename(columns={'score': 'score_fold_1'})\n",
        "\n",
        "for fold_ in range(2, 6):\n",
        "    model_RNN_LAST_HIDDEN.load_state_dict(torch.load(os.path.join(path_to_checkpoints, f'best_checkpoint_rnn_LAST_HIDDEN_fold_{fold_}.pt')))\n",
        "\n",
        "    test_preds_RNN_LAST_HIDDEN = inference(model_RNN_LAST_HIDDEN, dataset_test, batch_size=512, device=device, lenght=True)\n",
        "\n",
        "\n",
        "    test_preds_RNN_LAST_HIDDEN_TOTAL = test_preds_RNN_LAST_HIDDEN_TOTAL.merge(test_preds_RNN_LAST_HIDDEN, on='id')\\\n",
        "                                                                       .rename(columns={'score': f'score_fold_{fold_}'})"
      ]
    },
    {
      "cell_type": "code",
      "execution_count": null,
      "metadata": {
        "id": "iCIFZSkgMHkX",
        "outputId": "b93d538b-765c-42a9-88c3-fb7c6f2970dc"
      },
      "outputs": [
        {
          "data": {
            "text/html": [
              "<div>\n",
              "<style scoped>\n",
              "    .dataframe tbody tr th:only-of-type {\n",
              "        vertical-align: middle;\n",
              "    }\n",
              "\n",
              "    .dataframe tbody tr th {\n",
              "        vertical-align: top;\n",
              "    }\n",
              "\n",
              "    .dataframe thead th {\n",
              "        text-align: right;\n",
              "    }\n",
              "</style>\n",
              "<table border=\"1\" class=\"dataframe\">\n",
              "  <thead>\n",
              "    <tr style=\"text-align: right;\">\n",
              "      <th></th>\n",
              "      <th>id</th>\n",
              "      <th>score_fold_1</th>\n",
              "      <th>score_fold_2</th>\n",
              "      <th>score_fold_3</th>\n",
              "      <th>score_fold_4</th>\n",
              "      <th>score_fold_5</th>\n",
              "      <th>score</th>\n",
              "    </tr>\n",
              "  </thead>\n",
              "  <tbody>\n",
              "    <tr>\n",
              "      <th>0</th>\n",
              "      <td>3047012</td>\n",
              "      <td>0.002171</td>\n",
              "      <td>7.252386e-12</td>\n",
              "      <td>0.000021</td>\n",
              "      <td>6.111582e-09</td>\n",
              "      <td>1.221641e-16</td>\n",
              "      <td>0.000438</td>\n",
              "    </tr>\n",
              "    <tr>\n",
              "      <th>1</th>\n",
              "      <td>3000786</td>\n",
              "      <td>0.002288</td>\n",
              "      <td>3.075226e-12</td>\n",
              "      <td>0.000112</td>\n",
              "      <td>2.206464e-08</td>\n",
              "      <td>2.846257e-16</td>\n",
              "      <td>0.000480</td>\n",
              "    </tr>\n",
              "    <tr>\n",
              "      <th>2</th>\n",
              "      <td>3019111</td>\n",
              "      <td>0.037445</td>\n",
              "      <td>1.411738e-04</td>\n",
              "      <td>0.025352</td>\n",
              "      <td>2.313488e-03</td>\n",
              "      <td>1.011724e-02</td>\n",
              "      <td>0.015074</td>\n",
              "    </tr>\n",
              "    <tr>\n",
              "      <th>3</th>\n",
              "      <td>3345810</td>\n",
              "      <td>0.154487</td>\n",
              "      <td>1.758348e-07</td>\n",
              "      <td>0.015331</td>\n",
              "      <td>1.157137e-04</td>\n",
              "      <td>1.018275e-05</td>\n",
              "      <td>0.033989</td>\n",
              "    </tr>\n",
              "    <tr>\n",
              "      <th>4</th>\n",
              "      <td>3434512</td>\n",
              "      <td>0.144362</td>\n",
              "      <td>2.115846e-11</td>\n",
              "      <td>0.002245</td>\n",
              "      <td>7.086300e-05</td>\n",
              "      <td>9.491834e-06</td>\n",
              "      <td>0.029337</td>\n",
              "    </tr>\n",
              "    <tr>\n",
              "      <th>...</th>\n",
              "      <td>...</td>\n",
              "      <td>...</td>\n",
              "      <td>...</td>\n",
              "      <td>...</td>\n",
              "      <td>...</td>\n",
              "      <td>...</td>\n",
              "      <td>...</td>\n",
              "    </tr>\n",
              "    <tr>\n",
              "      <th>499995</th>\n",
              "      <td>3464951</td>\n",
              "      <td>0.417768</td>\n",
              "      <td>4.333285e-01</td>\n",
              "      <td>0.447533</td>\n",
              "      <td>4.291284e-01</td>\n",
              "      <td>4.227760e-01</td>\n",
              "      <td>0.430107</td>\n",
              "    </tr>\n",
              "    <tr>\n",
              "      <th>499996</th>\n",
              "      <td>3028533</td>\n",
              "      <td>0.353061</td>\n",
              "      <td>3.774460e-01</td>\n",
              "      <td>0.390526</td>\n",
              "      <td>3.735240e-01</td>\n",
              "      <td>3.987354e-01</td>\n",
              "      <td>0.378658</td>\n",
              "    </tr>\n",
              "    <tr>\n",
              "      <th>499997</th>\n",
              "      <td>3464956</td>\n",
              "      <td>0.423485</td>\n",
              "      <td>4.115852e-01</td>\n",
              "      <td>0.406487</td>\n",
              "      <td>3.954434e-01</td>\n",
              "      <td>4.739827e-01</td>\n",
              "      <td>0.422197</td>\n",
              "    </tr>\n",
              "    <tr>\n",
              "      <th>499998</th>\n",
              "      <td>3366101</td>\n",
              "      <td>0.345639</td>\n",
              "      <td>3.429430e-01</td>\n",
              "      <td>0.333768</td>\n",
              "      <td>3.110878e-01</td>\n",
              "      <td>3.826981e-01</td>\n",
              "      <td>0.343227</td>\n",
              "    </tr>\n",
              "    <tr>\n",
              "      <th>499999</th>\n",
              "      <td>3469625</td>\n",
              "      <td>0.294827</td>\n",
              "      <td>3.284395e-01</td>\n",
              "      <td>0.333042</td>\n",
              "      <td>3.120115e-01</td>\n",
              "      <td>3.521199e-01</td>\n",
              "      <td>0.324088</td>\n",
              "    </tr>\n",
              "  </tbody>\n",
              "</table>\n",
              "<p>500000 rows × 7 columns</p>\n",
              "</div>"
            ],
            "text/plain": [
              "             id  score_fold_1  score_fold_2  score_fold_3  score_fold_4  \\\n",
              "0       3047012      0.002171  7.252386e-12      0.000021  6.111582e-09   \n",
              "1       3000786      0.002288  3.075226e-12      0.000112  2.206464e-08   \n",
              "2       3019111      0.037445  1.411738e-04      0.025352  2.313488e-03   \n",
              "3       3345810      0.154487  1.758348e-07      0.015331  1.157137e-04   \n",
              "4       3434512      0.144362  2.115846e-11      0.002245  7.086300e-05   \n",
              "...         ...           ...           ...           ...           ...   \n",
              "499995  3464951      0.417768  4.333285e-01      0.447533  4.291284e-01   \n",
              "499996  3028533      0.353061  3.774460e-01      0.390526  3.735240e-01   \n",
              "499997  3464956      0.423485  4.115852e-01      0.406487  3.954434e-01   \n",
              "499998  3366101      0.345639  3.429430e-01      0.333768  3.110878e-01   \n",
              "499999  3469625      0.294827  3.284395e-01      0.333042  3.120115e-01   \n",
              "\n",
              "        score_fold_5     score  \n",
              "0       1.221641e-16  0.000438  \n",
              "1       2.846257e-16  0.000480  \n",
              "2       1.011724e-02  0.015074  \n",
              "3       1.018275e-05  0.033989  \n",
              "4       9.491834e-06  0.029337  \n",
              "...              ...       ...  \n",
              "499995  4.227760e-01  0.430107  \n",
              "499996  3.987354e-01  0.378658  \n",
              "499997  4.739827e-01  0.422197  \n",
              "499998  3.826981e-01  0.343227  \n",
              "499999  3.521199e-01  0.324088  \n",
              "\n",
              "[500000 rows x 7 columns]"
            ]
          },
          "execution_count": 24,
          "metadata": {},
          "output_type": "execute_result"
        }
      ],
      "source": [
        "test_preds_RNN_LAST_HIDDEN_TOTAL['score'] = (test_preds_RNN_LAST_HIDDEN_TOTAL['score_fold_1']\\\n",
        "                                          + test_preds_RNN_LAST_HIDDEN_TOTAL['score_fold_2']\\\n",
        "                                          + test_preds_RNN_LAST_HIDDEN_TOTAL['score_fold_3']\\\n",
        "                                          + test_preds_RNN_LAST_HIDDEN_TOTAL['score_fold_4']\\\n",
        "                                          + test_preds_RNN_LAST_HIDDEN_TOTAL['score_fold_5']) / 5\n",
        "\n",
        "\n",
        "test_preds_RNN_LAST_HIDDEN_TOTAL"
      ]
    },
    {
      "cell_type": "code",
      "execution_count": null,
      "metadata": {
        "id": "vIwWgFX1MHkX"
      },
      "outputs": [],
      "source": [
        "test_preds_RNN_LAST_HIDDEN_TOTAL[['id', 'score']].to_csv(\"submission_RNN_LAST_HIDDEN_TOTAL_5_folds.csv\", index=None)"
      ]
    }
  ],
  "metadata": {
    "accelerator": "GPU",
    "colab": {
      "machine_shape": "hm",
      "provenance": []
    },
    "gpuClass": "standard",
    "kernelspec": {
      "display_name": "Python 3",
      "language": "python",
      "name": "python3"
    },
    "language_info": {
      "codemirror_mode": {
        "name": "ipython",
        "version": 3
      },
      "file_extension": ".py",
      "mimetype": "text/x-python",
      "name": "python",
      "nbconvert_exporter": "python",
      "pygments_lexer": "ipython3",
      "version": "3.9.7"
    },
    "widgets": {
      "application/vnd.jupyter.widget-state+json": {
        "005b6a2f8bd84f59a14dcc74114fbbd0": {
          "model_module": "@jupyter-widgets/controls",
          "model_module_version": "1.5.0",
          "model_name": "FloatProgressModel",
          "state": {
            "_dom_classes": [],
            "_model_module": "@jupyter-widgets/controls",
            "_model_module_version": "1.5.0",
            "_model_name": "FloatProgressModel",
            "_view_count": null,
            "_view_module": "@jupyter-widgets/controls",
            "_view_module_version": "1.5.0",
            "_view_name": "ProgressView",
            "bar_style": "success",
            "description": "",
            "description_tooltip": null,
            "layout": "IPY_MODEL_1b3a15898a19492fbc299ff58fee8c3f",
            "max": 6,
            "min": 0,
            "orientation": "horizontal",
            "style": "IPY_MODEL_43e24a9668434e43bab4cfefd6f55a35",
            "value": 6
          }
        },
        "00c8a047a67c4ea4b8191e57117dfc46": {
          "model_module": "@jupyter-widgets/base",
          "model_module_version": "1.2.0",
          "model_name": "LayoutModel",
          "state": {
            "_model_module": "@jupyter-widgets/base",
            "_model_module_version": "1.2.0",
            "_model_name": "LayoutModel",
            "_view_count": null,
            "_view_module": "@jupyter-widgets/base",
            "_view_module_version": "1.2.0",
            "_view_name": "LayoutView",
            "align_content": null,
            "align_items": null,
            "align_self": null,
            "border": null,
            "bottom": null,
            "display": null,
            "flex": null,
            "flex_flow": null,
            "grid_area": null,
            "grid_auto_columns": null,
            "grid_auto_flow": null,
            "grid_auto_rows": null,
            "grid_column": null,
            "grid_gap": null,
            "grid_row": null,
            "grid_template_areas": null,
            "grid_template_columns": null,
            "grid_template_rows": null,
            "height": null,
            "justify_content": null,
            "justify_items": null,
            "left": null,
            "margin": null,
            "max_height": null,
            "max_width": null,
            "min_height": null,
            "min_width": null,
            "object_fit": null,
            "object_position": null,
            "order": null,
            "overflow": null,
            "overflow_x": null,
            "overflow_y": null,
            "padding": null,
            "right": null,
            "top": null,
            "visibility": null,
            "width": null
          }
        },
        "04a30076f7a047eab022605e4082781b": {
          "model_module": "@jupyter-widgets/base",
          "model_module_version": "1.2.0",
          "model_name": "LayoutModel",
          "state": {
            "_model_module": "@jupyter-widgets/base",
            "_model_module_version": "1.2.0",
            "_model_name": "LayoutModel",
            "_view_count": null,
            "_view_module": "@jupyter-widgets/base",
            "_view_module_version": "1.2.0",
            "_view_name": "LayoutView",
            "align_content": null,
            "align_items": null,
            "align_self": null,
            "border": null,
            "bottom": null,
            "display": null,
            "flex": null,
            "flex_flow": null,
            "grid_area": null,
            "grid_auto_columns": null,
            "grid_auto_flow": null,
            "grid_auto_rows": null,
            "grid_column": null,
            "grid_gap": null,
            "grid_row": null,
            "grid_template_areas": null,
            "grid_template_columns": null,
            "grid_template_rows": null,
            "height": null,
            "justify_content": null,
            "justify_items": null,
            "left": null,
            "margin": null,
            "max_height": null,
            "max_width": null,
            "min_height": null,
            "min_width": null,
            "object_fit": null,
            "object_position": null,
            "order": null,
            "overflow": null,
            "overflow_x": null,
            "overflow_y": null,
            "padding": null,
            "right": null,
            "top": null,
            "visibility": null,
            "width": null
          }
        },
        "09ead54f4fc84336a99b2e8b8a907f34": {
          "model_module": "@jupyter-widgets/controls",
          "model_module_version": "1.5.0",
          "model_name": "HBoxModel",
          "state": {
            "_dom_classes": [],
            "_model_module": "@jupyter-widgets/controls",
            "_model_module_version": "1.5.0",
            "_model_name": "HBoxModel",
            "_view_count": null,
            "_view_module": "@jupyter-widgets/controls",
            "_view_module_version": "1.5.0",
            "_view_name": "HBoxView",
            "box_style": "",
            "children": [
              "IPY_MODEL_1d2e38044a7d42159b347a9b668752e0",
              "IPY_MODEL_915cf0221904421cbeef17f09b680585",
              "IPY_MODEL_5f28700a4ca64cc7a2443f582df17714"
            ],
            "layout": "IPY_MODEL_c93eb87035c54d0484604869630974d4"
          }
        },
        "0affd38bd01e49d9b26d2086eb1bc87d": {
          "model_module": "@jupyter-widgets/controls",
          "model_module_version": "1.5.0",
          "model_name": "ProgressStyleModel",
          "state": {
            "_model_module": "@jupyter-widgets/controls",
            "_model_module_version": "1.5.0",
            "_model_name": "ProgressStyleModel",
            "_view_count": null,
            "_view_module": "@jupyter-widgets/base",
            "_view_module_version": "1.2.0",
            "_view_name": "StyleView",
            "bar_color": null,
            "description_width": ""
          }
        },
        "0f2487450b8541a5bab58f9f5562ff4b": {
          "model_module": "@jupyter-widgets/base",
          "model_module_version": "1.2.0",
          "model_name": "LayoutModel",
          "state": {
            "_model_module": "@jupyter-widgets/base",
            "_model_module_version": "1.2.0",
            "_model_name": "LayoutModel",
            "_view_count": null,
            "_view_module": "@jupyter-widgets/base",
            "_view_module_version": "1.2.0",
            "_view_name": "LayoutView",
            "align_content": null,
            "align_items": null,
            "align_self": null,
            "border": null,
            "bottom": null,
            "display": null,
            "flex": null,
            "flex_flow": null,
            "grid_area": null,
            "grid_auto_columns": null,
            "grid_auto_flow": null,
            "grid_auto_rows": null,
            "grid_column": null,
            "grid_gap": null,
            "grid_row": null,
            "grid_template_areas": null,
            "grid_template_columns": null,
            "grid_template_rows": null,
            "height": null,
            "justify_content": null,
            "justify_items": null,
            "left": null,
            "margin": null,
            "max_height": null,
            "max_width": null,
            "min_height": null,
            "min_width": null,
            "object_fit": null,
            "object_position": null,
            "order": null,
            "overflow": null,
            "overflow_x": null,
            "overflow_y": null,
            "padding": null,
            "right": null,
            "top": null,
            "visibility": null,
            "width": null
          }
        },
        "11a5008956474db9849e476be4ac5078": {
          "model_module": "@jupyter-widgets/base",
          "model_module_version": "1.2.0",
          "model_name": "LayoutModel",
          "state": {
            "_model_module": "@jupyter-widgets/base",
            "_model_module_version": "1.2.0",
            "_model_name": "LayoutModel",
            "_view_count": null,
            "_view_module": "@jupyter-widgets/base",
            "_view_module_version": "1.2.0",
            "_view_name": "LayoutView",
            "align_content": null,
            "align_items": null,
            "align_self": null,
            "border": null,
            "bottom": null,
            "display": null,
            "flex": null,
            "flex_flow": null,
            "grid_area": null,
            "grid_auto_columns": null,
            "grid_auto_flow": null,
            "grid_auto_rows": null,
            "grid_column": null,
            "grid_gap": null,
            "grid_row": null,
            "grid_template_areas": null,
            "grid_template_columns": null,
            "grid_template_rows": null,
            "height": null,
            "justify_content": null,
            "justify_items": null,
            "left": null,
            "margin": null,
            "max_height": null,
            "max_width": null,
            "min_height": null,
            "min_width": null,
            "object_fit": null,
            "object_position": null,
            "order": null,
            "overflow": null,
            "overflow_x": null,
            "overflow_y": null,
            "padding": null,
            "right": null,
            "top": null,
            "visibility": null,
            "width": null
          }
        },
        "1217eff6c22e4f78801c0a4eb076f638": {
          "model_module": "@jupyter-widgets/controls",
          "model_module_version": "1.5.0",
          "model_name": "DescriptionStyleModel",
          "state": {
            "_model_module": "@jupyter-widgets/controls",
            "_model_module_version": "1.5.0",
            "_model_name": "DescriptionStyleModel",
            "_view_count": null,
            "_view_module": "@jupyter-widgets/base",
            "_view_module_version": "1.2.0",
            "_view_name": "StyleView",
            "description_width": ""
          }
        },
        "163f11b27bc5453bb95598a19a8fe1bb": {
          "model_module": "@jupyter-widgets/controls",
          "model_module_version": "1.5.0",
          "model_name": "FloatProgressModel",
          "state": {
            "_dom_classes": [],
            "_model_module": "@jupyter-widgets/controls",
            "_model_module_version": "1.5.0",
            "_model_name": "FloatProgressModel",
            "_view_count": null,
            "_view_module": "@jupyter-widgets/controls",
            "_view_module_version": "1.5.0",
            "_view_name": "ProgressView",
            "bar_style": "success",
            "description": "",
            "description_tooltip": null,
            "layout": "IPY_MODEL_5977f9fe7aea442aa42f034c00d251fa",
            "max": 2,
            "min": 0,
            "orientation": "horizontal",
            "style": "IPY_MODEL_fd1bcc9dcdac4efe90f82e22f800e48c",
            "value": 2
          }
        },
        "1b3a15898a19492fbc299ff58fee8c3f": {
          "model_module": "@jupyter-widgets/base",
          "model_module_version": "1.2.0",
          "model_name": "LayoutModel",
          "state": {
            "_model_module": "@jupyter-widgets/base",
            "_model_module_version": "1.2.0",
            "_model_name": "LayoutModel",
            "_view_count": null,
            "_view_module": "@jupyter-widgets/base",
            "_view_module_version": "1.2.0",
            "_view_name": "LayoutView",
            "align_content": null,
            "align_items": null,
            "align_self": null,
            "border": null,
            "bottom": null,
            "display": null,
            "flex": null,
            "flex_flow": null,
            "grid_area": null,
            "grid_auto_columns": null,
            "grid_auto_flow": null,
            "grid_auto_rows": null,
            "grid_column": null,
            "grid_gap": null,
            "grid_row": null,
            "grid_template_areas": null,
            "grid_template_columns": null,
            "grid_template_rows": null,
            "height": null,
            "justify_content": null,
            "justify_items": null,
            "left": null,
            "margin": null,
            "max_height": null,
            "max_width": null,
            "min_height": null,
            "min_width": null,
            "object_fit": null,
            "object_position": null,
            "order": null,
            "overflow": null,
            "overflow_x": null,
            "overflow_y": null,
            "padding": null,
            "right": null,
            "top": null,
            "visibility": null,
            "width": null
          }
        },
        "1d2e38044a7d42159b347a9b668752e0": {
          "model_module": "@jupyter-widgets/controls",
          "model_module_version": "1.5.0",
          "model_name": "HTMLModel",
          "state": {
            "_dom_classes": [],
            "_model_module": "@jupyter-widgets/controls",
            "_model_module_version": "1.5.0",
            "_model_name": "HTMLModel",
            "_view_count": null,
            "_view_module": "@jupyter-widgets/controls",
            "_view_module_version": "1.5.0",
            "_view_name": "HTMLView",
            "description": "",
            "description_tooltip": null,
            "layout": "IPY_MODEL_469307c00d504e6688d94b1a0deb85ae",
            "placeholder": "​",
            "style": "IPY_MODEL_78c9302f700541909717c1f2172ed27a",
            "value": "Reading dataset with pandas: 100%"
          }
        },
        "1ef7374e0f334efea0c447b360a210cd": {
          "model_module": "@jupyter-widgets/controls",
          "model_module_version": "1.5.0",
          "model_name": "FloatProgressModel",
          "state": {
            "_dom_classes": [],
            "_model_module": "@jupyter-widgets/controls",
            "_model_module_version": "1.5.0",
            "_model_name": "FloatProgressModel",
            "_view_count": null,
            "_view_module": "@jupyter-widgets/controls",
            "_view_module_version": "1.5.0",
            "_view_name": "ProgressView",
            "bar_style": "success",
            "description": "",
            "description_tooltip": null,
            "layout": "IPY_MODEL_d6436b117b0245f3a3585a5a8d662673",
            "max": 2,
            "min": 0,
            "orientation": "horizontal",
            "style": "IPY_MODEL_b5d4897f293d4d2daebcf3266e93521d",
            "value": 2
          }
        },
        "27d2c21df50142d2a5e6e50849333ea1": {
          "model_module": "@jupyter-widgets/controls",
          "model_module_version": "1.5.0",
          "model_name": "ProgressStyleModel",
          "state": {
            "_model_module": "@jupyter-widgets/controls",
            "_model_module_version": "1.5.0",
            "_model_name": "ProgressStyleModel",
            "_view_count": null,
            "_view_module": "@jupyter-widgets/base",
            "_view_module_version": "1.2.0",
            "_view_name": "StyleView",
            "bar_color": null,
            "description_width": ""
          }
        },
        "2a1db35e6a5843dbb2d7a94f6e7c1f94": {
          "model_module": "@jupyter-widgets/controls",
          "model_module_version": "1.5.0",
          "model_name": "HTMLModel",
          "state": {
            "_dom_classes": [],
            "_model_module": "@jupyter-widgets/controls",
            "_model_module_version": "1.5.0",
            "_model_name": "HTMLModel",
            "_view_count": null,
            "_view_module": "@jupyter-widgets/controls",
            "_view_module_version": "1.5.0",
            "_view_name": "HTMLView",
            "description": "",
            "description_tooltip": null,
            "layout": "IPY_MODEL_9a911c756cbb40eb89a83bc87a7be309",
            "placeholder": "​",
            "style": "IPY_MODEL_d2b6da863a1c4533a4244c7220281299",
            "value": "Reading dataset with pandas: 100%"
          }
        },
        "2c3841948a93471fa988438628dda098": {
          "model_module": "@jupyter-widgets/controls",
          "model_module_version": "1.5.0",
          "model_name": "DescriptionStyleModel",
          "state": {
            "_model_module": "@jupyter-widgets/controls",
            "_model_module_version": "1.5.0",
            "_model_name": "DescriptionStyleModel",
            "_view_count": null,
            "_view_module": "@jupyter-widgets/base",
            "_view_module_version": "1.2.0",
            "_view_name": "StyleView",
            "description_width": ""
          }
        },
        "2d81036063684c61ab7a4c5a5a889f09": {
          "model_module": "@jupyter-widgets/controls",
          "model_module_version": "1.5.0",
          "model_name": "DescriptionStyleModel",
          "state": {
            "_model_module": "@jupyter-widgets/controls",
            "_model_module_version": "1.5.0",
            "_model_name": "DescriptionStyleModel",
            "_view_count": null,
            "_view_module": "@jupyter-widgets/base",
            "_view_module_version": "1.2.0",
            "_view_name": "StyleView",
            "description_width": ""
          }
        },
        "324b7af4c8c94178a0d094d616d52f7f": {
          "model_module": "@jupyter-widgets/base",
          "model_module_version": "1.2.0",
          "model_name": "LayoutModel",
          "state": {
            "_model_module": "@jupyter-widgets/base",
            "_model_module_version": "1.2.0",
            "_model_name": "LayoutModel",
            "_view_count": null,
            "_view_module": "@jupyter-widgets/base",
            "_view_module_version": "1.2.0",
            "_view_name": "LayoutView",
            "align_content": null,
            "align_items": null,
            "align_self": null,
            "border": null,
            "bottom": null,
            "display": null,
            "flex": null,
            "flex_flow": null,
            "grid_area": null,
            "grid_auto_columns": null,
            "grid_auto_flow": null,
            "grid_auto_rows": null,
            "grid_column": null,
            "grid_gap": null,
            "grid_row": null,
            "grid_template_areas": null,
            "grid_template_columns": null,
            "grid_template_rows": null,
            "height": null,
            "justify_content": null,
            "justify_items": null,
            "left": null,
            "margin": null,
            "max_height": null,
            "max_width": null,
            "min_height": null,
            "min_width": null,
            "object_fit": null,
            "object_position": null,
            "order": null,
            "overflow": null,
            "overflow_x": null,
            "overflow_y": null,
            "padding": null,
            "right": null,
            "top": null,
            "visibility": null,
            "width": null
          }
        },
        "40636e95166e4349b35f3584685aab75": {
          "model_module": "@jupyter-widgets/base",
          "model_module_version": "1.2.0",
          "model_name": "LayoutModel",
          "state": {
            "_model_module": "@jupyter-widgets/base",
            "_model_module_version": "1.2.0",
            "_model_name": "LayoutModel",
            "_view_count": null,
            "_view_module": "@jupyter-widgets/base",
            "_view_module_version": "1.2.0",
            "_view_name": "LayoutView",
            "align_content": null,
            "align_items": null,
            "align_self": null,
            "border": null,
            "bottom": null,
            "display": null,
            "flex": null,
            "flex_flow": null,
            "grid_area": null,
            "grid_auto_columns": null,
            "grid_auto_flow": null,
            "grid_auto_rows": null,
            "grid_column": null,
            "grid_gap": null,
            "grid_row": null,
            "grid_template_areas": null,
            "grid_template_columns": null,
            "grid_template_rows": null,
            "height": null,
            "justify_content": null,
            "justify_items": null,
            "left": null,
            "margin": null,
            "max_height": null,
            "max_width": null,
            "min_height": null,
            "min_width": null,
            "object_fit": null,
            "object_position": null,
            "order": null,
            "overflow": null,
            "overflow_x": null,
            "overflow_y": null,
            "padding": null,
            "right": null,
            "top": null,
            "visibility": null,
            "width": null
          }
        },
        "42485616e0984dcdb6f0c52c353d7ead": {
          "model_module": "@jupyter-widgets/base",
          "model_module_version": "1.2.0",
          "model_name": "LayoutModel",
          "state": {
            "_model_module": "@jupyter-widgets/base",
            "_model_module_version": "1.2.0",
            "_model_name": "LayoutModel",
            "_view_count": null,
            "_view_module": "@jupyter-widgets/base",
            "_view_module_version": "1.2.0",
            "_view_name": "LayoutView",
            "align_content": null,
            "align_items": null,
            "align_self": null,
            "border": null,
            "bottom": null,
            "display": null,
            "flex": null,
            "flex_flow": null,
            "grid_area": null,
            "grid_auto_columns": null,
            "grid_auto_flow": null,
            "grid_auto_rows": null,
            "grid_column": null,
            "grid_gap": null,
            "grid_row": null,
            "grid_template_areas": null,
            "grid_template_columns": null,
            "grid_template_rows": null,
            "height": null,
            "justify_content": null,
            "justify_items": null,
            "left": null,
            "margin": null,
            "max_height": null,
            "max_width": null,
            "min_height": null,
            "min_width": null,
            "object_fit": null,
            "object_position": null,
            "order": null,
            "overflow": null,
            "overflow_x": null,
            "overflow_y": null,
            "padding": null,
            "right": null,
            "top": null,
            "visibility": null,
            "width": null
          }
        },
        "43e24a9668434e43bab4cfefd6f55a35": {
          "model_module": "@jupyter-widgets/controls",
          "model_module_version": "1.5.0",
          "model_name": "ProgressStyleModel",
          "state": {
            "_model_module": "@jupyter-widgets/controls",
            "_model_module_version": "1.5.0",
            "_model_name": "ProgressStyleModel",
            "_view_count": null,
            "_view_module": "@jupyter-widgets/base",
            "_view_module_version": "1.2.0",
            "_view_name": "StyleView",
            "bar_color": null,
            "description_width": ""
          }
        },
        "469307c00d504e6688d94b1a0deb85ae": {
          "model_module": "@jupyter-widgets/base",
          "model_module_version": "1.2.0",
          "model_name": "LayoutModel",
          "state": {
            "_model_module": "@jupyter-widgets/base",
            "_model_module_version": "1.2.0",
            "_model_name": "LayoutModel",
            "_view_count": null,
            "_view_module": "@jupyter-widgets/base",
            "_view_module_version": "1.2.0",
            "_view_name": "LayoutView",
            "align_content": null,
            "align_items": null,
            "align_self": null,
            "border": null,
            "bottom": null,
            "display": null,
            "flex": null,
            "flex_flow": null,
            "grid_area": null,
            "grid_auto_columns": null,
            "grid_auto_flow": null,
            "grid_auto_rows": null,
            "grid_column": null,
            "grid_gap": null,
            "grid_row": null,
            "grid_template_areas": null,
            "grid_template_columns": null,
            "grid_template_rows": null,
            "height": null,
            "justify_content": null,
            "justify_items": null,
            "left": null,
            "margin": null,
            "max_height": null,
            "max_width": null,
            "min_height": null,
            "min_width": null,
            "object_fit": null,
            "object_position": null,
            "order": null,
            "overflow": null,
            "overflow_x": null,
            "overflow_y": null,
            "padding": null,
            "right": null,
            "top": null,
            "visibility": null,
            "width": null
          }
        },
        "479e5c7b615640d387b4bee75cefed5b": {
          "model_module": "@jupyter-widgets/controls",
          "model_module_version": "1.5.0",
          "model_name": "HBoxModel",
          "state": {
            "_dom_classes": [],
            "_model_module": "@jupyter-widgets/controls",
            "_model_module_version": "1.5.0",
            "_model_name": "HBoxModel",
            "_view_count": null,
            "_view_module": "@jupyter-widgets/controls",
            "_view_module_version": "1.5.0",
            "_view_name": "HBoxView",
            "box_style": "",
            "children": [
              "IPY_MODEL_a71340fd11c24c1a83b727f0b3465d8b",
              "IPY_MODEL_81c406765a3e4f258b64e3ca613e2a9f",
              "IPY_MODEL_c7afbc455ae34600b172a9b4d441f3c1"
            ],
            "layout": "IPY_MODEL_e58d4402d27c4517967c2cbb27331f92"
          }
        },
        "4b3d9c6a72414e5e9d2e638c34860188": {
          "model_module": "@jupyter-widgets/controls",
          "model_module_version": "1.5.0",
          "model_name": "DescriptionStyleModel",
          "state": {
            "_model_module": "@jupyter-widgets/controls",
            "_model_module_version": "1.5.0",
            "_model_name": "DescriptionStyleModel",
            "_view_count": null,
            "_view_module": "@jupyter-widgets/base",
            "_view_module_version": "1.2.0",
            "_view_name": "StyleView",
            "description_width": ""
          }
        },
        "4b7ba0a00b0f4ee9b35747d139b7f84a": {
          "model_module": "@jupyter-widgets/controls",
          "model_module_version": "1.5.0",
          "model_name": "HBoxModel",
          "state": {
            "_dom_classes": [],
            "_model_module": "@jupyter-widgets/controls",
            "_model_module_version": "1.5.0",
            "_model_name": "HBoxModel",
            "_view_count": null,
            "_view_module": "@jupyter-widgets/controls",
            "_view_module_version": "1.5.0",
            "_view_name": "HBoxView",
            "box_style": "",
            "children": [
              "IPY_MODEL_baceb172fdc34b80ba45a10717187554",
              "IPY_MODEL_bc6cc1985795496cb961f65ecf4eb467",
              "IPY_MODEL_86e0f7c87a9a4e7faf1c06b502a1d123"
            ],
            "layout": "IPY_MODEL_ef39a40ac035489b860ff2ec9e76e930"
          }
        },
        "506bd9ce83814d30bdf9aa815ed54658": {
          "model_module": "@jupyter-widgets/controls",
          "model_module_version": "1.5.0",
          "model_name": "HTMLModel",
          "state": {
            "_dom_classes": [],
            "_model_module": "@jupyter-widgets/controls",
            "_model_module_version": "1.5.0",
            "_model_name": "HTMLModel",
            "_view_count": null,
            "_view_module": "@jupyter-widgets/controls",
            "_view_module_version": "1.5.0",
            "_view_name": "HTMLView",
            "description": "",
            "description_tooltip": null,
            "layout": "IPY_MODEL_af2693ce9b46439486f588d569904652",
            "placeholder": "​",
            "style": "IPY_MODEL_d70db0bf2c82462a949ac39492da56f2",
            "value": " 2/2 [00:02&lt;00:00,  1.32s/it]"
          }
        },
        "50a02db1b1d8415f946b2c31cd55f571": {
          "model_module": "@jupyter-widgets/base",
          "model_module_version": "1.2.0",
          "model_name": "LayoutModel",
          "state": {
            "_model_module": "@jupyter-widgets/base",
            "_model_module_version": "1.2.0",
            "_model_name": "LayoutModel",
            "_view_count": null,
            "_view_module": "@jupyter-widgets/base",
            "_view_module_version": "1.2.0",
            "_view_name": "LayoutView",
            "align_content": null,
            "align_items": null,
            "align_self": null,
            "border": null,
            "bottom": null,
            "display": null,
            "flex": null,
            "flex_flow": null,
            "grid_area": null,
            "grid_auto_columns": null,
            "grid_auto_flow": null,
            "grid_auto_rows": null,
            "grid_column": null,
            "grid_gap": null,
            "grid_row": null,
            "grid_template_areas": null,
            "grid_template_columns": null,
            "grid_template_rows": null,
            "height": null,
            "justify_content": null,
            "justify_items": null,
            "left": null,
            "margin": null,
            "max_height": null,
            "max_width": null,
            "min_height": null,
            "min_width": null,
            "object_fit": null,
            "object_position": null,
            "order": null,
            "overflow": null,
            "overflow_x": null,
            "overflow_y": null,
            "padding": null,
            "right": null,
            "top": null,
            "visibility": null,
            "width": null
          }
        },
        "52506216aba14c6e810b9b66c010d2b8": {
          "model_module": "@jupyter-widgets/controls",
          "model_module_version": "1.5.0",
          "model_name": "DescriptionStyleModel",
          "state": {
            "_model_module": "@jupyter-widgets/controls",
            "_model_module_version": "1.5.0",
            "_model_name": "DescriptionStyleModel",
            "_view_count": null,
            "_view_module": "@jupyter-widgets/base",
            "_view_module_version": "1.2.0",
            "_view_name": "StyleView",
            "description_width": ""
          }
        },
        "52adccf048484acc9a2abb33be67a0bf": {
          "model_module": "@jupyter-widgets/controls",
          "model_module_version": "1.5.0",
          "model_name": "DescriptionStyleModel",
          "state": {
            "_model_module": "@jupyter-widgets/controls",
            "_model_module_version": "1.5.0",
            "_model_name": "DescriptionStyleModel",
            "_view_count": null,
            "_view_module": "@jupyter-widgets/base",
            "_view_module_version": "1.2.0",
            "_view_name": "StyleView",
            "description_width": ""
          }
        },
        "570e395b2e5847c5b630c7801b14f781": {
          "model_module": "@jupyter-widgets/controls",
          "model_module_version": "1.5.0",
          "model_name": "DescriptionStyleModel",
          "state": {
            "_model_module": "@jupyter-widgets/controls",
            "_model_module_version": "1.5.0",
            "_model_name": "DescriptionStyleModel",
            "_view_count": null,
            "_view_module": "@jupyter-widgets/base",
            "_view_module_version": "1.2.0",
            "_view_name": "StyleView",
            "description_width": ""
          }
        },
        "5977f9fe7aea442aa42f034c00d251fa": {
          "model_module": "@jupyter-widgets/base",
          "model_module_version": "1.2.0",
          "model_name": "LayoutModel",
          "state": {
            "_model_module": "@jupyter-widgets/base",
            "_model_module_version": "1.2.0",
            "_model_name": "LayoutModel",
            "_view_count": null,
            "_view_module": "@jupyter-widgets/base",
            "_view_module_version": "1.2.0",
            "_view_name": "LayoutView",
            "align_content": null,
            "align_items": null,
            "align_self": null,
            "border": null,
            "bottom": null,
            "display": null,
            "flex": null,
            "flex_flow": null,
            "grid_area": null,
            "grid_auto_columns": null,
            "grid_auto_flow": null,
            "grid_auto_rows": null,
            "grid_column": null,
            "grid_gap": null,
            "grid_row": null,
            "grid_template_areas": null,
            "grid_template_columns": null,
            "grid_template_rows": null,
            "height": null,
            "justify_content": null,
            "justify_items": null,
            "left": null,
            "margin": null,
            "max_height": null,
            "max_width": null,
            "min_height": null,
            "min_width": null,
            "object_fit": null,
            "object_position": null,
            "order": null,
            "overflow": null,
            "overflow_x": null,
            "overflow_y": null,
            "padding": null,
            "right": null,
            "top": null,
            "visibility": null,
            "width": null
          }
        },
        "5a931cf16338408aabbe1738f04fd04e": {
          "model_module": "@jupyter-widgets/controls",
          "model_module_version": "1.5.0",
          "model_name": "HBoxModel",
          "state": {
            "_dom_classes": [],
            "_model_module": "@jupyter-widgets/controls",
            "_model_module_version": "1.5.0",
            "_model_name": "HBoxModel",
            "_view_count": null,
            "_view_module": "@jupyter-widgets/controls",
            "_view_module_version": "1.5.0",
            "_view_name": "HBoxView",
            "box_style": "",
            "children": [
              "IPY_MODEL_9cfcf6e91d4246efa175cf5ba1312d9c",
              "IPY_MODEL_1ef7374e0f334efea0c447b360a210cd",
              "IPY_MODEL_fbf1efed6b7e497b84cb2e957e0e685c"
            ],
            "layout": "IPY_MODEL_c16040be88204c2da661fd914a23bcb3"
          }
        },
        "5f28700a4ca64cc7a2443f582df17714": {
          "model_module": "@jupyter-widgets/controls",
          "model_module_version": "1.5.0",
          "model_name": "HTMLModel",
          "state": {
            "_dom_classes": [],
            "_model_module": "@jupyter-widgets/controls",
            "_model_module_version": "1.5.0",
            "_model_name": "HTMLModel",
            "_view_count": null,
            "_view_module": "@jupyter-widgets/controls",
            "_view_module_version": "1.5.0",
            "_view_name": "HTMLView",
            "description": "",
            "description_tooltip": null,
            "layout": "IPY_MODEL_00c8a047a67c4ea4b8191e57117dfc46",
            "placeholder": "​",
            "style": "IPY_MODEL_4b3d9c6a72414e5e9d2e638c34860188",
            "value": " 2/2 [00:04&lt;00:00,  2.33s/it]"
          }
        },
        "5f9dafeb1941405aa2c393d9e066860b": {
          "model_module": "@jupyter-widgets/controls",
          "model_module_version": "1.5.0",
          "model_name": "FloatProgressModel",
          "state": {
            "_dom_classes": [],
            "_model_module": "@jupyter-widgets/controls",
            "_model_module_version": "1.5.0",
            "_model_name": "FloatProgressModel",
            "_view_count": null,
            "_view_module": "@jupyter-widgets/controls",
            "_view_module_version": "1.5.0",
            "_view_name": "ProgressView",
            "bar_style": "success",
            "description": "",
            "description_tooltip": null,
            "layout": "IPY_MODEL_f6d19ae9f9d04bc69dfbade1182247bf",
            "max": 1,
            "min": 0,
            "orientation": "horizontal",
            "style": "IPY_MODEL_5ff1b96fe1754e6397db444710f72add",
            "value": 1
          }
        },
        "5ff1b96fe1754e6397db444710f72add": {
          "model_module": "@jupyter-widgets/controls",
          "model_module_version": "1.5.0",
          "model_name": "ProgressStyleModel",
          "state": {
            "_model_module": "@jupyter-widgets/controls",
            "_model_module_version": "1.5.0",
            "_model_name": "ProgressStyleModel",
            "_view_count": null,
            "_view_module": "@jupyter-widgets/base",
            "_view_module_version": "1.2.0",
            "_view_name": "StyleView",
            "bar_color": null,
            "description_width": ""
          }
        },
        "62247258e2034ea39ed550d68656c385": {
          "model_module": "@jupyter-widgets/controls",
          "model_module_version": "1.5.0",
          "model_name": "ProgressStyleModel",
          "state": {
            "_model_module": "@jupyter-widgets/controls",
            "_model_module_version": "1.5.0",
            "_model_name": "ProgressStyleModel",
            "_view_count": null,
            "_view_module": "@jupyter-widgets/base",
            "_view_module_version": "1.2.0",
            "_view_name": "StyleView",
            "bar_color": null,
            "description_width": ""
          }
        },
        "68a0485b4c8f44d8885cf66fbc0af0b6": {
          "model_module": "@jupyter-widgets/controls",
          "model_module_version": "1.5.0",
          "model_name": "DescriptionStyleModel",
          "state": {
            "_model_module": "@jupyter-widgets/controls",
            "_model_module_version": "1.5.0",
            "_model_name": "DescriptionStyleModel",
            "_view_count": null,
            "_view_module": "@jupyter-widgets/base",
            "_view_module_version": "1.2.0",
            "_view_name": "StyleView",
            "description_width": ""
          }
        },
        "6af07e0d89a244abac82d09828dc2869": {
          "model_module": "@jupyter-widgets/controls",
          "model_module_version": "1.5.0",
          "model_name": "HTMLModel",
          "state": {
            "_dom_classes": [],
            "_model_module": "@jupyter-widgets/controls",
            "_model_module_version": "1.5.0",
            "_model_name": "HTMLModel",
            "_view_count": null,
            "_view_module": "@jupyter-widgets/controls",
            "_view_module_version": "1.5.0",
            "_view_name": "HTMLView",
            "description": "",
            "description_tooltip": null,
            "layout": "IPY_MODEL_82c5563d21334019b1164131259f224f",
            "placeholder": "​",
            "style": "IPY_MODEL_7735e67238874dccb7927d3a4c8a1f86",
            "value": " 1/1 [00:09&lt;00:00,  9.78s/it]"
          }
        },
        "6c0377fae6e5408a9c920d8d7320f4f8": {
          "model_module": "@jupyter-widgets/base",
          "model_module_version": "1.2.0",
          "model_name": "LayoutModel",
          "state": {
            "_model_module": "@jupyter-widgets/base",
            "_model_module_version": "1.2.0",
            "_model_name": "LayoutModel",
            "_view_count": null,
            "_view_module": "@jupyter-widgets/base",
            "_view_module_version": "1.2.0",
            "_view_name": "LayoutView",
            "align_content": null,
            "align_items": null,
            "align_self": null,
            "border": null,
            "bottom": null,
            "display": null,
            "flex": null,
            "flex_flow": null,
            "grid_area": null,
            "grid_auto_columns": null,
            "grid_auto_flow": null,
            "grid_auto_rows": null,
            "grid_column": null,
            "grid_gap": null,
            "grid_row": null,
            "grid_template_areas": null,
            "grid_template_columns": null,
            "grid_template_rows": null,
            "height": null,
            "justify_content": null,
            "justify_items": null,
            "left": null,
            "margin": null,
            "max_height": null,
            "max_width": null,
            "min_height": null,
            "min_width": null,
            "object_fit": null,
            "object_position": null,
            "order": null,
            "overflow": null,
            "overflow_x": null,
            "overflow_y": null,
            "padding": null,
            "right": null,
            "top": null,
            "visibility": null,
            "width": null
          }
        },
        "7021e2ba55624ef0b3918cb938b74d49": {
          "model_module": "@jupyter-widgets/base",
          "model_module_version": "1.2.0",
          "model_name": "LayoutModel",
          "state": {
            "_model_module": "@jupyter-widgets/base",
            "_model_module_version": "1.2.0",
            "_model_name": "LayoutModel",
            "_view_count": null,
            "_view_module": "@jupyter-widgets/base",
            "_view_module_version": "1.2.0",
            "_view_name": "LayoutView",
            "align_content": null,
            "align_items": null,
            "align_self": null,
            "border": null,
            "bottom": null,
            "display": null,
            "flex": null,
            "flex_flow": null,
            "grid_area": null,
            "grid_auto_columns": null,
            "grid_auto_flow": null,
            "grid_auto_rows": null,
            "grid_column": null,
            "grid_gap": null,
            "grid_row": null,
            "grid_template_areas": null,
            "grid_template_columns": null,
            "grid_template_rows": null,
            "height": null,
            "justify_content": null,
            "justify_items": null,
            "left": null,
            "margin": null,
            "max_height": null,
            "max_width": null,
            "min_height": null,
            "min_width": null,
            "object_fit": null,
            "object_position": null,
            "order": null,
            "overflow": null,
            "overflow_x": null,
            "overflow_y": null,
            "padding": null,
            "right": null,
            "top": null,
            "visibility": null,
            "width": null
          }
        },
        "70eff865165f4cb49b208ea6c1ad9b2f": {
          "model_module": "@jupyter-widgets/controls",
          "model_module_version": "1.5.0",
          "model_name": "HTMLModel",
          "state": {
            "_dom_classes": [],
            "_model_module": "@jupyter-widgets/controls",
            "_model_module_version": "1.5.0",
            "_model_name": "HTMLModel",
            "_view_count": null,
            "_view_module": "@jupyter-widgets/controls",
            "_view_module_version": "1.5.0",
            "_view_name": "HTMLView",
            "description": "",
            "description_tooltip": null,
            "layout": "IPY_MODEL_50a02db1b1d8415f946b2c31cd55f571",
            "placeholder": "​",
            "style": "IPY_MODEL_52506216aba14c6e810b9b66c010d2b8",
            "value": "Reading dataset with pandas: 100%"
          }
        },
        "7735e67238874dccb7927d3a4c8a1f86": {
          "model_module": "@jupyter-widgets/controls",
          "model_module_version": "1.5.0",
          "model_name": "DescriptionStyleModel",
          "state": {
            "_model_module": "@jupyter-widgets/controls",
            "_model_module_version": "1.5.0",
            "_model_name": "DescriptionStyleModel",
            "_view_count": null,
            "_view_module": "@jupyter-widgets/base",
            "_view_module_version": "1.2.0",
            "_view_name": "StyleView",
            "description_width": ""
          }
        },
        "7833bdf47e0744419a1bfce4e04fd061": {
          "model_module": "@jupyter-widgets/base",
          "model_module_version": "1.2.0",
          "model_name": "LayoutModel",
          "state": {
            "_model_module": "@jupyter-widgets/base",
            "_model_module_version": "1.2.0",
            "_model_name": "LayoutModel",
            "_view_count": null,
            "_view_module": "@jupyter-widgets/base",
            "_view_module_version": "1.2.0",
            "_view_name": "LayoutView",
            "align_content": null,
            "align_items": null,
            "align_self": null,
            "border": null,
            "bottom": null,
            "display": null,
            "flex": null,
            "flex_flow": null,
            "grid_area": null,
            "grid_auto_columns": null,
            "grid_auto_flow": null,
            "grid_auto_rows": null,
            "grid_column": null,
            "grid_gap": null,
            "grid_row": null,
            "grid_template_areas": null,
            "grid_template_columns": null,
            "grid_template_rows": null,
            "height": null,
            "justify_content": null,
            "justify_items": null,
            "left": null,
            "margin": null,
            "max_height": null,
            "max_width": null,
            "min_height": null,
            "min_width": null,
            "object_fit": null,
            "object_position": null,
            "order": null,
            "overflow": null,
            "overflow_x": null,
            "overflow_y": null,
            "padding": null,
            "right": null,
            "top": null,
            "visibility": null,
            "width": null
          }
        },
        "78c9302f700541909717c1f2172ed27a": {
          "model_module": "@jupyter-widgets/controls",
          "model_module_version": "1.5.0",
          "model_name": "DescriptionStyleModel",
          "state": {
            "_model_module": "@jupyter-widgets/controls",
            "_model_module_version": "1.5.0",
            "_model_name": "DescriptionStyleModel",
            "_view_count": null,
            "_view_module": "@jupyter-widgets/base",
            "_view_module_version": "1.2.0",
            "_view_name": "StyleView",
            "description_width": ""
          }
        },
        "7a27edd16bf84648a0df7eccb8bb4062": {
          "model_module": "@jupyter-widgets/controls",
          "model_module_version": "1.5.0",
          "model_name": "DescriptionStyleModel",
          "state": {
            "_model_module": "@jupyter-widgets/controls",
            "_model_module_version": "1.5.0",
            "_model_name": "DescriptionStyleModel",
            "_view_count": null,
            "_view_module": "@jupyter-widgets/base",
            "_view_module_version": "1.2.0",
            "_view_name": "StyleView",
            "description_width": ""
          }
        },
        "7e5c364b10ec4056acca94c330a7724a": {
          "model_module": "@jupyter-widgets/base",
          "model_module_version": "1.2.0",
          "model_name": "LayoutModel",
          "state": {
            "_model_module": "@jupyter-widgets/base",
            "_model_module_version": "1.2.0",
            "_model_name": "LayoutModel",
            "_view_count": null,
            "_view_module": "@jupyter-widgets/base",
            "_view_module_version": "1.2.0",
            "_view_name": "LayoutView",
            "align_content": null,
            "align_items": null,
            "align_self": null,
            "border": null,
            "bottom": null,
            "display": null,
            "flex": null,
            "flex_flow": null,
            "grid_area": null,
            "grid_auto_columns": null,
            "grid_auto_flow": null,
            "grid_auto_rows": null,
            "grid_column": null,
            "grid_gap": null,
            "grid_row": null,
            "grid_template_areas": null,
            "grid_template_columns": null,
            "grid_template_rows": null,
            "height": null,
            "justify_content": null,
            "justify_items": null,
            "left": null,
            "margin": null,
            "max_height": null,
            "max_width": null,
            "min_height": null,
            "min_width": null,
            "object_fit": null,
            "object_position": null,
            "order": null,
            "overflow": null,
            "overflow_x": null,
            "overflow_y": null,
            "padding": null,
            "right": null,
            "top": null,
            "visibility": null,
            "width": null
          }
        },
        "81c406765a3e4f258b64e3ca613e2a9f": {
          "model_module": "@jupyter-widgets/controls",
          "model_module_version": "1.5.0",
          "model_name": "FloatProgressModel",
          "state": {
            "_dom_classes": [],
            "_model_module": "@jupyter-widgets/controls",
            "_model_module_version": "1.5.0",
            "_model_name": "FloatProgressModel",
            "_view_count": null,
            "_view_module": "@jupyter-widgets/controls",
            "_view_module_version": "1.5.0",
            "_view_name": "ProgressView",
            "bar_style": "success",
            "description": "",
            "description_tooltip": null,
            "layout": "IPY_MODEL_e9a4aa10c6b24c359fd249d39e482b76",
            "max": 2,
            "min": 0,
            "orientation": "horizontal",
            "style": "IPY_MODEL_62247258e2034ea39ed550d68656c385",
            "value": 2
          }
        },
        "8219c0fd86ee4e0d8ea25922ed8f2104": {
          "model_module": "@jupyter-widgets/controls",
          "model_module_version": "1.5.0",
          "model_name": "HBoxModel",
          "state": {
            "_dom_classes": [],
            "_model_module": "@jupyter-widgets/controls",
            "_model_module_version": "1.5.0",
            "_model_name": "HBoxModel",
            "_view_count": null,
            "_view_module": "@jupyter-widgets/controls",
            "_view_module_version": "1.5.0",
            "_view_name": "HBoxView",
            "box_style": "",
            "children": [
              "IPY_MODEL_8efe33bd9e7844e8b75d92d10e998964",
              "IPY_MODEL_005b6a2f8bd84f59a14dcc74114fbbd0",
              "IPY_MODEL_cb06c8254ea74b62b9a32d944cb5c541"
            ],
            "layout": "IPY_MODEL_9eabac07ee654724a782d258c2b69702"
          }
        },
        "82c5563d21334019b1164131259f224f": {
          "model_module": "@jupyter-widgets/base",
          "model_module_version": "1.2.0",
          "model_name": "LayoutModel",
          "state": {
            "_model_module": "@jupyter-widgets/base",
            "_model_module_version": "1.2.0",
            "_model_name": "LayoutModel",
            "_view_count": null,
            "_view_module": "@jupyter-widgets/base",
            "_view_module_version": "1.2.0",
            "_view_name": "LayoutView",
            "align_content": null,
            "align_items": null,
            "align_self": null,
            "border": null,
            "bottom": null,
            "display": null,
            "flex": null,
            "flex_flow": null,
            "grid_area": null,
            "grid_auto_columns": null,
            "grid_auto_flow": null,
            "grid_auto_rows": null,
            "grid_column": null,
            "grid_gap": null,
            "grid_row": null,
            "grid_template_areas": null,
            "grid_template_columns": null,
            "grid_template_rows": null,
            "height": null,
            "justify_content": null,
            "justify_items": null,
            "left": null,
            "margin": null,
            "max_height": null,
            "max_width": null,
            "min_height": null,
            "min_width": null,
            "object_fit": null,
            "object_position": null,
            "order": null,
            "overflow": null,
            "overflow_x": null,
            "overflow_y": null,
            "padding": null,
            "right": null,
            "top": null,
            "visibility": null,
            "width": null
          }
        },
        "86e0f7c87a9a4e7faf1c06b502a1d123": {
          "model_module": "@jupyter-widgets/controls",
          "model_module_version": "1.5.0",
          "model_name": "HTMLModel",
          "state": {
            "_dom_classes": [],
            "_model_module": "@jupyter-widgets/controls",
            "_model_module_version": "1.5.0",
            "_model_name": "HTMLModel",
            "_view_count": null,
            "_view_module": "@jupyter-widgets/controls",
            "_view_module_version": "1.5.0",
            "_view_name": "HTMLView",
            "description": "",
            "description_tooltip": null,
            "layout": "IPY_MODEL_c9191e2ac1d441048a3c57ada7173996",
            "placeholder": "​",
            "style": "IPY_MODEL_f35e0469710f4ecc8f616144c76e8c5b",
            "value": " 2/2 [00:02&lt;00:00,  1.29s/it]"
          }
        },
        "8efe33bd9e7844e8b75d92d10e998964": {
          "model_module": "@jupyter-widgets/controls",
          "model_module_version": "1.5.0",
          "model_name": "HTMLModel",
          "state": {
            "_dom_classes": [],
            "_model_module": "@jupyter-widgets/controls",
            "_model_module_version": "1.5.0",
            "_model_name": "HTMLModel",
            "_view_count": null,
            "_view_module": "@jupyter-widgets/controls",
            "_view_module_version": "1.5.0",
            "_view_name": "HTMLView",
            "description": "",
            "description_tooltip": null,
            "layout": "IPY_MODEL_324b7af4c8c94178a0d094d616d52f7f",
            "placeholder": "​",
            "style": "IPY_MODEL_eb70cec476174d42a1c5147832d2f7f7",
            "value": "Count statistics on train data: 100%"
          }
        },
        "915cf0221904421cbeef17f09b680585": {
          "model_module": "@jupyter-widgets/controls",
          "model_module_version": "1.5.0",
          "model_name": "FloatProgressModel",
          "state": {
            "_dom_classes": [],
            "_model_module": "@jupyter-widgets/controls",
            "_model_module_version": "1.5.0",
            "_model_name": "FloatProgressModel",
            "_view_count": null,
            "_view_module": "@jupyter-widgets/controls",
            "_view_module_version": "1.5.0",
            "_view_name": "ProgressView",
            "bar_style": "success",
            "description": "",
            "description_tooltip": null,
            "layout": "IPY_MODEL_b52ac68cfd9f4409b664dc5c79a32bb6",
            "max": 2,
            "min": 0,
            "orientation": "horizontal",
            "style": "IPY_MODEL_27d2c21df50142d2a5e6e50849333ea1",
            "value": 2
          }
        },
        "926f766295534eada2ebf369c5fa2cfd": {
          "model_module": "@jupyter-widgets/controls",
          "model_module_version": "1.5.0",
          "model_name": "HTMLModel",
          "state": {
            "_dom_classes": [],
            "_model_module": "@jupyter-widgets/controls",
            "_model_module_version": "1.5.0",
            "_model_name": "HTMLModel",
            "_view_count": null,
            "_view_module": "@jupyter-widgets/controls",
            "_view_module_version": "1.5.0",
            "_view_name": "HTMLView",
            "description": "",
            "description_tooltip": null,
            "layout": "IPY_MODEL_0f2487450b8541a5bab58f9f5562ff4b",
            "placeholder": "​",
            "style": "IPY_MODEL_d2b65430fe6f4760a23f613f2d83751e",
            "value": " 2/2 [00:03&lt;00:00,  1.57s/it]"
          }
        },
        "995874a3d95d433394b5f6059a180dd1": {
          "model_module": "@jupyter-widgets/controls",
          "model_module_version": "1.5.0",
          "model_name": "HTMLModel",
          "state": {
            "_dom_classes": [],
            "_model_module": "@jupyter-widgets/controls",
            "_model_module_version": "1.5.0",
            "_model_name": "HTMLModel",
            "_view_count": null,
            "_view_module": "@jupyter-widgets/controls",
            "_view_module_version": "1.5.0",
            "_view_name": "HTMLView",
            "description": "",
            "description_tooltip": null,
            "layout": "IPY_MODEL_7833bdf47e0744419a1bfce4e04fd061",
            "placeholder": "​",
            "style": "IPY_MODEL_2d81036063684c61ab7a4c5a5a889f09",
            "value": "Reading dataset with pandas: 100%"
          }
        },
        "9a911c756cbb40eb89a83bc87a7be309": {
          "model_module": "@jupyter-widgets/base",
          "model_module_version": "1.2.0",
          "model_name": "LayoutModel",
          "state": {
            "_model_module": "@jupyter-widgets/base",
            "_model_module_version": "1.2.0",
            "_model_name": "LayoutModel",
            "_view_count": null,
            "_view_module": "@jupyter-widgets/base",
            "_view_module_version": "1.2.0",
            "_view_name": "LayoutView",
            "align_content": null,
            "align_items": null,
            "align_self": null,
            "border": null,
            "bottom": null,
            "display": null,
            "flex": null,
            "flex_flow": null,
            "grid_area": null,
            "grid_auto_columns": null,
            "grid_auto_flow": null,
            "grid_auto_rows": null,
            "grid_column": null,
            "grid_gap": null,
            "grid_row": null,
            "grid_template_areas": null,
            "grid_template_columns": null,
            "grid_template_rows": null,
            "height": null,
            "justify_content": null,
            "justify_items": null,
            "left": null,
            "margin": null,
            "max_height": null,
            "max_width": null,
            "min_height": null,
            "min_width": null,
            "object_fit": null,
            "object_position": null,
            "order": null,
            "overflow": null,
            "overflow_x": null,
            "overflow_y": null,
            "padding": null,
            "right": null,
            "top": null,
            "visibility": null,
            "width": null
          }
        },
        "9aed802b79094bbe8620d1c8e04e09bf": {
          "model_module": "@jupyter-widgets/controls",
          "model_module_version": "1.5.0",
          "model_name": "DescriptionStyleModel",
          "state": {
            "_model_module": "@jupyter-widgets/controls",
            "_model_module_version": "1.5.0",
            "_model_name": "DescriptionStyleModel",
            "_view_count": null,
            "_view_module": "@jupyter-widgets/base",
            "_view_module_version": "1.2.0",
            "_view_name": "StyleView",
            "description_width": ""
          }
        },
        "9cfcf6e91d4246efa175cf5ba1312d9c": {
          "model_module": "@jupyter-widgets/controls",
          "model_module_version": "1.5.0",
          "model_name": "HTMLModel",
          "state": {
            "_dom_classes": [],
            "_model_module": "@jupyter-widgets/controls",
            "_model_module_version": "1.5.0",
            "_model_name": "HTMLModel",
            "_view_count": null,
            "_view_module": "@jupyter-widgets/controls",
            "_view_module_version": "1.5.0",
            "_view_name": "HTMLView",
            "description": "",
            "description_tooltip": null,
            "layout": "IPY_MODEL_42485616e0984dcdb6f0c52c353d7ead",
            "placeholder": "​",
            "style": "IPY_MODEL_68a0485b4c8f44d8885cf66fbc0af0b6",
            "value": "Reading dataset with pandas: 100%"
          }
        },
        "9e6c35d317d5472faa5f30164cbea731": {
          "model_module": "@jupyter-widgets/controls",
          "model_module_version": "1.5.0",
          "model_name": "ProgressStyleModel",
          "state": {
            "_model_module": "@jupyter-widgets/controls",
            "_model_module_version": "1.5.0",
            "_model_name": "ProgressStyleModel",
            "_view_count": null,
            "_view_module": "@jupyter-widgets/base",
            "_view_module_version": "1.2.0",
            "_view_name": "StyleView",
            "bar_color": null,
            "description_width": ""
          }
        },
        "9eabac07ee654724a782d258c2b69702": {
          "model_module": "@jupyter-widgets/base",
          "model_module_version": "1.2.0",
          "model_name": "LayoutModel",
          "state": {
            "_model_module": "@jupyter-widgets/base",
            "_model_module_version": "1.2.0",
            "_model_name": "LayoutModel",
            "_view_count": null,
            "_view_module": "@jupyter-widgets/base",
            "_view_module_version": "1.2.0",
            "_view_name": "LayoutView",
            "align_content": null,
            "align_items": null,
            "align_self": null,
            "border": null,
            "bottom": null,
            "display": null,
            "flex": null,
            "flex_flow": null,
            "grid_area": null,
            "grid_auto_columns": null,
            "grid_auto_flow": null,
            "grid_auto_rows": null,
            "grid_column": null,
            "grid_gap": null,
            "grid_row": null,
            "grid_template_areas": null,
            "grid_template_columns": null,
            "grid_template_rows": null,
            "height": null,
            "justify_content": null,
            "justify_items": null,
            "left": null,
            "margin": null,
            "max_height": null,
            "max_width": null,
            "min_height": null,
            "min_width": null,
            "object_fit": null,
            "object_position": null,
            "order": null,
            "overflow": null,
            "overflow_x": null,
            "overflow_y": null,
            "padding": null,
            "right": null,
            "top": null,
            "visibility": null,
            "width": null
          }
        },
        "a24adfdfab0e46289b4e6bb075b3651a": {
          "model_module": "@jupyter-widgets/controls",
          "model_module_version": "1.5.0",
          "model_name": "FloatProgressModel",
          "state": {
            "_dom_classes": [],
            "_model_module": "@jupyter-widgets/controls",
            "_model_module_version": "1.5.0",
            "_model_name": "FloatProgressModel",
            "_view_count": null,
            "_view_module": "@jupyter-widgets/controls",
            "_view_module_version": "1.5.0",
            "_view_name": "ProgressView",
            "bar_style": "success",
            "description": "",
            "description_tooltip": null,
            "layout": "IPY_MODEL_40636e95166e4349b35f3584685aab75",
            "max": 2,
            "min": 0,
            "orientation": "horizontal",
            "style": "IPY_MODEL_0affd38bd01e49d9b26d2086eb1bc87d",
            "value": 2
          }
        },
        "a66fd0b83de04e7aafe501aa4352d8e8": {
          "model_module": "@jupyter-widgets/base",
          "model_module_version": "1.2.0",
          "model_name": "LayoutModel",
          "state": {
            "_model_module": "@jupyter-widgets/base",
            "_model_module_version": "1.2.0",
            "_model_name": "LayoutModel",
            "_view_count": null,
            "_view_module": "@jupyter-widgets/base",
            "_view_module_version": "1.2.0",
            "_view_name": "LayoutView",
            "align_content": null,
            "align_items": null,
            "align_self": null,
            "border": null,
            "bottom": null,
            "display": null,
            "flex": null,
            "flex_flow": null,
            "grid_area": null,
            "grid_auto_columns": null,
            "grid_auto_flow": null,
            "grid_auto_rows": null,
            "grid_column": null,
            "grid_gap": null,
            "grid_row": null,
            "grid_template_areas": null,
            "grid_template_columns": null,
            "grid_template_rows": null,
            "height": null,
            "justify_content": null,
            "justify_items": null,
            "left": null,
            "margin": null,
            "max_height": null,
            "max_width": null,
            "min_height": null,
            "min_width": null,
            "object_fit": null,
            "object_position": null,
            "order": null,
            "overflow": null,
            "overflow_x": null,
            "overflow_y": null,
            "padding": null,
            "right": null,
            "top": null,
            "visibility": null,
            "width": null
          }
        },
        "a71340fd11c24c1a83b727f0b3465d8b": {
          "model_module": "@jupyter-widgets/controls",
          "model_module_version": "1.5.0",
          "model_name": "HTMLModel",
          "state": {
            "_dom_classes": [],
            "_model_module": "@jupyter-widgets/controls",
            "_model_module_version": "1.5.0",
            "_model_name": "HTMLModel",
            "_view_count": null,
            "_view_module": "@jupyter-widgets/controls",
            "_view_module_version": "1.5.0",
            "_view_name": "HTMLView",
            "description": "",
            "description_tooltip": null,
            "layout": "IPY_MODEL_11a5008956474db9849e476be4ac5078",
            "placeholder": "​",
            "style": "IPY_MODEL_52adccf048484acc9a2abb33be67a0bf",
            "value": "Reading dataset with pandas: 100%"
          }
        },
        "aa9962f52a884896abd122a7698e1957": {
          "model_module": "@jupyter-widgets/base",
          "model_module_version": "1.2.0",
          "model_name": "LayoutModel",
          "state": {
            "_model_module": "@jupyter-widgets/base",
            "_model_module_version": "1.2.0",
            "_model_name": "LayoutModel",
            "_view_count": null,
            "_view_module": "@jupyter-widgets/base",
            "_view_module_version": "1.2.0",
            "_view_name": "LayoutView",
            "align_content": null,
            "align_items": null,
            "align_self": null,
            "border": null,
            "bottom": null,
            "display": null,
            "flex": null,
            "flex_flow": null,
            "grid_area": null,
            "grid_auto_columns": null,
            "grid_auto_flow": null,
            "grid_auto_rows": null,
            "grid_column": null,
            "grid_gap": null,
            "grid_row": null,
            "grid_template_areas": null,
            "grid_template_columns": null,
            "grid_template_rows": null,
            "height": null,
            "justify_content": null,
            "justify_items": null,
            "left": null,
            "margin": null,
            "max_height": null,
            "max_width": null,
            "min_height": null,
            "min_width": null,
            "object_fit": null,
            "object_position": null,
            "order": null,
            "overflow": null,
            "overflow_x": null,
            "overflow_y": null,
            "padding": null,
            "right": null,
            "top": null,
            "visibility": null,
            "width": null
          }
        },
        "ac1b959c717844c3b7892e664f78ebc6": {
          "model_module": "@jupyter-widgets/controls",
          "model_module_version": "1.5.0",
          "model_name": "HTMLModel",
          "state": {
            "_dom_classes": [],
            "_model_module": "@jupyter-widgets/controls",
            "_model_module_version": "1.5.0",
            "_model_name": "HTMLModel",
            "_view_count": null,
            "_view_module": "@jupyter-widgets/controls",
            "_view_module_version": "1.5.0",
            "_view_name": "HTMLView",
            "description": "",
            "description_tooltip": null,
            "layout": "IPY_MODEL_cd84c50ac7e74284b01dcb8de76a7850",
            "placeholder": "​",
            "style": "IPY_MODEL_570e395b2e5847c5b630c7801b14f781",
            "value": " 2/2 [00:03&lt;00:00,  1.64s/it]"
          }
        },
        "aec4f84e0e8446f79c1c8c0e867fe194": {
          "model_module": "@jupyter-widgets/controls",
          "model_module_version": "1.5.0",
          "model_name": "HBoxModel",
          "state": {
            "_dom_classes": [],
            "_model_module": "@jupyter-widgets/controls",
            "_model_module_version": "1.5.0",
            "_model_name": "HBoxModel",
            "_view_count": null,
            "_view_module": "@jupyter-widgets/controls",
            "_view_module_version": "1.5.0",
            "_view_name": "HBoxView",
            "box_style": "",
            "children": [
              "IPY_MODEL_2a1db35e6a5843dbb2d7a94f6e7c1f94",
              "IPY_MODEL_a24adfdfab0e46289b4e6bb075b3651a",
              "IPY_MODEL_ac1b959c717844c3b7892e664f78ebc6"
            ],
            "layout": "IPY_MODEL_04a30076f7a047eab022605e4082781b"
          }
        },
        "af2693ce9b46439486f588d569904652": {
          "model_module": "@jupyter-widgets/base",
          "model_module_version": "1.2.0",
          "model_name": "LayoutModel",
          "state": {
            "_model_module": "@jupyter-widgets/base",
            "_model_module_version": "1.2.0",
            "_model_name": "LayoutModel",
            "_view_count": null,
            "_view_module": "@jupyter-widgets/base",
            "_view_module_version": "1.2.0",
            "_view_name": "LayoutView",
            "align_content": null,
            "align_items": null,
            "align_self": null,
            "border": null,
            "bottom": null,
            "display": null,
            "flex": null,
            "flex_flow": null,
            "grid_area": null,
            "grid_auto_columns": null,
            "grid_auto_flow": null,
            "grid_auto_rows": null,
            "grid_column": null,
            "grid_gap": null,
            "grid_row": null,
            "grid_template_areas": null,
            "grid_template_columns": null,
            "grid_template_rows": null,
            "height": null,
            "justify_content": null,
            "justify_items": null,
            "left": null,
            "margin": null,
            "max_height": null,
            "max_width": null,
            "min_height": null,
            "min_width": null,
            "object_fit": null,
            "object_position": null,
            "order": null,
            "overflow": null,
            "overflow_x": null,
            "overflow_y": null,
            "padding": null,
            "right": null,
            "top": null,
            "visibility": null,
            "width": null
          }
        },
        "b4b3493821db440bbbe5c3d8c8b7d0d7": {
          "model_module": "@jupyter-widgets/controls",
          "model_module_version": "1.5.0",
          "model_name": "DescriptionStyleModel",
          "state": {
            "_model_module": "@jupyter-widgets/controls",
            "_model_module_version": "1.5.0",
            "_model_name": "DescriptionStyleModel",
            "_view_count": null,
            "_view_module": "@jupyter-widgets/base",
            "_view_module_version": "1.2.0",
            "_view_name": "StyleView",
            "description_width": ""
          }
        },
        "b513be2972ea4aaba927043c8947e2ae": {
          "model_module": "@jupyter-widgets/controls",
          "model_module_version": "1.5.0",
          "model_name": "FloatProgressModel",
          "state": {
            "_dom_classes": [],
            "_model_module": "@jupyter-widgets/controls",
            "_model_module_version": "1.5.0",
            "_model_name": "FloatProgressModel",
            "_view_count": null,
            "_view_module": "@jupyter-widgets/controls",
            "_view_module_version": "1.5.0",
            "_view_name": "ProgressView",
            "bar_style": "success",
            "description": "",
            "description_tooltip": null,
            "layout": "IPY_MODEL_ca48e3bb4c93440ea33c99bd789e676d",
            "max": 2,
            "min": 0,
            "orientation": "horizontal",
            "style": "IPY_MODEL_9e6c35d317d5472faa5f30164cbea731",
            "value": 2
          }
        },
        "b52ac68cfd9f4409b664dc5c79a32bb6": {
          "model_module": "@jupyter-widgets/base",
          "model_module_version": "1.2.0",
          "model_name": "LayoutModel",
          "state": {
            "_model_module": "@jupyter-widgets/base",
            "_model_module_version": "1.2.0",
            "_model_name": "LayoutModel",
            "_view_count": null,
            "_view_module": "@jupyter-widgets/base",
            "_view_module_version": "1.2.0",
            "_view_name": "LayoutView",
            "align_content": null,
            "align_items": null,
            "align_self": null,
            "border": null,
            "bottom": null,
            "display": null,
            "flex": null,
            "flex_flow": null,
            "grid_area": null,
            "grid_auto_columns": null,
            "grid_auto_flow": null,
            "grid_auto_rows": null,
            "grid_column": null,
            "grid_gap": null,
            "grid_row": null,
            "grid_template_areas": null,
            "grid_template_columns": null,
            "grid_template_rows": null,
            "height": null,
            "justify_content": null,
            "justify_items": null,
            "left": null,
            "margin": null,
            "max_height": null,
            "max_width": null,
            "min_height": null,
            "min_width": null,
            "object_fit": null,
            "object_position": null,
            "order": null,
            "overflow": null,
            "overflow_x": null,
            "overflow_y": null,
            "padding": null,
            "right": null,
            "top": null,
            "visibility": null,
            "width": null
          }
        },
        "b5d4897f293d4d2daebcf3266e93521d": {
          "model_module": "@jupyter-widgets/controls",
          "model_module_version": "1.5.0",
          "model_name": "ProgressStyleModel",
          "state": {
            "_model_module": "@jupyter-widgets/controls",
            "_model_module_version": "1.5.0",
            "_model_name": "ProgressStyleModel",
            "_view_count": null,
            "_view_module": "@jupyter-widgets/base",
            "_view_module_version": "1.2.0",
            "_view_name": "StyleView",
            "bar_color": null,
            "description_width": ""
          }
        },
        "b6fb0a529d234c7d98b846a865a17489": {
          "model_module": "@jupyter-widgets/controls",
          "model_module_version": "1.5.0",
          "model_name": "HBoxModel",
          "state": {
            "_dom_classes": [],
            "_model_module": "@jupyter-widgets/controls",
            "_model_module_version": "1.5.0",
            "_model_name": "HBoxModel",
            "_view_count": null,
            "_view_module": "@jupyter-widgets/controls",
            "_view_module_version": "1.5.0",
            "_view_name": "HBoxView",
            "box_style": "",
            "children": [
              "IPY_MODEL_db5e1ed2120e4a85a52972b3345af303",
              "IPY_MODEL_5f9dafeb1941405aa2c393d9e066860b",
              "IPY_MODEL_6af07e0d89a244abac82d09828dc2869"
            ],
            "layout": "IPY_MODEL_a66fd0b83de04e7aafe501aa4352d8e8"
          }
        },
        "baceb172fdc34b80ba45a10717187554": {
          "model_module": "@jupyter-widgets/controls",
          "model_module_version": "1.5.0",
          "model_name": "HTMLModel",
          "state": {
            "_dom_classes": [],
            "_model_module": "@jupyter-widgets/controls",
            "_model_module_version": "1.5.0",
            "_model_name": "HTMLModel",
            "_view_count": null,
            "_view_module": "@jupyter-widgets/controls",
            "_view_module_version": "1.5.0",
            "_view_name": "HTMLView",
            "description": "",
            "description_tooltip": null,
            "layout": "IPY_MODEL_7e5c364b10ec4056acca94c330a7724a",
            "placeholder": "​",
            "style": "IPY_MODEL_9aed802b79094bbe8620d1c8e04e09bf",
            "value": "Reading dataset with pandas: 100%"
          }
        },
        "bc6cc1985795496cb961f65ecf4eb467": {
          "model_module": "@jupyter-widgets/controls",
          "model_module_version": "1.5.0",
          "model_name": "FloatProgressModel",
          "state": {
            "_dom_classes": [],
            "_model_module": "@jupyter-widgets/controls",
            "_model_module_version": "1.5.0",
            "_model_name": "FloatProgressModel",
            "_view_count": null,
            "_view_module": "@jupyter-widgets/controls",
            "_view_module_version": "1.5.0",
            "_view_name": "ProgressView",
            "bar_style": "success",
            "description": "",
            "description_tooltip": null,
            "layout": "IPY_MODEL_aa9962f52a884896abd122a7698e1957",
            "max": 2,
            "min": 0,
            "orientation": "horizontal",
            "style": "IPY_MODEL_e5673845ed9c4bc2b14d761da1b9834e",
            "value": 2
          }
        },
        "c16040be88204c2da661fd914a23bcb3": {
          "model_module": "@jupyter-widgets/base",
          "model_module_version": "1.2.0",
          "model_name": "LayoutModel",
          "state": {
            "_model_module": "@jupyter-widgets/base",
            "_model_module_version": "1.2.0",
            "_model_name": "LayoutModel",
            "_view_count": null,
            "_view_module": "@jupyter-widgets/base",
            "_view_module_version": "1.2.0",
            "_view_name": "LayoutView",
            "align_content": null,
            "align_items": null,
            "align_self": null,
            "border": null,
            "bottom": null,
            "display": null,
            "flex": null,
            "flex_flow": null,
            "grid_area": null,
            "grid_auto_columns": null,
            "grid_auto_flow": null,
            "grid_auto_rows": null,
            "grid_column": null,
            "grid_gap": null,
            "grid_row": null,
            "grid_template_areas": null,
            "grid_template_columns": null,
            "grid_template_rows": null,
            "height": null,
            "justify_content": null,
            "justify_items": null,
            "left": null,
            "margin": null,
            "max_height": null,
            "max_width": null,
            "min_height": null,
            "min_width": null,
            "object_fit": null,
            "object_position": null,
            "order": null,
            "overflow": null,
            "overflow_x": null,
            "overflow_y": null,
            "padding": null,
            "right": null,
            "top": null,
            "visibility": null,
            "width": null
          }
        },
        "c62802fe82394cee8d190cdcd84a97a2": {
          "model_module": "@jupyter-widgets/base",
          "model_module_version": "1.2.0",
          "model_name": "LayoutModel",
          "state": {
            "_model_module": "@jupyter-widgets/base",
            "_model_module_version": "1.2.0",
            "_model_name": "LayoutModel",
            "_view_count": null,
            "_view_module": "@jupyter-widgets/base",
            "_view_module_version": "1.2.0",
            "_view_name": "LayoutView",
            "align_content": null,
            "align_items": null,
            "align_self": null,
            "border": null,
            "bottom": null,
            "display": null,
            "flex": null,
            "flex_flow": null,
            "grid_area": null,
            "grid_auto_columns": null,
            "grid_auto_flow": null,
            "grid_auto_rows": null,
            "grid_column": null,
            "grid_gap": null,
            "grid_row": null,
            "grid_template_areas": null,
            "grid_template_columns": null,
            "grid_template_rows": null,
            "height": null,
            "justify_content": null,
            "justify_items": null,
            "left": null,
            "margin": null,
            "max_height": null,
            "max_width": null,
            "min_height": null,
            "min_width": null,
            "object_fit": null,
            "object_position": null,
            "order": null,
            "overflow": null,
            "overflow_x": null,
            "overflow_y": null,
            "padding": null,
            "right": null,
            "top": null,
            "visibility": null,
            "width": null
          }
        },
        "c7afbc455ae34600b172a9b4d441f3c1": {
          "model_module": "@jupyter-widgets/controls",
          "model_module_version": "1.5.0",
          "model_name": "HTMLModel",
          "state": {
            "_dom_classes": [],
            "_model_module": "@jupyter-widgets/controls",
            "_model_module_version": "1.5.0",
            "_model_name": "HTMLModel",
            "_view_count": null,
            "_view_module": "@jupyter-widgets/controls",
            "_view_module_version": "1.5.0",
            "_view_name": "HTMLView",
            "description": "",
            "description_tooltip": null,
            "layout": "IPY_MODEL_7021e2ba55624ef0b3918cb938b74d49",
            "placeholder": "​",
            "style": "IPY_MODEL_2c3841948a93471fa988438628dda098",
            "value": " 2/2 [00:02&lt;00:00,  1.38s/it]"
          }
        },
        "c9191e2ac1d441048a3c57ada7173996": {
          "model_module": "@jupyter-widgets/base",
          "model_module_version": "1.2.0",
          "model_name": "LayoutModel",
          "state": {
            "_model_module": "@jupyter-widgets/base",
            "_model_module_version": "1.2.0",
            "_model_name": "LayoutModel",
            "_view_count": null,
            "_view_module": "@jupyter-widgets/base",
            "_view_module_version": "1.2.0",
            "_view_name": "LayoutView",
            "align_content": null,
            "align_items": null,
            "align_self": null,
            "border": null,
            "bottom": null,
            "display": null,
            "flex": null,
            "flex_flow": null,
            "grid_area": null,
            "grid_auto_columns": null,
            "grid_auto_flow": null,
            "grid_auto_rows": null,
            "grid_column": null,
            "grid_gap": null,
            "grid_row": null,
            "grid_template_areas": null,
            "grid_template_columns": null,
            "grid_template_rows": null,
            "height": null,
            "justify_content": null,
            "justify_items": null,
            "left": null,
            "margin": null,
            "max_height": null,
            "max_width": null,
            "min_height": null,
            "min_width": null,
            "object_fit": null,
            "object_position": null,
            "order": null,
            "overflow": null,
            "overflow_x": null,
            "overflow_y": null,
            "padding": null,
            "right": null,
            "top": null,
            "visibility": null,
            "width": null
          }
        },
        "c93eb87035c54d0484604869630974d4": {
          "model_module": "@jupyter-widgets/base",
          "model_module_version": "1.2.0",
          "model_name": "LayoutModel",
          "state": {
            "_model_module": "@jupyter-widgets/base",
            "_model_module_version": "1.2.0",
            "_model_name": "LayoutModel",
            "_view_count": null,
            "_view_module": "@jupyter-widgets/base",
            "_view_module_version": "1.2.0",
            "_view_name": "LayoutView",
            "align_content": null,
            "align_items": null,
            "align_self": null,
            "border": null,
            "bottom": null,
            "display": null,
            "flex": null,
            "flex_flow": null,
            "grid_area": null,
            "grid_auto_columns": null,
            "grid_auto_flow": null,
            "grid_auto_rows": null,
            "grid_column": null,
            "grid_gap": null,
            "grid_row": null,
            "grid_template_areas": null,
            "grid_template_columns": null,
            "grid_template_rows": null,
            "height": null,
            "justify_content": null,
            "justify_items": null,
            "left": null,
            "margin": null,
            "max_height": null,
            "max_width": null,
            "min_height": null,
            "min_width": null,
            "object_fit": null,
            "object_position": null,
            "order": null,
            "overflow": null,
            "overflow_x": null,
            "overflow_y": null,
            "padding": null,
            "right": null,
            "top": null,
            "visibility": null,
            "width": null
          }
        },
        "ca48e3bb4c93440ea33c99bd789e676d": {
          "model_module": "@jupyter-widgets/base",
          "model_module_version": "1.2.0",
          "model_name": "LayoutModel",
          "state": {
            "_model_module": "@jupyter-widgets/base",
            "_model_module_version": "1.2.0",
            "_model_name": "LayoutModel",
            "_view_count": null,
            "_view_module": "@jupyter-widgets/base",
            "_view_module_version": "1.2.0",
            "_view_name": "LayoutView",
            "align_content": null,
            "align_items": null,
            "align_self": null,
            "border": null,
            "bottom": null,
            "display": null,
            "flex": null,
            "flex_flow": null,
            "grid_area": null,
            "grid_auto_columns": null,
            "grid_auto_flow": null,
            "grid_auto_rows": null,
            "grid_column": null,
            "grid_gap": null,
            "grid_row": null,
            "grid_template_areas": null,
            "grid_template_columns": null,
            "grid_template_rows": null,
            "height": null,
            "justify_content": null,
            "justify_items": null,
            "left": null,
            "margin": null,
            "max_height": null,
            "max_width": null,
            "min_height": null,
            "min_width": null,
            "object_fit": null,
            "object_position": null,
            "order": null,
            "overflow": null,
            "overflow_x": null,
            "overflow_y": null,
            "padding": null,
            "right": null,
            "top": null,
            "visibility": null,
            "width": null
          }
        },
        "cb06c8254ea74b62b9a32d944cb5c541": {
          "model_module": "@jupyter-widgets/controls",
          "model_module_version": "1.5.0",
          "model_name": "HTMLModel",
          "state": {
            "_dom_classes": [],
            "_model_module": "@jupyter-widgets/controls",
            "_model_module_version": "1.5.0",
            "_model_name": "HTMLModel",
            "_view_count": null,
            "_view_module": "@jupyter-widgets/controls",
            "_view_module_version": "1.5.0",
            "_view_name": "HTMLView",
            "description": "",
            "description_tooltip": null,
            "layout": "IPY_MODEL_d0fddaa222114b7aa42c214dcc5204f5",
            "placeholder": "​",
            "style": "IPY_MODEL_7a27edd16bf84648a0df7eccb8bb4062",
            "value": " 6/6 [00:45&lt;00:00,  7.76s/it]"
          }
        },
        "cd84c50ac7e74284b01dcb8de76a7850": {
          "model_module": "@jupyter-widgets/base",
          "model_module_version": "1.2.0",
          "model_name": "LayoutModel",
          "state": {
            "_model_module": "@jupyter-widgets/base",
            "_model_module_version": "1.2.0",
            "_model_name": "LayoutModel",
            "_view_count": null,
            "_view_module": "@jupyter-widgets/base",
            "_view_module_version": "1.2.0",
            "_view_name": "LayoutView",
            "align_content": null,
            "align_items": null,
            "align_self": null,
            "border": null,
            "bottom": null,
            "display": null,
            "flex": null,
            "flex_flow": null,
            "grid_area": null,
            "grid_auto_columns": null,
            "grid_auto_flow": null,
            "grid_auto_rows": null,
            "grid_column": null,
            "grid_gap": null,
            "grid_row": null,
            "grid_template_areas": null,
            "grid_template_columns": null,
            "grid_template_rows": null,
            "height": null,
            "justify_content": null,
            "justify_items": null,
            "left": null,
            "margin": null,
            "max_height": null,
            "max_width": null,
            "min_height": null,
            "min_width": null,
            "object_fit": null,
            "object_position": null,
            "order": null,
            "overflow": null,
            "overflow_x": null,
            "overflow_y": null,
            "padding": null,
            "right": null,
            "top": null,
            "visibility": null,
            "width": null
          }
        },
        "d0fddaa222114b7aa42c214dcc5204f5": {
          "model_module": "@jupyter-widgets/base",
          "model_module_version": "1.2.0",
          "model_name": "LayoutModel",
          "state": {
            "_model_module": "@jupyter-widgets/base",
            "_model_module_version": "1.2.0",
            "_model_name": "LayoutModel",
            "_view_count": null,
            "_view_module": "@jupyter-widgets/base",
            "_view_module_version": "1.2.0",
            "_view_name": "LayoutView",
            "align_content": null,
            "align_items": null,
            "align_self": null,
            "border": null,
            "bottom": null,
            "display": null,
            "flex": null,
            "flex_flow": null,
            "grid_area": null,
            "grid_auto_columns": null,
            "grid_auto_flow": null,
            "grid_auto_rows": null,
            "grid_column": null,
            "grid_gap": null,
            "grid_row": null,
            "grid_template_areas": null,
            "grid_template_columns": null,
            "grid_template_rows": null,
            "height": null,
            "justify_content": null,
            "justify_items": null,
            "left": null,
            "margin": null,
            "max_height": null,
            "max_width": null,
            "min_height": null,
            "min_width": null,
            "object_fit": null,
            "object_position": null,
            "order": null,
            "overflow": null,
            "overflow_x": null,
            "overflow_y": null,
            "padding": null,
            "right": null,
            "top": null,
            "visibility": null,
            "width": null
          }
        },
        "d2b65430fe6f4760a23f613f2d83751e": {
          "model_module": "@jupyter-widgets/controls",
          "model_module_version": "1.5.0",
          "model_name": "DescriptionStyleModel",
          "state": {
            "_model_module": "@jupyter-widgets/controls",
            "_model_module_version": "1.5.0",
            "_model_name": "DescriptionStyleModel",
            "_view_count": null,
            "_view_module": "@jupyter-widgets/base",
            "_view_module_version": "1.2.0",
            "_view_name": "StyleView",
            "description_width": ""
          }
        },
        "d2b6da863a1c4533a4244c7220281299": {
          "model_module": "@jupyter-widgets/controls",
          "model_module_version": "1.5.0",
          "model_name": "DescriptionStyleModel",
          "state": {
            "_model_module": "@jupyter-widgets/controls",
            "_model_module_version": "1.5.0",
            "_model_name": "DescriptionStyleModel",
            "_view_count": null,
            "_view_module": "@jupyter-widgets/base",
            "_view_module_version": "1.2.0",
            "_view_name": "StyleView",
            "description_width": ""
          }
        },
        "d36eff222e6941778ce457dddd7c558f": {
          "model_module": "@jupyter-widgets/base",
          "model_module_version": "1.2.0",
          "model_name": "LayoutModel",
          "state": {
            "_model_module": "@jupyter-widgets/base",
            "_model_module_version": "1.2.0",
            "_model_name": "LayoutModel",
            "_view_count": null,
            "_view_module": "@jupyter-widgets/base",
            "_view_module_version": "1.2.0",
            "_view_name": "LayoutView",
            "align_content": null,
            "align_items": null,
            "align_self": null,
            "border": null,
            "bottom": null,
            "display": null,
            "flex": null,
            "flex_flow": null,
            "grid_area": null,
            "grid_auto_columns": null,
            "grid_auto_flow": null,
            "grid_auto_rows": null,
            "grid_column": null,
            "grid_gap": null,
            "grid_row": null,
            "grid_template_areas": null,
            "grid_template_columns": null,
            "grid_template_rows": null,
            "height": null,
            "justify_content": null,
            "justify_items": null,
            "left": null,
            "margin": null,
            "max_height": null,
            "max_width": null,
            "min_height": null,
            "min_width": null,
            "object_fit": null,
            "object_position": null,
            "order": null,
            "overflow": null,
            "overflow_x": null,
            "overflow_y": null,
            "padding": null,
            "right": null,
            "top": null,
            "visibility": null,
            "width": null
          }
        },
        "d6436b117b0245f3a3585a5a8d662673": {
          "model_module": "@jupyter-widgets/base",
          "model_module_version": "1.2.0",
          "model_name": "LayoutModel",
          "state": {
            "_model_module": "@jupyter-widgets/base",
            "_model_module_version": "1.2.0",
            "_model_name": "LayoutModel",
            "_view_count": null,
            "_view_module": "@jupyter-widgets/base",
            "_view_module_version": "1.2.0",
            "_view_name": "LayoutView",
            "align_content": null,
            "align_items": null,
            "align_self": null,
            "border": null,
            "bottom": null,
            "display": null,
            "flex": null,
            "flex_flow": null,
            "grid_area": null,
            "grid_auto_columns": null,
            "grid_auto_flow": null,
            "grid_auto_rows": null,
            "grid_column": null,
            "grid_gap": null,
            "grid_row": null,
            "grid_template_areas": null,
            "grid_template_columns": null,
            "grid_template_rows": null,
            "height": null,
            "justify_content": null,
            "justify_items": null,
            "left": null,
            "margin": null,
            "max_height": null,
            "max_width": null,
            "min_height": null,
            "min_width": null,
            "object_fit": null,
            "object_position": null,
            "order": null,
            "overflow": null,
            "overflow_x": null,
            "overflow_y": null,
            "padding": null,
            "right": null,
            "top": null,
            "visibility": null,
            "width": null
          }
        },
        "d70db0bf2c82462a949ac39492da56f2": {
          "model_module": "@jupyter-widgets/controls",
          "model_module_version": "1.5.0",
          "model_name": "DescriptionStyleModel",
          "state": {
            "_model_module": "@jupyter-widgets/controls",
            "_model_module_version": "1.5.0",
            "_model_name": "DescriptionStyleModel",
            "_view_count": null,
            "_view_module": "@jupyter-widgets/base",
            "_view_module_version": "1.2.0",
            "_view_name": "StyleView",
            "description_width": ""
          }
        },
        "db5e1ed2120e4a85a52972b3345af303": {
          "model_module": "@jupyter-widgets/controls",
          "model_module_version": "1.5.0",
          "model_name": "HTMLModel",
          "state": {
            "_dom_classes": [],
            "_model_module": "@jupyter-widgets/controls",
            "_model_module_version": "1.5.0",
            "_model_name": "HTMLModel",
            "_view_count": null,
            "_view_module": "@jupyter-widgets/controls",
            "_view_module_version": "1.5.0",
            "_view_name": "HTMLView",
            "description": "",
            "description_tooltip": null,
            "layout": "IPY_MODEL_f979d8c2bd38496caabb29df0566730c",
            "placeholder": "​",
            "style": "IPY_MODEL_1217eff6c22e4f78801c0a4eb076f638",
            "value": "Count statistics on test data: 100%"
          }
        },
        "e2acdae802f244b3aeda174694f434d1": {
          "model_module": "@jupyter-widgets/controls",
          "model_module_version": "1.5.0",
          "model_name": "HBoxModel",
          "state": {
            "_dom_classes": [],
            "_model_module": "@jupyter-widgets/controls",
            "_model_module_version": "1.5.0",
            "_model_name": "HBoxModel",
            "_view_count": null,
            "_view_module": "@jupyter-widgets/controls",
            "_view_module_version": "1.5.0",
            "_view_name": "HBoxView",
            "box_style": "",
            "children": [
              "IPY_MODEL_70eff865165f4cb49b208ea6c1ad9b2f",
              "IPY_MODEL_b513be2972ea4aaba927043c8947e2ae",
              "IPY_MODEL_506bd9ce83814d30bdf9aa815ed54658"
            ],
            "layout": "IPY_MODEL_6c0377fae6e5408a9c920d8d7320f4f8"
          }
        },
        "e5673845ed9c4bc2b14d761da1b9834e": {
          "model_module": "@jupyter-widgets/controls",
          "model_module_version": "1.5.0",
          "model_name": "ProgressStyleModel",
          "state": {
            "_model_module": "@jupyter-widgets/controls",
            "_model_module_version": "1.5.0",
            "_model_name": "ProgressStyleModel",
            "_view_count": null,
            "_view_module": "@jupyter-widgets/base",
            "_view_module_version": "1.2.0",
            "_view_name": "StyleView",
            "bar_color": null,
            "description_width": ""
          }
        },
        "e58d4402d27c4517967c2cbb27331f92": {
          "model_module": "@jupyter-widgets/base",
          "model_module_version": "1.2.0",
          "model_name": "LayoutModel",
          "state": {
            "_model_module": "@jupyter-widgets/base",
            "_model_module_version": "1.2.0",
            "_model_name": "LayoutModel",
            "_view_count": null,
            "_view_module": "@jupyter-widgets/base",
            "_view_module_version": "1.2.0",
            "_view_name": "LayoutView",
            "align_content": null,
            "align_items": null,
            "align_self": null,
            "border": null,
            "bottom": null,
            "display": null,
            "flex": null,
            "flex_flow": null,
            "grid_area": null,
            "grid_auto_columns": null,
            "grid_auto_flow": null,
            "grid_auto_rows": null,
            "grid_column": null,
            "grid_gap": null,
            "grid_row": null,
            "grid_template_areas": null,
            "grid_template_columns": null,
            "grid_template_rows": null,
            "height": null,
            "justify_content": null,
            "justify_items": null,
            "left": null,
            "margin": null,
            "max_height": null,
            "max_width": null,
            "min_height": null,
            "min_width": null,
            "object_fit": null,
            "object_position": null,
            "order": null,
            "overflow": null,
            "overflow_x": null,
            "overflow_y": null,
            "padding": null,
            "right": null,
            "top": null,
            "visibility": null,
            "width": null
          }
        },
        "e9a4aa10c6b24c359fd249d39e482b76": {
          "model_module": "@jupyter-widgets/base",
          "model_module_version": "1.2.0",
          "model_name": "LayoutModel",
          "state": {
            "_model_module": "@jupyter-widgets/base",
            "_model_module_version": "1.2.0",
            "_model_name": "LayoutModel",
            "_view_count": null,
            "_view_module": "@jupyter-widgets/base",
            "_view_module_version": "1.2.0",
            "_view_name": "LayoutView",
            "align_content": null,
            "align_items": null,
            "align_self": null,
            "border": null,
            "bottom": null,
            "display": null,
            "flex": null,
            "flex_flow": null,
            "grid_area": null,
            "grid_auto_columns": null,
            "grid_auto_flow": null,
            "grid_auto_rows": null,
            "grid_column": null,
            "grid_gap": null,
            "grid_row": null,
            "grid_template_areas": null,
            "grid_template_columns": null,
            "grid_template_rows": null,
            "height": null,
            "justify_content": null,
            "justify_items": null,
            "left": null,
            "margin": null,
            "max_height": null,
            "max_width": null,
            "min_height": null,
            "min_width": null,
            "object_fit": null,
            "object_position": null,
            "order": null,
            "overflow": null,
            "overflow_x": null,
            "overflow_y": null,
            "padding": null,
            "right": null,
            "top": null,
            "visibility": null,
            "width": null
          }
        },
        "eb70cec476174d42a1c5147832d2f7f7": {
          "model_module": "@jupyter-widgets/controls",
          "model_module_version": "1.5.0",
          "model_name": "DescriptionStyleModel",
          "state": {
            "_model_module": "@jupyter-widgets/controls",
            "_model_module_version": "1.5.0",
            "_model_name": "DescriptionStyleModel",
            "_view_count": null,
            "_view_module": "@jupyter-widgets/base",
            "_view_module_version": "1.2.0",
            "_view_name": "StyleView",
            "description_width": ""
          }
        },
        "ec19d34a5435496f8cd6d2cc8ee9b586": {
          "model_module": "@jupyter-widgets/controls",
          "model_module_version": "1.5.0",
          "model_name": "HBoxModel",
          "state": {
            "_dom_classes": [],
            "_model_module": "@jupyter-widgets/controls",
            "_model_module_version": "1.5.0",
            "_model_name": "HBoxModel",
            "_view_count": null,
            "_view_module": "@jupyter-widgets/controls",
            "_view_module_version": "1.5.0",
            "_view_name": "HBoxView",
            "box_style": "",
            "children": [
              "IPY_MODEL_995874a3d95d433394b5f6059a180dd1",
              "IPY_MODEL_163f11b27bc5453bb95598a19a8fe1bb",
              "IPY_MODEL_926f766295534eada2ebf369c5fa2cfd"
            ],
            "layout": "IPY_MODEL_d36eff222e6941778ce457dddd7c558f"
          }
        },
        "ef39a40ac035489b860ff2ec9e76e930": {
          "model_module": "@jupyter-widgets/base",
          "model_module_version": "1.2.0",
          "model_name": "LayoutModel",
          "state": {
            "_model_module": "@jupyter-widgets/base",
            "_model_module_version": "1.2.0",
            "_model_name": "LayoutModel",
            "_view_count": null,
            "_view_module": "@jupyter-widgets/base",
            "_view_module_version": "1.2.0",
            "_view_name": "LayoutView",
            "align_content": null,
            "align_items": null,
            "align_self": null,
            "border": null,
            "bottom": null,
            "display": null,
            "flex": null,
            "flex_flow": null,
            "grid_area": null,
            "grid_auto_columns": null,
            "grid_auto_flow": null,
            "grid_auto_rows": null,
            "grid_column": null,
            "grid_gap": null,
            "grid_row": null,
            "grid_template_areas": null,
            "grid_template_columns": null,
            "grid_template_rows": null,
            "height": null,
            "justify_content": null,
            "justify_items": null,
            "left": null,
            "margin": null,
            "max_height": null,
            "max_width": null,
            "min_height": null,
            "min_width": null,
            "object_fit": null,
            "object_position": null,
            "order": null,
            "overflow": null,
            "overflow_x": null,
            "overflow_y": null,
            "padding": null,
            "right": null,
            "top": null,
            "visibility": null,
            "width": null
          }
        },
        "f35e0469710f4ecc8f616144c76e8c5b": {
          "model_module": "@jupyter-widgets/controls",
          "model_module_version": "1.5.0",
          "model_name": "DescriptionStyleModel",
          "state": {
            "_model_module": "@jupyter-widgets/controls",
            "_model_module_version": "1.5.0",
            "_model_name": "DescriptionStyleModel",
            "_view_count": null,
            "_view_module": "@jupyter-widgets/base",
            "_view_module_version": "1.2.0",
            "_view_name": "StyleView",
            "description_width": ""
          }
        },
        "f6d19ae9f9d04bc69dfbade1182247bf": {
          "model_module": "@jupyter-widgets/base",
          "model_module_version": "1.2.0",
          "model_name": "LayoutModel",
          "state": {
            "_model_module": "@jupyter-widgets/base",
            "_model_module_version": "1.2.0",
            "_model_name": "LayoutModel",
            "_view_count": null,
            "_view_module": "@jupyter-widgets/base",
            "_view_module_version": "1.2.0",
            "_view_name": "LayoutView",
            "align_content": null,
            "align_items": null,
            "align_self": null,
            "border": null,
            "bottom": null,
            "display": null,
            "flex": null,
            "flex_flow": null,
            "grid_area": null,
            "grid_auto_columns": null,
            "grid_auto_flow": null,
            "grid_auto_rows": null,
            "grid_column": null,
            "grid_gap": null,
            "grid_row": null,
            "grid_template_areas": null,
            "grid_template_columns": null,
            "grid_template_rows": null,
            "height": null,
            "justify_content": null,
            "justify_items": null,
            "left": null,
            "margin": null,
            "max_height": null,
            "max_width": null,
            "min_height": null,
            "min_width": null,
            "object_fit": null,
            "object_position": null,
            "order": null,
            "overflow": null,
            "overflow_x": null,
            "overflow_y": null,
            "padding": null,
            "right": null,
            "top": null,
            "visibility": null,
            "width": null
          }
        },
        "f979d8c2bd38496caabb29df0566730c": {
          "model_module": "@jupyter-widgets/base",
          "model_module_version": "1.2.0",
          "model_name": "LayoutModel",
          "state": {
            "_model_module": "@jupyter-widgets/base",
            "_model_module_version": "1.2.0",
            "_model_name": "LayoutModel",
            "_view_count": null,
            "_view_module": "@jupyter-widgets/base",
            "_view_module_version": "1.2.0",
            "_view_name": "LayoutView",
            "align_content": null,
            "align_items": null,
            "align_self": null,
            "border": null,
            "bottom": null,
            "display": null,
            "flex": null,
            "flex_flow": null,
            "grid_area": null,
            "grid_auto_columns": null,
            "grid_auto_flow": null,
            "grid_auto_rows": null,
            "grid_column": null,
            "grid_gap": null,
            "grid_row": null,
            "grid_template_areas": null,
            "grid_template_columns": null,
            "grid_template_rows": null,
            "height": null,
            "justify_content": null,
            "justify_items": null,
            "left": null,
            "margin": null,
            "max_height": null,
            "max_width": null,
            "min_height": null,
            "min_width": null,
            "object_fit": null,
            "object_position": null,
            "order": null,
            "overflow": null,
            "overflow_x": null,
            "overflow_y": null,
            "padding": null,
            "right": null,
            "top": null,
            "visibility": null,
            "width": null
          }
        },
        "fbf1efed6b7e497b84cb2e957e0e685c": {
          "model_module": "@jupyter-widgets/controls",
          "model_module_version": "1.5.0",
          "model_name": "HTMLModel",
          "state": {
            "_dom_classes": [],
            "_model_module": "@jupyter-widgets/controls",
            "_model_module_version": "1.5.0",
            "_model_name": "HTMLModel",
            "_view_count": null,
            "_view_module": "@jupyter-widgets/controls",
            "_view_module_version": "1.5.0",
            "_view_name": "HTMLView",
            "description": "",
            "description_tooltip": null,
            "layout": "IPY_MODEL_c62802fe82394cee8d190cdcd84a97a2",
            "placeholder": "​",
            "style": "IPY_MODEL_b4b3493821db440bbbe5c3d8c8b7d0d7",
            "value": " 2/2 [00:03&lt;00:00,  1.86s/it]"
          }
        },
        "fd1bcc9dcdac4efe90f82e22f800e48c": {
          "model_module": "@jupyter-widgets/controls",
          "model_module_version": "1.5.0",
          "model_name": "ProgressStyleModel",
          "state": {
            "_model_module": "@jupyter-widgets/controls",
            "_model_module_version": "1.5.0",
            "_model_name": "ProgressStyleModel",
            "_view_count": null,
            "_view_module": "@jupyter-widgets/base",
            "_view_module_version": "1.2.0",
            "_view_name": "StyleView",
            "bar_color": null,
            "description_width": ""
          }
        }
      }
    }
  },
  "nbformat": 4,
  "nbformat_minor": 0
}
